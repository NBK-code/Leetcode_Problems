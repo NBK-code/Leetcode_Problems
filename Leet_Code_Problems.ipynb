{
  "nbformat": 4,
  "nbformat_minor": 0,
  "metadata": {
    "colab": {
      "name": "Leet_Code_Problems.ipynb",
      "provenance": [],
      "collapsed_sections": [],
      "authorship_tag": "ABX9TyPESkDsRGX5okVEtW8Tni6+",
      "include_colab_link": true
    },
    "kernelspec": {
      "name": "python3",
      "display_name": "Python 3"
    },
    "language_info": {
      "name": "python"
    }
  },
  "cells": [
    {
      "cell_type": "markdown",
      "metadata": {
        "id": "view-in-github",
        "colab_type": "text"
      },
      "source": [
        "<a href=\"https://colab.research.google.com/github/NBK-code/Leetcode_Problems/blob/main/Leet_Code_Problems.ipynb\" target=\"_parent\"><img src=\"https://colab.research.google.com/assets/colab-badge.svg\" alt=\"Open In Colab\"/></a>"
      ]
    },
    {
      "cell_type": "markdown",
      "metadata": {
        "id": "LP7tN4N3SmlU"
      },
      "source": [
        "## Code Tidbits"
      ]
    },
    {
      "cell_type": "code",
      "metadata": {
        "colab": {
          "base_uri": "https://localhost:8080/"
        },
        "id": "besc-LuDS3RD",
        "outputId": "60b1dd0e-8c3d-4565-dc2f-56abe2f59b5a"
      },
      "source": [
        "a = [1,2,3,4]\n",
        "print(a)\n",
        "\n",
        "a.append(5)\n",
        "print(a)\n",
        "\n",
        "a.pop()\n",
        "print(a)\n",
        "\n",
        "a.pop(0)\n",
        "print(a)\n",
        "\n",
        "a.insert(0,1)\n",
        "print(a)"
      ],
      "execution_count": null,
      "outputs": [
        {
          "output_type": "stream",
          "text": [
            "[1, 2, 3, 4]\n",
            "[1, 2, 3, 4, 5]\n",
            "[1, 2, 3, 4]\n",
            "[2, 3, 4]\n",
            "[1, 2, 3, 4]\n"
          ],
          "name": "stdout"
        }
      ]
    },
    {
      "cell_type": "code",
      "metadata": {
        "colab": {
          "base_uri": "https://localhost:8080/"
        },
        "id": "FfMIomwfj72U",
        "outputId": "4cf877c5-75e0-4530-bd2e-43bc48cd742b"
      },
      "source": [
        "a = '1234'\n",
        "print(a)\n",
        "\n",
        "a += '5'\n",
        "print(a)\n",
        "\n",
        "a = a[:-1]\n",
        "print(a)\n",
        "\n",
        "a = a[1:]\n",
        "print(a)\n",
        "\n",
        "a = '1' + a\n",
        "print(a)"
      ],
      "execution_count": null,
      "outputs": [
        {
          "output_type": "stream",
          "text": [
            "1234\n",
            "12345\n",
            "1234\n",
            "234\n",
            "1234\n"
          ],
          "name": "stdout"
        }
      ]
    },
    {
      "cell_type": "code",
      "metadata": {
        "colab": {
          "base_uri": "https://localhost:8080/"
        },
        "id": "mhHK30rdLJ_k",
        "outputId": "c83747c8-e318-40e0-9166-9bcc6904cdad"
      },
      "source": [
        "nums = [2,3,7,9,5]\n",
        "max(nums)"
      ],
      "execution_count": null,
      "outputs": [
        {
          "output_type": "execute_result",
          "data": {
            "text/plain": [
              "9"
            ]
          },
          "metadata": {
            "tags": []
          },
          "execution_count": 4
        }
      ]
    },
    {
      "cell_type": "code",
      "metadata": {
        "colab": {
          "base_uri": "https://localhost:8080/"
        },
        "id": "oUp9Mt4xdwu4",
        "outputId": "01929f16-5cf7-4521-d8b8-351663a2c762"
      },
      "source": [
        "nums = [2,3,7,9,5]\n",
        "nums.index(7)"
      ],
      "execution_count": null,
      "outputs": [
        {
          "output_type": "execute_result",
          "data": {
            "text/plain": [
              "2"
            ]
          },
          "metadata": {},
          "execution_count": 1
        }
      ]
    },
    {
      "cell_type": "code",
      "metadata": {
        "colab": {
          "base_uri": "https://localhost:8080/"
        },
        "id": "KxTgaZ6fo4r1",
        "outputId": "9f392c92-8f9f-4fdb-d4b1-d98398760681"
      },
      "source": [
        "s = \"khfj8654kj^%&\"\n",
        "\n",
        "for i in range(len(s)):\n",
        "  if not s[i].isalnum():\n",
        "    print(s[i])"
      ],
      "execution_count": null,
      "outputs": [
        {
          "output_type": "stream",
          "name": "stdout",
          "text": [
            "^\n",
            "%\n",
            "&\n"
          ]
        }
      ]
    },
    {
      "cell_type": "markdown",
      "metadata": {
        "id": "XvcRCA9IjJcc"
      },
      "source": [
        "Lambda function"
      ]
    },
    {
      "cell_type": "code",
      "metadata": {
        "colab": {
          "base_uri": "https://localhost:8080/"
        },
        "id": "mLAfwKEjixn-",
        "outputId": "0a4372f3-536c-448c-907d-de9a6f1d0101"
      },
      "source": [
        "def square(x):\n",
        "  return x*x\n",
        "\n",
        "res = square(3)\n",
        "print(res)"
      ],
      "execution_count": null,
      "outputs": [
        {
          "output_type": "stream",
          "name": "stdout",
          "text": [
            "9\n"
          ]
        }
      ]
    },
    {
      "cell_type": "code",
      "metadata": {
        "colab": {
          "base_uri": "https://localhost:8080/"
        },
        "id": "vGjqIF7Ai8mb",
        "outputId": "1522057b-9a6a-4eeb-b247-c0915668524b"
      },
      "source": [
        "square = lambda x : x*x\n",
        "\n",
        "res = square(3)\n",
        "print(res)"
      ],
      "execution_count": null,
      "outputs": [
        {
          "output_type": "stream",
          "name": "stdout",
          "text": [
            "9\n"
          ]
        }
      ]
    },
    {
      "cell_type": "code",
      "metadata": {
        "colab": {
          "base_uri": "https://localhost:8080/"
        },
        "id": "USbU7fUxjVUc",
        "outputId": "3f243333-8894-4918-f82b-e2f50d6f3342"
      },
      "source": [
        "f = lambda a,b : a+b\n",
        "\n",
        "res = f(2,3)\n",
        "print(res)"
      ],
      "execution_count": null,
      "outputs": [
        {
          "output_type": "stream",
          "name": "stdout",
          "text": [
            "5\n"
          ]
        }
      ]
    },
    {
      "cell_type": "markdown",
      "metadata": {
        "id": "zKHM36jrFtmV"
      },
      "source": [
        "comprehension"
      ]
    },
    {
      "cell_type": "code",
      "metadata": {
        "colab": {
          "base_uri": "https://localhost:8080/"
        },
        "id": "T6006LKWFvxF",
        "outputId": "94643fc1-9564-4025-e8dd-82e8f7dfeeb8"
      },
      "source": [
        "preorder = [6,4,2,1,5,4,3,9,0,7]\n",
        "[item for item in preorder if item < preorder[0]]"
      ],
      "execution_count": null,
      "outputs": [
        {
          "output_type": "execute_result",
          "data": {
            "text/plain": [
              "[4, 2, 1, 5, 4, 3, 0]"
            ]
          },
          "metadata": {},
          "execution_count": 2
        }
      ]
    },
    {
      "cell_type": "markdown",
      "metadata": {
        "id": "8VFUDNlwcGlq"
      },
      "source": [
        "Heap"
      ]
    },
    {
      "cell_type": "code",
      "metadata": {
        "colab": {
          "base_uri": "https://localhost:8080/"
        },
        "id": "7I0SuEXRcIJ9",
        "outputId": "786f5500-59ec-4a3b-de57-f9f77d607672"
      },
      "source": [
        "import heapq\n",
        "\n",
        "H = [21,1,45,78,3,5]\n",
        "print(H)\n",
        "\n",
        "heapq.heapify(H)\n",
        "print(H)\n",
        "\n",
        "heapq.heappush(H, 0)\n",
        "print(H)\n",
        "# O(log N)\n",
        "\n",
        "heapq.heappop(H)\n",
        "print(H)\n",
        "# O(log N)"
      ],
      "execution_count": null,
      "outputs": [
        {
          "output_type": "stream",
          "name": "stdout",
          "text": [
            "[21, 1, 45, 78, 3, 5]\n",
            "[1, 3, 5, 78, 21, 45]\n",
            "[0, 3, 1, 78, 21, 45, 5]\n",
            "[1, 3, 5, 78, 21, 45]\n"
          ]
        }
      ]
    },
    {
      "cell_type": "markdown",
      "metadata": {
        "id": "RO-hkmoxvvlz"
      },
      "source": [
        "## Basic Logic"
      ]
    },
    {
      "cell_type": "markdown",
      "metadata": {
        "id": "ska6BUl2v1op"
      },
      "source": [
        "334. Increasing Triplet Subsequence"
      ]
    },
    {
      "cell_type": "code",
      "metadata": {
        "id": "drO_icLxvz_4"
      },
      "source": [
        "class Solution(object):\n",
        "    def increasingTriplet(self, nums):\n",
        "        \"\"\"\n",
        "        :type nums: List[int]\n",
        "        :rtype: bool\n",
        "        \"\"\"\n",
        "        \n",
        "        a = 100000000000000\n",
        "        \n",
        "        b = 100000000000000\n",
        "        \n",
        "        \n",
        "        \n",
        "        for i in range(len(nums)):\n",
        "            \n",
        "            if nums[i] < a:\n",
        "                a = nums[i]\n",
        "                \n",
        "            if nums[i] > a and nums[i] < b:\n",
        "                b = nums[i]\n",
        "                \n",
        "            if nums[i] > b:\n",
        "                return True\n",
        "            \n",
        "        return False"
      ],
      "execution_count": null,
      "outputs": []
    },
    {
      "cell_type": "markdown",
      "metadata": {
        "id": "7JZudu9a3hje"
      },
      "source": [
        "## Arrays"
      ]
    },
    {
      "cell_type": "markdown",
      "metadata": {
        "id": "Sm1aueVjQqn_"
      },
      "source": [
        "217. Contains Duplicate"
      ]
    },
    {
      "cell_type": "code",
      "metadata": {
        "id": "TUsNDrHcQvv5"
      },
      "source": [
        "class Solution(object):\n",
        "    def containsDuplicate(self, nums):\n",
        "        \"\"\"\n",
        "        :type nums: List[int]\n",
        "        :rtype: bool\n",
        "        \"\"\"         \n",
        "        \n",
        "        return len(nums) != len(set(nums))"
      ],
      "execution_count": null,
      "outputs": []
    },
    {
      "cell_type": "markdown",
      "metadata": {
        "id": "13fJqYaBvzSY"
      },
      "source": [
        "2Sum"
      ]
    },
    {
      "cell_type": "code",
      "metadata": {
        "id": "3c5ivQBm3jvs"
      },
      "source": [
        "class Solution(object):\n",
        "    def twoSum(self, nums, target):\n",
        "        \"\"\"\n",
        "        :type nums: List[int]\n",
        "        :type target: int\n",
        "        :rtype: List[int]\n",
        "        \n",
        "        Time to add an element to dictionary = O(1)\n",
        "        Time to look into dictionary = O(1)\n",
        "        \n",
        "        Therefore,\n",
        "        \n",
        "        Time = O(n)\n",
        "        Space = O(n)\n",
        "        \"\"\"\n",
        "    \n",
        "\n",
        "        d={}\n",
        "    \n",
        "        for count, item1 in enumerate(nums):\n",
        "            item2  = target - item1\n",
        "            if item2 in d:\n",
        "                return [d[item2],count]\n",
        "            else:\n",
        "                d[item1]=count"
      ],
      "execution_count": null,
      "outputs": []
    },
    {
      "cell_type": "markdown",
      "metadata": {
        "id": "K3FtR-ra0wZA"
      },
      "source": [
        "347. Top K Frequent Elements"
      ]
    },
    {
      "cell_type": "code",
      "metadata": {
        "id": "9F-l9o6200k_"
      },
      "source": [
        "class Solution(object):\n",
        "    def topKFrequent(self, nums, k):\n",
        "        \"\"\"\n",
        "        :type nums: List[int]\n",
        "        :type k: int\n",
        "        :rtype: List[int]\n",
        "        \n",
        "        Time = O(n)\n",
        "        Space = O(n)\n",
        "        \n",
        "        In this problem, we are basically inverting the dictionary\n",
        "        \n",
        "        \"\"\"\n",
        "        d = {}\n",
        "        \n",
        "        freq = [[] for i in range(len(nums)+1)]\n",
        "        \n",
        "        for item in nums:\n",
        "            if item in d:\n",
        "                d[item]+=1\n",
        "            else:\n",
        "                d[item]=1\n",
        "                \n",
        "                \n",
        "        for item, count in d.items():\n",
        "            freq[count].append(item)\n",
        "            \n",
        "\n",
        "        output = []\n",
        "        \n",
        "        for i in range(len(nums),0,-1):\n",
        "            if freq[i]:\n",
        "                for element in freq[i]:\n",
        "                    output.append(element)\n",
        "                    k -= 1\n",
        "            if k == 0:\n",
        "                break\n",
        "                \n",
        "        return output"
      ],
      "execution_count": null,
      "outputs": []
    },
    {
      "cell_type": "markdown",
      "metadata": {
        "id": "S9sOgJb-O-2B"
      },
      "source": [
        "15. 3Sum"
      ]
    },
    {
      "cell_type": "code",
      "metadata": {
        "id": "wTxtfLlIPG6T"
      },
      "source": [
        "class Solution(object):\n",
        "    def threeSum(self, nums):\n",
        "        \"\"\"\n",
        "        :type nums: List[int]\n",
        "        :rtype: List[List[int]]\n",
        "        \"\"\"\n",
        "        \n",
        "        if len(nums) < 3:\n",
        "            return []\n",
        "        \n",
        "        res = []\n",
        "        \n",
        "        nums.sort()\n",
        "        \n",
        "        for i, a in enumerate(nums):\n",
        "            \n",
        "            if i > 0 and a == nums[i-1]:\n",
        "                continue\n",
        "                \n",
        "            left = i+1\n",
        "            right = len(nums) - 1\n",
        "            \n",
        "            while right > left:\n",
        "                \n",
        "                if nums[left] + nums[right] == -a:\n",
        "                    res.append([a, nums[left], nums[right]])\n",
        "                    \n",
        "                    temp = nums[left]\n",
        "                    left += 1\n",
        "                    while temp == nums[left] and left < len(nums)-1:\n",
        "                        left += 1\n",
        "                    \n",
        "                if nums[left] + nums[right] > -a:\n",
        "                    right -= 1\n",
        "                    \n",
        "                else:\n",
        "                    left += 1\n",
        "                    \n",
        "        return res"
      ],
      "execution_count": null,
      "outputs": []
    },
    {
      "cell_type": "markdown",
      "metadata": {
        "id": "S89__pah93bY"
      },
      "source": [
        "238. Product of array except self"
      ]
    },
    {
      "cell_type": "code",
      "metadata": {
        "id": "4ROH277k99ir"
      },
      "source": [
        "class Solution(object):\n",
        "    def productExceptSelf(self, nums):\n",
        "        \"\"\"\n",
        "        :type nums: List[int]\n",
        "        :rtype: List[int]\n",
        "        \n",
        "        Time = O(n)\n",
        "        Space = O(n)\n",
        "        \"\"\"\n",
        "        a = [1 for i in range(len(nums))]\n",
        "        a[0] = nums[0]\n",
        "        \n",
        "        b = [1 for i in range(len(nums))]\n",
        "        b[len(nums)-1] = nums[len(nums)-1]\n",
        "        \n",
        "        c = [1 for i in range(len(nums))]\n",
        "        \n",
        "        for i in range(1,len(nums)):\n",
        "            a[i] = a[i-1]*nums[i]\n",
        "            \n",
        "        for i in range(len(nums)-2, -1, -1):\n",
        "            b[i] = b[i+1]*nums[i]\n",
        "        \n",
        "        c[0] = b[1]\n",
        "        c[len(nums)-1] = a[len(nums)-2]\n",
        "\n",
        "        for i in range(1,len(nums)-1):\n",
        "            c[i] = a[i-1]*b[i+1]\n",
        "            \n",
        "        \n",
        "        return c"
      ],
      "execution_count": null,
      "outputs": []
    },
    {
      "cell_type": "markdown",
      "metadata": {
        "id": "gu2VG2A1xk2j"
      },
      "source": [
        "48. Rotate Image"
      ]
    },
    {
      "cell_type": "code",
      "metadata": {
        "id": "N-hLQ5Taxnlb"
      },
      "source": [
        "class Solution(object):\n",
        "    def rotate(self, matrix):\n",
        "        \"\"\"\n",
        "        :type matrix: List[List[int]]\n",
        "        :rtype: None Do not return anything, modify matrix in-place instead.\n",
        "        \"\"\"\n",
        "        \n",
        "        n = len(matrix)\n",
        "        \n",
        "        #Transpose the matrix\n",
        "        \n",
        "        i=0\n",
        "        while i<n:\n",
        "            j=i+1\n",
        "            while i<j<n:\n",
        "                temp = matrix[i][j]\n",
        "                matrix[i][j]=matrix[j][i]\n",
        "                matrix[j][i]=temp\n",
        "                j+=1    \n",
        "            i+=1\n",
        "        \n",
        "            \n",
        "        #Interchange the columns    \n",
        "            \n",
        "        for i in range(n):\n",
        "            for j in range(n/2):\n",
        "                temp = matrix[i][j]\n",
        "                matrix[i][j]=matrix[i][n-1-j]\n",
        "                matrix[i][n-1-j]=temp\n",
        "                \n",
        "        return matrix    "
      ],
      "execution_count": null,
      "outputs": []
    },
    {
      "cell_type": "markdown",
      "metadata": {
        "id": "EtAJGSEp3yMI"
      },
      "source": [
        "54. Spiral Matrix"
      ]
    },
    {
      "cell_type": "code",
      "metadata": {
        "id": "VtLouR-R32WN"
      },
      "source": [
        "class Solution(object):\n",
        "    def spiralOrder(self, matrix):\n",
        "        \"\"\"\n",
        "        :type matrix: List[List[int]]\n",
        "        :rtype: List[int]\n",
        "        \"\"\"\n",
        "        \n",
        "        m=len(matrix)\n",
        "        n=len(matrix[0])\n",
        "        \n",
        "        a=[]\n",
        "        \n",
        "        i=0\n",
        "        j=0\n",
        "        \n",
        "        d=0\n",
        "        counter=0\n",
        "        \n",
        "        while counter< m*n:\n",
        "        \n",
        "            if 0<=i<m and 0<=j<n and matrix[i][j]!=\"x\":        \n",
        "                a.append(matrix[i][j])\n",
        "                matrix[i][j]=\"x\"\n",
        "                counter+=1\n",
        "            else:\n",
        "                i=prev[0]\n",
        "                j=prev[1]\n",
        "                d=(d+1)%4\n",
        "                \n",
        "            prev = [i,j]\n",
        "             \n",
        "            if d==0: #Move right\n",
        "                i=i\n",
        "                j=j+1\n",
        "                \n",
        "            if d==1: #Move down \n",
        "                i=i+1\n",
        "                j=j\n",
        "                \n",
        "            if d==2: #Move left\n",
        "                i=i\n",
        "                j=j-1\n",
        "                \n",
        "            if d==3: #Move up\n",
        "                i=i-1\n",
        "                j=j\n",
        "                \n",
        "        return a   "
      ],
      "execution_count": null,
      "outputs": []
    },
    {
      "cell_type": "markdown",
      "metadata": {
        "id": "w7jIg-SlpZQR"
      },
      "source": [
        "53. Maximum Subarray"
      ]
    },
    {
      "cell_type": "code",
      "metadata": {
        "id": "d12vjTZLpeaa"
      },
      "source": [
        "class Solution(object):\n",
        "    def maxSubArray(self, nums):\n",
        "        \"\"\"\n",
        "        :type nums: List[int]\n",
        "        :rtype: int\n",
        "        \n",
        "        Time = O(n)\n",
        "        Space = O(1)\n",
        "        \"\"\"\n",
        "        \n",
        "        # Kadane's algorithm\n",
        "        \n",
        "        max_sum = nums[0]\n",
        "        \n",
        "        current_sum = nums[0]\n",
        "        \n",
        "        for i in range(1,len(nums)):\n",
        "            current_sum = max(nums[i], current_sum + nums[i])\n",
        "            max_sum = max(current_sum, max_sum)\n",
        "            \n",
        "        return max_sum   "
      ],
      "execution_count": null,
      "outputs": []
    },
    {
      "cell_type": "markdown",
      "metadata": {
        "id": "bq4YW8GDtrby"
      },
      "source": [
        "121. Best Time to Buy and Sell Stock"
      ]
    },
    {
      "cell_type": "code",
      "metadata": {
        "id": "4sqk2k7CtwYE"
      },
      "source": [
        "class Solution(object):\n",
        "    def maxProfit(self, prices):\n",
        "        \"\"\"\n",
        "        :type prices: List[int]\n",
        "        :rtype: int\n",
        "        \n",
        "        Time = O(n)\n",
        "        Space = O(1)\n",
        "        \n",
        "        \"\"\"\n",
        "        \n",
        "        lowest = prices[0]\n",
        "        \n",
        "        max_profit = 0\n",
        "        \n",
        "        for i in range(len(prices)):\n",
        "            \n",
        "            lowest = min(lowest, prices[i])\n",
        "            \n",
        "            current_profit = prices[i] - lowest\n",
        "            \n",
        "            max_profit = max(max_profit, current_profit)\n",
        "            \n",
        "        return max_profit"
      ],
      "execution_count": null,
      "outputs": []
    },
    {
      "cell_type": "markdown",
      "metadata": {
        "id": "oTqd-hjW1kaC"
      },
      "source": [
        "122. Best Time to Buy and Sell Stocks II"
      ]
    },
    {
      "cell_type": "code",
      "metadata": {
        "id": "twUPk2-21pcW"
      },
      "source": [
        "class Solution(object):\n",
        "    def maxProfit(self, prices):\n",
        "        \"\"\"\n",
        "        :type prices: List[int]\n",
        "        :rtype: int\n",
        "        \n",
        "        Time = O(n)\n",
        "        Space = O(1)\n",
        "        \"\"\"\n",
        "        \n",
        "        current_min = prices[0]\n",
        "        \n",
        "        max_profit = 0\n",
        "        \n",
        "        total_profit = 0\n",
        "        \n",
        "        for i in range(len(prices)):\n",
        "            \n",
        "            current_min = min(current_min, prices[i])\n",
        "            current_profit = prices[i] - current_min\n",
        "            max_profit = max(current_profit, max_profit)\n",
        "            \n",
        "            if current_profit < max_profit:\n",
        "                \n",
        "                total_profit += max_profit\n",
        "                current_min = prices[i]\n",
        "                max_profit = 0\n",
        "                \n",
        "        return total_profit + max_profit"
      ],
      "execution_count": null,
      "outputs": []
    },
    {
      "cell_type": "markdown",
      "metadata": {
        "id": "SExCRcOM3kEM"
      },
      "source": [
        "153. Find Minimum in Rotated Sorted Array"
      ]
    },
    {
      "cell_type": "code",
      "metadata": {
        "id": "tel7H33Y3qjE"
      },
      "source": [
        "class Solution(object):\n",
        "    def findMin(self, nums):\n",
        "        \"\"\"\n",
        "        :type nums: List[int]\n",
        "        :rtype: int\n",
        "        \n",
        "        Binary search problem\n",
        "        \n",
        "        Time = O(log n)\n",
        "        Space = O(1)\n",
        "        \n",
        "        \"\"\"\n",
        "        l = len(nums)\n",
        "           \n",
        "        left = 0\n",
        "        right = l-1\n",
        "        \n",
        "        while left<right:\n",
        "            mid = (right + left)//2\n",
        "            \n",
        "            if nums[mid]>nums[right]:\n",
        "                left = mid+1\n",
        "                \n",
        "            else:\n",
        "                right = mid\n",
        "                \n",
        "        return nums[left]     "
      ],
      "execution_count": null,
      "outputs": []
    },
    {
      "cell_type": "markdown",
      "metadata": {
        "id": "V_3ofwGB9SgP"
      },
      "source": [
        "33. Search in Rotated Sorted Array"
      ]
    },
    {
      "cell_type": "code",
      "metadata": {
        "id": "0JkvN7Oj9ZPY"
      },
      "source": [
        "class Solution(object):\n",
        "    def search(self, nums, target):\n",
        "        \"\"\"\n",
        "        :type nums: List[int]\n",
        "        :type target: int\n",
        "        :rtype: int\n",
        "        \n",
        "        Time = O(log n)\n",
        "        Space = O(1)\n",
        "        \n",
        "        \"\"\"\n",
        "        left = 0 \n",
        "        right = len(nums)-1\n",
        "        \n",
        "        while left< right:\n",
        "            mid = (right + left)//2\n",
        "            \n",
        "            if nums[mid]>nums[right]:\n",
        "                left = mid + 1\n",
        "                \n",
        "            else:\n",
        "                right = mid\n",
        "                \n",
        "        \n",
        "        start = left\n",
        "        \n",
        "        if nums[start] <= target <= nums[len(nums)-1]:\n",
        "            left = start\n",
        "            right = len(nums)-1\n",
        "        else:    \n",
        "            left = 0\n",
        "            right = start-1\n",
        "            \n",
        "        while left <= right:\n",
        "            \n",
        "            mid = (right+left)//2\n",
        "            \n",
        "            if nums[mid] == target:\n",
        "                return mid\n",
        "            if nums[mid] < target:\n",
        "                left = mid+1\n",
        "            if nums[mid] > target:\n",
        "                right = mid-1\n",
        "                \n",
        "        return -1        "
      ],
      "execution_count": null,
      "outputs": []
    },
    {
      "cell_type": "markdown",
      "metadata": {
        "id": "koHyyGijgr0E"
      },
      "source": [
        "11. Container with most water"
      ]
    },
    {
      "cell_type": "code",
      "metadata": {
        "id": "etvDLXbTgwpC"
      },
      "source": [
        "class Solution(object):\n",
        "    def maxArea(self, height):\n",
        "        \"\"\"\n",
        "        :type height: List[int]\n",
        "        :rtype: int\n",
        "        \n",
        "        Brute Force = O(n^2)\n",
        "        \n",
        "        So let us try O(n)\n",
        "        \n",
        "        Time = O(n)\n",
        "        Space = O(1)\n",
        "        \n",
        "        \"\"\"\n",
        "        current_max = 0\n",
        "        \n",
        "        left = 0\n",
        "        right = len(height) - 1\n",
        "        \n",
        "        while left < right:\n",
        "            \n",
        "            h_l = height[left]\n",
        "            h_r = height[right]\n",
        "            vol = min(h_l, h_r)*(right - left)\n",
        "            \n",
        "            current_max = max(current_max, vol)\n",
        "            \n",
        "            if h_l < h_r:\n",
        "                left += 1\n",
        "                \n",
        "            if h_l > h_r:\n",
        "                right -= 1\n",
        "             \n",
        "            if h_l == h_r:\n",
        "                left += 1\n",
        "                right -= 1\n",
        "                \n",
        "        return current_max"
      ],
      "execution_count": null,
      "outputs": []
    },
    {
      "cell_type": "markdown",
      "metadata": {
        "id": "Zu83b-ADO3cP"
      },
      "source": [
        "73. Set Matrix Zeros"
      ]
    },
    {
      "cell_type": "code",
      "metadata": {
        "id": "D3r2q3OuO6L5"
      },
      "source": [
        "class Solution(object):\n",
        "    def setZeroes(self, matrix):\n",
        "        \"\"\"\n",
        "        :type matrix: List[List[int]]\n",
        "        :rtype: None Do not return anything, modify matrix in-place instead.\n",
        "        \"\"\"\n",
        "        #In place\n",
        "        #Time = O(m*n)\n",
        "        #Space = O(m+n)\n",
        "        \n",
        "        #rows = []\n",
        "        #cols = []\n",
        "        \n",
        "        #for i in range(len(matrix)):\n",
        "        #    for j in range(len(matrix[0])):\n",
        "        #        if matrix[i][j] == 0:\n",
        "        #            rows.append(i)\n",
        "        #            cols.append(j)\n",
        "                    \n",
        "        #rows = set(rows)\n",
        "        #cols = set(cols)\n",
        "        \n",
        "        #for i in rows:\n",
        "        #    for j in range(len(matrix[0])):\n",
        "        #        matrix[i][j] = 0\n",
        "                \n",
        "        #for i in range(len(matrix)):\n",
        "        #    for j in cols:\n",
        "        #        matrix[i][j] = 0\n",
        "                \n",
        "        #return matrix\n",
        "        \n",
        "        #In place\n",
        "        #Time = O(m*n)\n",
        "        #Space = O(1)\n",
        "        \n",
        "        n_rows = len(matrix)\n",
        "        n_cols = len(matrix[0])\n",
        "        \n",
        "        row_zero = False\n",
        "        \n",
        "        for i in range(n_rows):\n",
        "            for j in range(n_cols):\n",
        "                if matrix[i][j] == 0:\n",
        "                    matrix[0][j] = 0\n",
        "                    if i > 0:\n",
        "                        matrix[i][0] = 0\n",
        "                    else:\n",
        "                        row_zero = True\n",
        "                        \n",
        "        for i in range(1, n_rows):\n",
        "            for j in range(1, n_cols):\n",
        "                if matrix[i][0] == 0 or matrix[0][j] == 0:\n",
        "                    matrix[i][j] = 0\n",
        "                    \n",
        "        if matrix[0][0] == 0:\n",
        "            for i in range(n_rows):\n",
        "                matrix[i][0] = 0\n",
        "                \n",
        "        if row_zero:\n",
        "            for j in range(n_cols):\n",
        "                matrix[0][j] = 0\n",
        "                \n",
        "        return matrix"
      ],
      "execution_count": null,
      "outputs": []
    },
    {
      "cell_type": "markdown",
      "metadata": {
        "id": "2wmJXCDem8N3"
      },
      "source": [
        "## Intervals"
      ]
    },
    {
      "cell_type": "markdown",
      "metadata": {
        "id": "gA9Y-S_1nBf_"
      },
      "source": [
        "56. Merge Intervals"
      ]
    },
    {
      "cell_type": "code",
      "metadata": {
        "id": "VAW8jRF9nFRS"
      },
      "source": [
        "class Solution(object):\n",
        "    def merge(self, intervals):\n",
        "        \"\"\"\n",
        "        :type intervals: List[List[int]]\n",
        "        :rtype: List[List[int]]\n",
        "        \n",
        "        Time = O(n log n)\n",
        "        Space = O(n)\n",
        "        \n",
        "        \"\"\"\n",
        "        \n",
        "        intervals.sort(key = lambda i : i[0])\n",
        "        \n",
        "        res = [intervals[0]]\n",
        "        \n",
        "        for item in intervals[1:]:\n",
        "            start = item[0]\n",
        "            end = item[1]\n",
        "            \n",
        "            prev_end  = res[-1][1]\n",
        "            \n",
        "            if prev_end >= start and prev_end < end:\n",
        "                res[-1][1] = end\n",
        "                continue\n",
        "            \n",
        "            if prev_end >= end:\n",
        "                continue\n",
        "                \n",
        "            res.append(item)\n",
        "            \n",
        "        return res"
      ],
      "execution_count": null,
      "outputs": []
    },
    {
      "cell_type": "markdown",
      "metadata": {
        "id": "KeF_WtdhzAtI"
      },
      "source": [
        "## Strings"
      ]
    },
    {
      "cell_type": "markdown",
      "metadata": {
        "id": "tlqjMnRuzERe"
      },
      "source": [
        "20. Valid Parantheses"
      ]
    },
    {
      "cell_type": "code",
      "metadata": {
        "id": "rriV4Ny6zKLb"
      },
      "source": [
        "class Solution(object):\n",
        "    def isValid(self, s):\n",
        "        \"\"\"\n",
        "        :type s: str\n",
        "        :rtype: bool\n",
        "        \"\"\"\n",
        "        \n",
        "        a=[]\n",
        "        \n",
        "        d={\")\":\"(\",\"}\":\"{\",\"]\":\"[\"}\n",
        "        \n",
        "        for item in s:\n",
        "            if item in d.values():\n",
        "                a.append(item)\n",
        "            if item in d.keys():\n",
        "                if a==[] or d[item]!=a.pop():\n",
        "                    return False\n",
        "        if a==[]:\n",
        "            return True\n",
        "        else:\n",
        "            return False\n",
        "                "
      ],
      "execution_count": null,
      "outputs": []
    },
    {
      "cell_type": "markdown",
      "metadata": {
        "id": "k5yB7uPucY7o"
      },
      "source": [
        "242. Valid Anagram"
      ]
    },
    {
      "cell_type": "code",
      "metadata": {
        "id": "F6qE6hoVcci6"
      },
      "source": [
        "class Solution(object):\n",
        "    def isAnagram(self, s, t):\n",
        "        \"\"\"\n",
        "        :type s: str\n",
        "        :type t: str\n",
        "        :rtype: bool\n",
        "        \n",
        "        Time = O(n)\n",
        "        Space = O(n)\n",
        "        \"\"\"\n",
        "        \n",
        "        if len(s)!=len(t):\n",
        "            return False\n",
        "        \n",
        "        d1={}\n",
        "        d2={}\n",
        "        \n",
        "        for char in s:\n",
        "            if char in d1:\n",
        "                d1[char]+=1\n",
        "            else:\n",
        "                d1[char]=1\n",
        "                \n",
        "        for char in t:\n",
        "            if char in d2:\n",
        "                d2[char]+=1\n",
        "            else:\n",
        "                d2[char]=1\n",
        "                \n",
        "        for item in d1:\n",
        "            if item not in d2:\n",
        "                return False\n",
        "            elif d1[item]!=d2[item]:\n",
        "                return False\n",
        "        \n",
        "        return True"
      ],
      "execution_count": null,
      "outputs": []
    },
    {
      "cell_type": "markdown",
      "metadata": {
        "id": "j-fuiQVRpsFr"
      },
      "source": [
        "125. Valid Palindrome"
      ]
    },
    {
      "cell_type": "code",
      "metadata": {
        "id": "i6rE-_VtpuhI"
      },
      "source": [
        "class Solution(object):\n",
        "    def isPalindrome(self, s):\n",
        "        \"\"\"\n",
        "        :type s: str\n",
        "        :rtype: bool\n",
        "        \n",
        "        Time = O(n)\n",
        "        Space = O(1)\n",
        "        \"\"\"\n",
        "        \n",
        "        left = 0\n",
        "        right = len(s)-1\n",
        " \n",
        "        s = s.lower()\n",
        "        \n",
        "        while right > left:\n",
        "            \n",
        "            if not s[right].isalnum():\n",
        "                right -= 1\n",
        "                continue\n",
        "                \n",
        "            if not s[left].isalnum():\n",
        "                left += 1\n",
        "                continue\n",
        "                \n",
        "            if s[left] != s[right]:\n",
        "                return False\n",
        "                \n",
        "            if s[left] == s[right]:\n",
        "                right -= 1\n",
        "                left += 1\n",
        "                \n",
        "        return True"
      ],
      "execution_count": null,
      "outputs": []
    },
    {
      "cell_type": "markdown",
      "metadata": {
        "id": "iKxyQ4YO-EXx"
      },
      "source": [
        "647. Palindromic substrings"
      ]
    },
    {
      "cell_type": "code",
      "metadata": {
        "id": "wlSWp_ZV-Uco"
      },
      "source": [
        "class Solution(object):\n",
        "    def countSubstrings(self, s):\n",
        "        \"\"\"\n",
        "        :type s: str\n",
        "        :rtype: int\n",
        "        \n",
        "        Brute Force = O(n^3)\n",
        "        \n",
        "        Time = O(n^2)\n",
        "        Space = O(1)\n",
        "        \n",
        "        \"\"\"\n",
        "        res = 0\n",
        "        \n",
        "        for i in range(len(s)):\n",
        "            \n",
        "            res += self.count(s, i, i)\n",
        "            res += self.count(s, i, i+1)\n",
        "            \n",
        "        return res\n",
        "    \n",
        "    def count(self, s, l, r):\n",
        "        \n",
        "        res = 0\n",
        "        \n",
        "        while l >= 0 and r < len(s) and s[l] == s[r]:\n",
        "                res += 1\n",
        "                l -= 1\n",
        "                r += 1\n",
        "                \n",
        "        return res\n",
        "                  "
      ],
      "execution_count": null,
      "outputs": []
    },
    {
      "cell_type": "markdown",
      "metadata": {
        "id": "B1OvUzLSC8lm"
      },
      "source": [
        "49. Group Anagrams"
      ]
    },
    {
      "cell_type": "code",
      "metadata": {
        "id": "sncD_lq1DC5W"
      },
      "source": [
        "class Solution(object):\n",
        "    def groupAnagrams(self, strs):\n",
        "        \"\"\"\n",
        "        :type strs: List[str]\n",
        "        :rtype: List[List[str]]\n",
        "        \n",
        "        Time = O(m*n)\n",
        "        Space = O(m*n)\n",
        "        \"\"\"\n",
        "        res = {}\n",
        "        \n",
        "        for item in strs:\n",
        "            count = [0]*26 #26 for a-z\n",
        "            \n",
        "            for char in item:\n",
        "                count[ord(char) - ord(\"a\")] += 1\n",
        "                \n",
        "            if tuple(count) in res.keys():\n",
        "                res[tuple(count)].append(item) #In python, lists cannot be keys\n",
        "            else:\n",
        "                res[tuple(count)] = [item]\n",
        "                \n",
        "        return res.values()"
      ],
      "execution_count": null,
      "outputs": []
    },
    {
      "cell_type": "markdown",
      "metadata": {
        "id": "APX79V7pSenF"
      },
      "source": [
        "## Depth First Search"
      ]
    },
    {
      "cell_type": "markdown",
      "metadata": {
        "id": "eAypap1I7rou"
      },
      "source": [
        "Problem 200 - Number of Islands"
      ]
    },
    {
      "cell_type": "code",
      "metadata": {
        "colab": {
          "base_uri": "https://localhost:8080/"
        },
        "id": "TK0afFsh7uW_",
        "outputId": "8b254ebd-0745-4198-8a21-1331af6cf795"
      },
      "source": [
        "grid = [[\"1\",\"1\",\"0\",\"0\",\"0\"],\n",
        "        [\"1\",\"1\",\"0\",\"0\",\"0\"],\n",
        "        [\"0\",\"0\",\"1\",\"0\",\"0\"],\n",
        "        [\"0\",\"0\",\"0\",\"1\",\"1\"]]\n",
        "\n",
        "def numIslands(grid):\n",
        "\n",
        "  if not grid:\n",
        "    return 0\n",
        "        \n",
        "  count = 0\n",
        "        \n",
        "  for i in range(len(grid)):\n",
        "    for j in range(len(grid[0])):\n",
        "      if grid[i][j] == '1':\n",
        "        dfs(grid, i, j)\n",
        "        count += 1\n",
        "        \n",
        "  return count\n",
        "\n",
        "def dfs(grid, i, j):\n",
        "\n",
        "  #Base case\n",
        "  if i<0 or j<0 or i>=len(grid) or j>=len(grid[0]) or grid[i][j] != '1':\n",
        "    return\n",
        "\n",
        "    \n",
        "  grid[i][j] = '#'\n",
        "  dfs(grid, i+1, j)\n",
        "  dfs(grid, i-1, j)\n",
        "  dfs(grid, i, j+1)\n",
        "  dfs(grid, i, j-1)\n",
        "  return\n",
        "\n",
        "\n",
        "print(numIslands(grid))"
      ],
      "execution_count": null,
      "outputs": [
        {
          "output_type": "stream",
          "text": [
            "3\n"
          ],
          "name": "stdout"
        }
      ]
    },
    {
      "cell_type": "markdown",
      "metadata": {
        "id": "UGFPsMms47M9"
      },
      "source": [
        "Problem 695 - Max area of an island"
      ]
    },
    {
      "cell_type": "code",
      "metadata": {
        "colab": {
          "base_uri": "https://localhost:8080/"
        },
        "id": "2uOAy41Y45ZT",
        "outputId": "c9f86b46-3a6f-4ec5-a238-9d7a91005573"
      },
      "source": [
        "grid = [[0,0,1,0,0,0,0,1,0,0,0,0,0],\n",
        "        [0,0,0,0,0,0,0,1,1,1,0,0,0],\n",
        "        [0,1,1,0,1,0,0,0,0,0,0,0,0],\n",
        "        [0,1,0,0,1,1,0,0,1,0,1,0,0],\n",
        "        [0,1,0,0,1,1,0,0,1,1,1,0,0],\n",
        "        [0,0,0,0,0,0,0,0,0,0,1,0,0],\n",
        "        [0,0,0,0,0,0,0,1,1,1,0,0,0],\n",
        "        [0,0,0,0,0,0,0,1,1,0,0,0,0]]\n",
        "\n",
        "def maxAreaOfIsland(grid):\n",
        "        \n",
        "  if not grid:\n",
        "    return 0\n",
        "\n",
        "  max_area = 0\n",
        "  current_area = 0\n",
        "  for i in range(len(grid)):\n",
        "    for j in range(len(grid[0])):\n",
        "      if grid[i][j] == 1:\n",
        "        current_area = dfs(grid, i, j)\n",
        "        if current_area > max_area:\n",
        "          max_area = current_area\n",
        "  \n",
        "  return max_area\n",
        "\n",
        "def dfs(grid, i, j):\n",
        "\n",
        "  #Base case\n",
        "  if i<0 or j<0 or i>=len(grid) or j>=len(grid[0]) or grid[i][j] != 1:\n",
        "    return 0\n",
        "\n",
        "    \n",
        "  grid[i][j] = '#'\n",
        "  x = dfs(grid, i+1, j)\n",
        "  y = dfs(grid, i-1, j)\n",
        "  w = dfs(grid, i, j+1)\n",
        "  z = dfs(grid, i, j-1)\n",
        "        \n",
        "  return 1 + x + y + w + z\n",
        "\n",
        "\n",
        "print(maxAreaOfIsland(grid))"
      ],
      "execution_count": null,
      "outputs": [
        {
          "output_type": "stream",
          "text": [
            "6\n"
          ],
          "name": "stdout"
        }
      ]
    },
    {
      "cell_type": "markdown",
      "source": [
        "2101. Detonate the Maximum Bombs\n"
      ],
      "metadata": {
        "id": "jKHumiBfzJ1Y"
      }
    },
    {
      "cell_type": "code",
      "source": [
        "class Solution(object):\n",
        "    def maximumDetonation(self, bombs):\n",
        "        \"\"\"\n",
        "        :type bombs: List[List[int]]\n",
        "        :rtype: int\n",
        "        \"\"\"\n",
        "        \n",
        "        n = len(bombs)\n",
        "        \n",
        "        d = {}\n",
        "        \n",
        "        ans = 0\n",
        "        \n",
        "        for i in range(n):\n",
        "            \n",
        "            d[i] = []\n",
        "            \n",
        "            for j in range(n):\n",
        "                if i == j:\n",
        "                    continue\n",
        "                \n",
        "                if bombs[i][2]**2 >= (bombs[i][0]-bombs[j][0])**2 + (bombs[i][1]-bombs[j][1])**2:\n",
        "                    d[i] += [j]\n",
        "                    \n",
        "        \n",
        "        def dfs(node, visited):\n",
        "            for child in d[node]:\n",
        "                if child not in visited:\n",
        "                    visited.add(child)\n",
        "                    dfs(child, visited)\n",
        "\n",
        "        for i in range(n):\n",
        "            visited = set([i])\n",
        "            dfs(i, visited)\n",
        "            ans = max(ans, len(visited))\n",
        "                          \n",
        "        return ans"
      ],
      "metadata": {
        "id": "hAJyVEHlzKbu"
      },
      "execution_count": null,
      "outputs": []
    },
    {
      "cell_type": "markdown",
      "metadata": {
        "id": "CgdgkAKkHHwH"
      },
      "source": [
        "Problem 127 - Word Ladder"
      ]
    },
    {
      "cell_type": "code",
      "metadata": {
        "colab": {
          "base_uri": "https://localhost:8080/"
        },
        "id": "VI6WuEpVHOS2",
        "outputId": "09877b6c-f937-44aa-90a8-57c57704c982"
      },
      "source": [
        "def find_neigbhors(q_word, explored, wordList):\n",
        "\n",
        "  list_from_q_word = []\n",
        "\n",
        "  for char in \"abcdefghijklmnopqrstuvwxyz\":\n",
        "    for i in range(len(q_word)+1):\n",
        "      alt_word = q_word[:i] + char + q_word[i+1:]\n",
        "\n",
        "      if alt_word != q_word and alt_word in wordList.difference(explored):\n",
        "        list_from_q_word.append(alt_word)\n",
        "\n",
        "  return list_from_q_word      \n",
        "\n",
        "\n",
        "\n",
        "def ladderLength(beginWord, endWord, wordList):\n",
        "\n",
        "  wordList = set(wordList)\n",
        "\n",
        "  if endWord not in wordList:\n",
        "    return 0\n",
        "\n",
        "  dist = {}\n",
        "\n",
        "  dist[beginWord] = 0\n",
        "\n",
        "  for word in wordList:\n",
        "    dist[word] = 100000\n",
        "\n",
        "  explored = [beginWord]\n",
        "  q = [beginWord]\n",
        "\n",
        "  while q:\n",
        "    q_word = q.pop(0)\n",
        "\n",
        "    list_from_q_word = find_neigbhors(q_word, explored, wordList)\n",
        "\n",
        "    for word in list_from_q_word:\n",
        "      print(word)\n",
        "      if word == endWord:\n",
        "        return dist[q_word] + 2\n",
        "      if word not in explored:\n",
        "        explored += [word]\n",
        "        q.append(word)\n",
        "        dist[word] = dist[q_word] + 1 \n",
        "\n",
        "  return 0\n",
        "\n",
        "\n",
        "beginWord = \"hit\"\n",
        "endWord = \"cog\"\n",
        "wordList = [\"hot\",\"dot\",\"dog\",\"lot\",\"log\",\"cog\"]\n",
        "\n",
        "ladderLength(beginWord, endWord, wordList)"
      ],
      "execution_count": null,
      "outputs": [
        {
          "output_type": "stream",
          "text": [
            "hot\n",
            "dot\n",
            "lot\n",
            "dog\n",
            "log\n",
            "cog\n"
          ],
          "name": "stdout"
        },
        {
          "output_type": "execute_result",
          "data": {
            "text/plain": [
              "5"
            ]
          },
          "metadata": {
            "tags": []
          },
          "execution_count": 2
        }
      ]
    },
    {
      "cell_type": "markdown",
      "metadata": {
        "id": "fPNAhJzdVxUv"
      },
      "source": [
        "17. Letter Combinations of a Phone Number"
      ]
    },
    {
      "cell_type": "code",
      "metadata": {
        "id": "LyJyl8iFVy-t"
      },
      "source": [
        "class Solution(object):\n",
        "    def letterCombinations(self, digits):\n",
        "        \"\"\"\n",
        "        :type digits: str\n",
        "        :rtype: List[str]\n",
        "        \"\"\"\n",
        "        if not digits:\n",
        "            return []\n",
        "        \n",
        "        dic = {2:\"abc\",3:'def',4:\"ghi\",5:\"jkl\",6:\"mno\",7:\"pqrs\",8:\"tuv\",9:\"wxyz\"}\n",
        "        \n",
        "        out = []\n",
        "        stack = []\n",
        "        \n",
        "        out = self.dfs(digits, dic, stack, out)\n",
        "        \n",
        "        return out\n",
        "    \n",
        "    def dfs(self, digits, dic, stack, out):\n",
        "        \n",
        "        if digits == '':\n",
        "            word = ''\n",
        "            for letter in stack:\n",
        "                word += letter\n",
        "            \n",
        "            out.append(word)\n",
        "            return out   \n",
        "        \n",
        "        num = digits[0]\n",
        "        digits = digits[1:]\n",
        "        \n",
        "        for letter in dic[int(num)]:\n",
        "            stack.append(letter)\n",
        "            out = self.dfs(digits, dic, stack, out)\n",
        "            stack.pop()\n",
        "            \n",
        "        return out   "
      ],
      "execution_count": null,
      "outputs": []
    },
    {
      "cell_type": "markdown",
      "metadata": {
        "id": "Lht0OaRRV6GA"
      },
      "source": [
        "39. Combination Sum"
      ]
    },
    {
      "cell_type": "code",
      "metadata": {
        "id": "1Y9exaDRWkHd"
      },
      "source": [
        "class Solution(object):\n",
        "    def combinationSum(self, candidates, target):\n",
        "        \"\"\"\n",
        "        :type candidates: List[int]\n",
        "        :type target: int\n",
        "        :rtype: List[List[int]]\n",
        "        \"\"\"\n",
        "        \n",
        "        out = []\n",
        "        stack = [0]\n",
        "        \n",
        "        out = self.dfs(stack, out, candidates, target)\n",
        "        \n",
        "        return out\n",
        "    \n",
        "    def dfs(self, stack, out, candidates, target):\n",
        "        \n",
        "        if target == 0:           \n",
        "            out.append(stack[1:])\n",
        "            return out\n",
        "        \n",
        "        for num in candidates:\n",
        "            \n",
        "            if target - num >= 0 and stack[-1] <= num:\n",
        "                stack.append(num)\n",
        "                target = target - num\n",
        "                out = self.dfs(stack, out, candidates, target)\n",
        "                target = target + num\n",
        "                stack.pop()\n",
        "                           \n",
        "        return out       "
      ],
      "execution_count": null,
      "outputs": []
    },
    {
      "cell_type": "markdown",
      "metadata": {
        "id": "MPdVFD-WWn0l"
      },
      "source": [
        "77. Combinations"
      ]
    },
    {
      "cell_type": "code",
      "metadata": {
        "id": "QpuQtZUJXOQJ"
      },
      "source": [
        "class Solution(object):\n",
        "    def combine(self, n, k):\n",
        "        \"\"\"\n",
        "        :type n: int\n",
        "        :type k: int\n",
        "        :rtype: List[List[int]]\n",
        "        \"\"\"\n",
        "        \n",
        "        stack = [0]\n",
        "        \n",
        "        out = []\n",
        "        \n",
        "        out = self.dfs(stack, out, n, k)\n",
        "        \n",
        "        return out\n",
        "    \n",
        "    def dfs(self, stack, out, n, k):\n",
        "        \n",
        "        if k == 0:\n",
        "            out.append(stack[1:])\n",
        "            return out\n",
        "        \n",
        "        num = stack[-1]\n",
        "        \n",
        "        for i in range(num+1, n+1):\n",
        "            stack.append(i)\n",
        "            k -= 1\n",
        "            out = self.dfs(stack, out, n, k)\n",
        "            k += 1\n",
        "            stack.pop()\n",
        "            \n",
        "        return out"
      ],
      "execution_count": null,
      "outputs": []
    },
    {
      "cell_type": "markdown",
      "metadata": {
        "id": "ueaaCVzDXSZW"
      },
      "source": [
        "46. Permutations"
      ]
    },
    {
      "cell_type": "code",
      "metadata": {
        "id": "s6mR5Y9mXrdt"
      },
      "source": [
        "class Solution(object):\n",
        "    def permute(self, nums):\n",
        "        \"\"\"\n",
        "        :type nums: List[int]\n",
        "        :rtype: List[List[int]]\n",
        "        \"\"\"\n",
        "        \n",
        "        out = []\n",
        "        \n",
        "        stack = [-100]\n",
        "        \n",
        "        out = self.dfs(stack, out, nums)\n",
        "        \n",
        "        return out\n",
        "    \n",
        "    def dfs(self, stack, out, nums):\n",
        "        \n",
        "        if len(stack) == len(nums) + 1:\n",
        "            out.append(stack[1:])\n",
        "            return out\n",
        "        \n",
        "        for i in nums:\n",
        "            if i not in stack:\n",
        "                stack.append(i)\n",
        "                out = self.dfs(stack, out, nums)\n",
        "                stack.pop()\n",
        "                \n",
        "        return out"
      ],
      "execution_count": null,
      "outputs": []
    },
    {
      "cell_type": "markdown",
      "metadata": {
        "id": "M916PFFSYESV"
      },
      "source": [
        "22. Generate Parentheses"
      ]
    },
    {
      "cell_type": "code",
      "metadata": {
        "id": "9kI5GCteYFBW"
      },
      "source": [
        "class Solution(object):\n",
        "    def generateParenthesis(self, n):\n",
        "        \"\"\"\n",
        "        :type n: int\n",
        "        :rtype: List[str]\n",
        "        \"\"\"\n",
        "        \n",
        "        if n == 0:\n",
        "            return []\n",
        "        \n",
        "        out = []\n",
        "        stack = []\n",
        "        s = 0\n",
        "        \n",
        "        out = self.dfs(n, s, stack, out)\n",
        "        \n",
        "        return out\n",
        "    \n",
        "    \n",
        "    def dfs(self, n, s, stack, out):\n",
        "        \n",
        "        if n == 0:\n",
        "            string = ''\n",
        "            for item in stack:\n",
        "                string += item\n",
        "            out.append(string)\n",
        "            return out\n",
        "        \n",
        "        if 0 <= s + 1 <= n and n > 0:\n",
        "            stack.append(\"(\")\n",
        "            s = s + 1\n",
        "            out = self.dfs(n, s, stack, out)\n",
        "            stack.pop()\n",
        "            s = s - 1\n",
        "            \n",
        "        if 0 <= s - 1 <= n and n > 0:\n",
        "            stack.append(\")\")\n",
        "            s = s - 1\n",
        "            n = n - 1\n",
        "            out = self.dfs(n, s, stack, out)\n",
        "            stack.pop()\n",
        "            s = s + 1\n",
        "            n = n + 1\n",
        "            \n",
        "        return out"
      ],
      "execution_count": null,
      "outputs": []
    },
    {
      "cell_type": "markdown",
      "metadata": {
        "id": "-SOFj7fnYW-L"
      },
      "source": [
        "1020. Number of Enclaves"
      ]
    },
    {
      "cell_type": "code",
      "metadata": {
        "id": "Y_BXl_-IYYGJ"
      },
      "source": [
        "class Solution(object):\n",
        "    def numEnclaves(self, grid):\n",
        "        \"\"\"\n",
        "        :type grid: List[List[int]]\n",
        "        :rtype: int\n",
        "        \"\"\"\n",
        "        m = len(grid)\n",
        "        n = len(grid[0])\n",
        "        \n",
        "        for i in range(m):\n",
        "            _ = self.dfs(grid, i, 0)\n",
        "            _ = self.dfs(grid, i, n-1)\n",
        "                \n",
        "        for j in range(n):\n",
        "            _ = self.dfs(grid, 0, j)\n",
        "            _ = self.dfs(grid, m-1, j)\n",
        "                \n",
        "        count = 0\n",
        "        \n",
        "        for i in range(m):\n",
        "            for j in range(n):\n",
        "                if grid[i][j] == 1:\n",
        "                    count += self.dfs(grid, i, j)\n",
        "                    \n",
        "        return count\n",
        "    \n",
        "    def dfs(self, grid, i, j):\n",
        "        \n",
        "        if i<0 or i>=len(grid) or j<0 or j>=len(grid[0]) or grid[i][j] == 0:\n",
        "            return 0\n",
        "        \n",
        "        grid[i][j] = 0\n",
        "        \n",
        "        w = self.dfs(grid, i-1, j)\n",
        "        x = self.dfs(grid, i+1, j)\n",
        "        y = self.dfs(grid, i, j-1)\n",
        "        z = self.dfs(grid, i, j+1)\n",
        "        \n",
        "        return 1+w+x+y+z"
      ],
      "execution_count": null,
      "outputs": []
    },
    {
      "cell_type": "markdown",
      "metadata": {
        "id": "poQ8HC2SYdcn"
      },
      "source": [
        "79. Word Search"
      ]
    },
    {
      "cell_type": "code",
      "metadata": {
        "id": "8fD5Cq7SYmI0"
      },
      "source": [
        "class Solution(object):\n",
        "    def exist(self, board, word):\n",
        "        \"\"\"\n",
        "        :type board: List[List[str]]\n",
        "        :type word: str\n",
        "        :rtype: bool\n",
        "        \"\"\"\n",
        "        \n",
        "        for i in range(len(board)):\n",
        "            for j in range(len(board[0])):\n",
        "                if self.dfs(board, word, i, j):\n",
        "                    return True\n",
        "                \n",
        "        return False\n",
        "    \n",
        "    def dfs(self, board, word, i, j):\n",
        "        \n",
        "        if word == '':\n",
        "            return True\n",
        "        \n",
        "        if i<0 or i>= len(board) or j<0 or j>= len(board[0]) or board[i][j] != word[0]:\n",
        "            return False\n",
        "        \n",
        "        word = word[1:]\n",
        "        \n",
        "        temp = board[i][j]\n",
        "        \n",
        "        board[i][j] = '#'\n",
        "        \n",
        "        value = self.dfs(board, word, i-1, j) or self.dfs(board, word, i+1, j) or self.dfs(board, word, i, j-1) or self.dfs(board, word, i, j+1)\n",
        "        \n",
        "        board[i][j] = temp\n",
        "        \n",
        "        return value"
      ],
      "execution_count": null,
      "outputs": []
    },
    {
      "cell_type": "markdown",
      "metadata": {
        "id": "F9euOL_TZHKG"
      },
      "source": [
        "130. Surrounded Regions"
      ]
    },
    {
      "cell_type": "code",
      "metadata": {
        "id": "biYhraVWZIL3"
      },
      "source": [
        "class Solution(object):\n",
        "    def solve(self, board):\n",
        "        \"\"\"\n",
        "        :type board: List[List[str]]\n",
        "        :rtype: None Do not return anything, modify board in-place instead.\n",
        "        \"\"\"\n",
        "        \n",
        "        if not board:\n",
        "            return board\n",
        "        \n",
        "        for i in range(len(board)):\n",
        "            self.dfs(board, i, j = 0)\n",
        "            self.dfs(board, i, j = len(board[0])-1)\n",
        "            \n",
        "        for j in range(len(board[0])):\n",
        "            self.dfs(board, 0, j)\n",
        "            self.dfs(board, len(board)-1, j)\n",
        "            \n",
        "        #print(board)    \n",
        "            \n",
        "        for i in range(len(board)):\n",
        "            for j in range(len(board[0])):\n",
        "                if board[i][j] == 'O':\n",
        "                    board[i][j] = 'X'\n",
        "                    \n",
        "        for i in range(len(board)):\n",
        "            for j in range(len(board[0])):\n",
        "                if board[i][j] == '1':\n",
        "                    board[i][j] = 'O'\n",
        "                    \n",
        "        return None\n",
        "    \n",
        "    \n",
        "    def dfs(self, board, i, j):\n",
        "        \n",
        "        #base case\n",
        "        if i<0 or i>= len(board) or j<0 or j>=len(board[0]) or board[i][j] == 'X' or board[i][j] == '1':\n",
        "            return\n",
        "        \n",
        "        board[i][j] = '1'\n",
        "        \n",
        "        self.dfs(board, i+1, j)\n",
        "        self.dfs(board, i-1, j)\n",
        "        self.dfs(board, i, j+1)\n",
        "        self.dfs(board, i, j-1)\n",
        "        \n",
        "        return\n",
        "        \n",
        "        "
      ],
      "execution_count": null,
      "outputs": []
    },
    {
      "cell_type": "markdown",
      "metadata": {
        "id": "0HeY7AFOiVn4"
      },
      "source": [
        "133. Clone Graph"
      ]
    },
    {
      "cell_type": "code",
      "metadata": {
        "id": "e3YnsrjZiYOz"
      },
      "source": [
        "class Solution(object):\n",
        "    def cloneGraph(self, node):\n",
        "        \"\"\"\n",
        "        :type node: Node\n",
        "        :rtype: Node\n",
        "        \n",
        "        Time = O(n)\n",
        "        \n",
        "        \"\"\"\n",
        "        if not node:\n",
        "            return None\n",
        "        \n",
        "        self.d = {}\n",
        "        \n",
        "        copy = self.dfs(node)\n",
        "        \n",
        "        return copy\n",
        "    \n",
        "    def dfs(self, node):\n",
        "        \n",
        "        if node in self.d:\n",
        "            return self.d[node]\n",
        "        \n",
        "        copy_node = Node(node.val)\n",
        "        self.d[node] = copy_node\n",
        "        \n",
        "        for item in node.neighbors:\n",
        "            copy_item = self.dfs(item)\n",
        "            copy_node.neighbors.append(copy_item)\n",
        "            \n",
        "        return copy_node"
      ],
      "execution_count": null,
      "outputs": []
    },
    {
      "cell_type": "markdown",
      "metadata": {
        "id": "7637YroNMfwt"
      },
      "source": [
        "1306. Jump Game 3"
      ]
    },
    {
      "cell_type": "code",
      "metadata": {
        "id": "Rcd-HwJIMild"
      },
      "source": [
        "class Solution(object):\n",
        "    def canReach(self, arr, start):\n",
        "        \"\"\"\n",
        "        :type arr: List[int]\n",
        "        :type start: int\n",
        "        :rtype: bool\n",
        "        \"\"\"\n",
        "        \n",
        "        value = self.dfs(arr, start)\n",
        "        \n",
        "        return value\n",
        "    \n",
        "    def dfs(self, arr, start):\n",
        "        \n",
        "        if start >= len(arr) or start < 0 or arr[start] == \"x\":\n",
        "            return False\n",
        "        \n",
        "        if arr[start] == 0:\n",
        "            return True\n",
        "        \n",
        "        left_start = start - arr[start]\n",
        "        right_start = start + arr[start]\n",
        "        \n",
        "        temp = arr[start]\n",
        "        arr[start] = \"x\"\n",
        "        \n",
        "        left_val = self.dfs(arr, left_start)\n",
        "        right_val = self.dfs(arr, right_start)\n",
        "        \n",
        "        arr[start] = temp\n",
        "        \n",
        "        return left_val or right_val"
      ],
      "execution_count": null,
      "outputs": []
    },
    {
      "cell_type": "markdown",
      "metadata": {
        "id": "-iD26xGXd7i5"
      },
      "source": [
        "417. Pacific Atlantic Water Flow"
      ]
    },
    {
      "cell_type": "code",
      "metadata": {
        "id": "n5zUVglpeBVj"
      },
      "source": [
        "class Solution(object):\n",
        "    def pacificAtlantic(self, heights):\n",
        "        \"\"\"\n",
        "        :type heights: List[List[int]]\n",
        "        :rtype: List[List[int]]\n",
        "        \n",
        "        Allow water to ingress into the land\n",
        "        \"\"\"\n",
        "        \n",
        "        rows = len(heights)\n",
        "        cols = len(heights[0])\n",
        "        \n",
        "        pac = set()\n",
        "        atl = set()\n",
        "        \n",
        "        \n",
        "        def dfs(visited, r, c, prev_height):\n",
        "        \n",
        "            if r < 0 or r >= rows or c < 0 or c >= cols:\n",
        "                return\n",
        "            \n",
        "            if (r, c) in visited:\n",
        "                return\n",
        "            \n",
        "            if heights[r][c] >= prev_height:\n",
        "                visited.add((r,c))\n",
        "                \n",
        "                prev_height = heights[r][c]\n",
        "                \n",
        "                dfs(visited, r-1, c, prev_height)\n",
        "                dfs(visited, r+1, c, prev_height)\n",
        "                dfs(visited, r, c-1, prev_height)\n",
        "                dfs(visited, r, c+1, prev_height)\n",
        "                \n",
        "            return\n",
        "        \n",
        "        for r in range(rows):\n",
        "            dfs(pac, r, 0, 0)\n",
        "            dfs(atl, r, cols-1, 0)\n",
        "            \n",
        "        for c in range(cols):\n",
        "            dfs(pac, 0, c, 0)\n",
        "            dfs(atl, rows-1, c, 0)\n",
        "            \n",
        "        return list(pac.intersection(atl))"
      ],
      "execution_count": null,
      "outputs": []
    },
    {
      "cell_type": "markdown",
      "metadata": {
        "id": "ZYDayCuqZUQX"
      },
      "source": [
        "## Binary Tree"
      ]
    },
    {
      "cell_type": "markdown",
      "metadata": {
        "id": "oTAFkWJEaTNs"
      },
      "source": [
        "100. Same Tree"
      ]
    },
    {
      "cell_type": "code",
      "metadata": {
        "id": "6e4mY6ufaZka"
      },
      "source": [
        "class Solution(object):\n",
        "    def isSameTree(self, p, q):\n",
        "        \"\"\"\n",
        "        :type p: TreeNode\n",
        "        :type q: TreeNode\n",
        "        :rtype: bool\n",
        "        \n",
        "        Time = O(no of nodes in p + no of nodes in q)\n",
        "        \"\"\"\n",
        "        \n",
        "        if not p and not q:\n",
        "            return True\n",
        "        \n",
        "        if not p or not q:\n",
        "            return False\n",
        "        \n",
        "        if p.val != q.val:\n",
        "            return False\n",
        "        \n",
        "        return self.isSameTree(p.left, q.left) and self.isSameTree(p.right, q.right)"
      ],
      "execution_count": null,
      "outputs": []
    },
    {
      "cell_type": "markdown",
      "metadata": {
        "id": "3Ic-8_cHZYV4"
      },
      "source": [
        "102. Binary Tree Level Order Traversal"
      ]
    },
    {
      "cell_type": "code",
      "metadata": {
        "id": "ufPtfOi2ZXbP"
      },
      "source": [
        "class Solution(object):\n",
        "    def levelOrder(self, root):\n",
        "        \"\"\"\n",
        "        :type root: TreeNode\n",
        "        :rtype: List[List[int]]\n",
        "        \"\"\"\n",
        "        if not root:\n",
        "            return []\n",
        "        \n",
        "        level = [root]\n",
        "        op = []\n",
        "        \n",
        "        while level:\n",
        "            \n",
        "            temp = []\n",
        "            for node in level:\n",
        "                temp.append(node.val)\n",
        "            op.append(temp)\n",
        "           \n",
        "            q = []\n",
        "            for node in level:\n",
        "                if node.left:\n",
        "                    q.append(node.left)\n",
        "                if node.right:\n",
        "                    q.append(node.right)\n",
        "            level = q\n",
        "            \n",
        "        return op"
      ],
      "execution_count": null,
      "outputs": []
    },
    {
      "cell_type": "markdown",
      "metadata": {
        "id": "Xb3wOI6zZjB5"
      },
      "source": [
        "107. Binary Tree Level Order Traversal II"
      ]
    },
    {
      "cell_type": "code",
      "metadata": {
        "id": "WnVHfO90ZsjT"
      },
      "source": [
        "class Solution(object):\n",
        "    def levelOrderBottom(self, root):\n",
        "        \"\"\"\n",
        "        :type root: TreeNode\n",
        "        :rtype: List[List[int]]\n",
        "        \"\"\"\n",
        "        \n",
        "        if not root:\n",
        "            return []\n",
        "        \n",
        "        level = [root]\n",
        "        result = []\n",
        "        \n",
        "        while level:\n",
        "            \n",
        "            temp = []\n",
        "            for node in level:\n",
        "                temp.append(node.val)\n",
        "            result.insert(0,temp)\n",
        "            \n",
        "            q = []\n",
        "            for node in level:\n",
        "                if node.left:\n",
        "                    q.append(node.left)\n",
        "                if node.right:\n",
        "                    q.append(node.right)\n",
        "            level = q\n",
        "            \n",
        "        return result"
      ],
      "execution_count": null,
      "outputs": []
    },
    {
      "cell_type": "markdown",
      "metadata": {
        "id": "bQZVcHBUZv4J"
      },
      "source": [
        "113. Path Sum II"
      ]
    },
    {
      "cell_type": "code",
      "metadata": {
        "id": "d5btzXygZ1vY"
      },
      "source": [
        "class Solution(object):\n",
        "    def pathSum(self, root, targetSum):\n",
        "        \"\"\"\n",
        "        :type root: TreeNode\n",
        "        :type targetSum: int\n",
        "        :rtype: List[List[int]]\n",
        "        \"\"\"\n",
        "        if not root:\n",
        "            return []\n",
        "        \n",
        "        result = []\n",
        "        stack = []\n",
        "        \n",
        "        result = self.dfs(root, targetSum, stack, result)\n",
        "        \n",
        "        return result\n",
        "    \n",
        "    def dfs(self, root, targetSum, stack, result):\n",
        "        \n",
        "        #print(\"Enter:\", root.val, stack)\n",
        "            \n",
        "        stack.append(root.val)\n",
        "        targetSum -= root.val\n",
        "            \n",
        "        if targetSum == 0 and not root.left and not root.right:\n",
        "            result.append(stack[:])\n",
        "            targetSum += root.val\n",
        "            stack.pop()\n",
        "            #print(\"Exit:\", root.val, stack)\n",
        "            return result\n",
        "        \n",
        "        if targetSum != 0 and not root.left and not root.right:\n",
        "            targetSum += root.val\n",
        "            stack.pop()\n",
        "            #print(\"Exit:\", root.val, stack)\n",
        "            return result\n",
        "            \n",
        "            \n",
        "        if root.left:\n",
        "            result = self.dfs(root.left, targetSum, stack, result)\n",
        "        if root.right:\n",
        "            result = self.dfs(root.right, targetSum, stack, result)\n",
        "                \n",
        "        targetSum += root.val\n",
        "        stack.pop()\n",
        "        \n",
        "        #print(\"Exit:\", root.val, stack)\n",
        "            \n",
        "        return result"
      ],
      "execution_count": null,
      "outputs": []
    },
    {
      "cell_type": "markdown",
      "metadata": {
        "id": "UElwR-SHaIAJ"
      },
      "source": [
        "437. Path Sum III"
      ]
    },
    {
      "cell_type": "code",
      "metadata": {
        "id": "cU0eZrtLaWAD"
      },
      "source": [
        "class Solution(object):\n",
        "    def pathSum(self, root, targetSum):\n",
        "        \"\"\"\n",
        "        :type root: TreeNode\n",
        "        :type targetSum: int\n",
        "        :rtype: int\n",
        "        \"\"\"\n",
        "        \n",
        "        if not root:\n",
        "            return 0\n",
        "        \n",
        "        level = [root]\n",
        "        count = 0\n",
        "        \n",
        "        while level:\n",
        "            \n",
        "            for node in level:\n",
        "                count += self.dfs(node, targetSum, 0)\n",
        "            \n",
        "            q = []\n",
        "            \n",
        "            for node in level:\n",
        "                if node.left:\n",
        "                    q.append(node.left)\n",
        "                if node.right:\n",
        "                    q.append(node.right)\n",
        "            level = q\n",
        "        \n",
        "        return count\n",
        "    "
      ],
      "execution_count": null,
      "outputs": []
    },
    {
      "cell_type": "markdown",
      "metadata": {
        "id": "OZ3hg_3EadBD"
      },
      "source": [
        "124. Binary Tree Maximum Path Sum"
      ]
    },
    {
      "cell_type": "code",
      "metadata": {
        "id": "hmCvrDB4alJI"
      },
      "source": [
        "class Solution(object):\n",
        "    def maxPathSum(self, root):\n",
        "        \"\"\"\n",
        "        :type root: TreeNode\n",
        "        :rtype: int\n",
        "        \"\"\"\n",
        "        \n",
        "        self.max_sum = -1000000\n",
        "        \n",
        "        _ = self.dfs(root)\n",
        "        \n",
        "        return self.max_sum\n",
        "    \n",
        "    def dfs(self, root):\n",
        "        \n",
        "        if not root.left and not root.right:\n",
        "            self.max_sum = max(self.max_sum, root.val)\n",
        "            return root.val\n",
        "        \n",
        "        x = 0\n",
        "        y = 0\n",
        "        if root.left:\n",
        "            x = self.dfs(root.left)\n",
        "        if root.right:\n",
        "            y = self.dfs(root.right)\n",
        "        self.max_sum = max(self.max_sum, x+root.val, y+root.val, x+y+root.val, root.val)\n",
        "        \n",
        "        return max(x, y, 0) + root.val"
      ],
      "execution_count": null,
      "outputs": []
    },
    {
      "cell_type": "markdown",
      "metadata": {
        "id": "hVzf-ingapNj"
      },
      "source": [
        "543. Diameter of Binary Tree"
      ]
    },
    {
      "cell_type": "code",
      "metadata": {
        "id": "8lBopm1Aav9d"
      },
      "source": [
        "class Solution(object):\n",
        "    def diameterOfBinaryTree(self, root):\n",
        "        \"\"\"\n",
        "        :type root: TreeNode\n",
        "        :rtype: int\n",
        "        \"\"\"\n",
        "        \n",
        "        if not root:\n",
        "            return 0\n",
        "        \n",
        "        self.dia = 0\n",
        "        \n",
        "        result = self.dfs(root)\n",
        "        \n",
        "        return self.dia\n",
        "    \n",
        "    def dfs(self, root):\n",
        "        \n",
        "        if not root.left and not root.right:\n",
        "            return 0\n",
        "        \n",
        "        x = 0\n",
        "        y = 0\n",
        "        \n",
        "        if root.left:\n",
        "            x = 1 + self.dfs(root.left)\n",
        "        if root.right:\n",
        "            y = 1 + self.dfs(root.right)\n",
        "            \n",
        "        self.dia = max(self.dia, x + y)\n",
        "        \n",
        "        return max(x, y)\n",
        "        "
      ],
      "execution_count": null,
      "outputs": []
    },
    {
      "cell_type": "markdown",
      "metadata": {
        "id": "71ayN13Ga2uR"
      },
      "source": [
        "687. Longest Univalue Path"
      ]
    },
    {
      "cell_type": "code",
      "metadata": {
        "id": "JTw9_SfFa7av"
      },
      "source": [
        "class Solution(object):\n",
        "    def longestUnivaluePath(self, root):\n",
        "        \"\"\"\n",
        "        :type root: TreeNode\n",
        "        :rtype: int\n",
        "        \"\"\"\n",
        "        \n",
        "        if not root:\n",
        "            return 0\n",
        "        \n",
        "        self.lpl = 0\n",
        "        \n",
        "        result = self.dfs(root)\n",
        "        \n",
        "        return self.lpl\n",
        "    \n",
        "    def dfs(self, root):\n",
        "        \n",
        "        #print(\"Enter:\", root.val)\n",
        "        \n",
        "        if not root.left and not root.right:\n",
        "            #print(\"Exit1:\", root.val)\n",
        "            return 0\n",
        "        \n",
        "        x = 0\n",
        "        y = 0\n",
        "        \n",
        "        if root.left:\n",
        "            x = self.dfs(root.left)\n",
        "            if root.val == root.left.val:\n",
        "                x += 1\n",
        "            else:\n",
        "                x = 0\n",
        "        if root.right:\n",
        "            y = self.dfs(root.right)\n",
        "            if root.val == root.right.val:\n",
        "                y += 1\n",
        "            else:\n",
        "                y = 0\n",
        "        \n",
        "        self.lpl = max(self.lpl, x+y)\n",
        "        \n",
        "        #print(\"Exit2:\", root.val)\n",
        "        return max(x, y)"
      ],
      "execution_count": null,
      "outputs": []
    },
    {
      "cell_type": "markdown",
      "metadata": {
        "id": "ScOhwAUIbB9u"
      },
      "source": [
        "129. Sum Root to Leaf Numbers"
      ]
    },
    {
      "cell_type": "code",
      "metadata": {
        "id": "4qAJ5LWmbNpT"
      },
      "source": [
        "class Solution(object):\n",
        "    def sumNumbers(self, root):\n",
        "        \"\"\"\n",
        "        :type root: TreeNode\n",
        "        :rtype: int\n",
        "        \"\"\"\n",
        "        self.result = 0\n",
        "        string = \"\"\n",
        "        \n",
        "        self.dfs(root, string)\n",
        "        \n",
        "        return self.result\n",
        "    \n",
        "    def dfs(self, root, string):\n",
        "        \n",
        "        if not root.left and not root.right:\n",
        "            string += str(root.val)\n",
        "            self.result += int(string)\n",
        "            string = string[:-1]\n",
        "            return\n",
        "        \n",
        "        string += str(root.val)\n",
        "        if root.left:\n",
        "            self.dfs(root.left, string)\n",
        "        if root.right:\n",
        "            self.dfs(root.right, string)\n",
        "        string = string[:-1]\n",
        "        \n",
        "        return"
      ],
      "execution_count": null,
      "outputs": []
    },
    {
      "cell_type": "markdown",
      "metadata": {
        "id": "0cqI7g5P59Ic"
      },
      "source": [
        "94. Binary Tree Inorder Traversal"
      ]
    },
    {
      "cell_type": "code",
      "metadata": {
        "id": "BrHJAEvJ7G4g"
      },
      "source": [
        "class Solution(object):\n",
        "    def inorderTraversal(self, root):\n",
        "        \"\"\"\n",
        "        :type root: TreeNode\n",
        "        :rtype: List[int]\n",
        "        \"\"\"\n",
        "        \n",
        "        stack = []\n",
        "        \n",
        "        stack = self.dfs(root, stack)\n",
        "        \n",
        "        return stack\n",
        "    \n",
        "    def dfs(self, node, stack):\n",
        "        \n",
        "        if not node:\n",
        "            return stack\n",
        "        \n",
        "        if node.left:\n",
        "            stack = self.dfs(node.left, stack)\n",
        "            \n",
        "        stack.append(node.val)\n",
        "        \n",
        "        if node.right:\n",
        "            stack = self.dfs(node.right, stack)\n",
        "            \n",
        "        return stack"
      ],
      "execution_count": null,
      "outputs": []
    },
    {
      "cell_type": "markdown",
      "metadata": {
        "id": "b-i2Zcnapfvt"
      },
      "source": [
        "236. Lowest Common Ancestor of a Binary Tree"
      ]
    },
    {
      "cell_type": "code",
      "metadata": {
        "id": "w6mDRHYqpmYF"
      },
      "source": [
        "class Solution(object):\n",
        "    def lowestCommonAncestor(self, root, p, q):\n",
        "        \"\"\"\n",
        "        :type root: TreeNode\n",
        "        :type p: TreeNode\n",
        "        :type q: TreeNode\n",
        "        :rtype: TreeNode\n",
        "        \n",
        "        Time = O(n)\n",
        "        \"\"\"\n",
        "        \n",
        "        common_node = self.dfs(root, p, q)\n",
        "        \n",
        "        return common_node\n",
        "    \n",
        "    def dfs(self, node, p, q):\n",
        "        \n",
        "        if not node:\n",
        "            return node\n",
        "        \n",
        "        if node == p or node == q:\n",
        "            #We return as soon as we hit either p or q.\n",
        "            #Notice that this works even when for eg. q is a descendant of p,\n",
        "            #because of how we have put the if statements later in the code.\n",
        "            return node\n",
        "        \n",
        "        node_l = self.dfs(node.left, p, q)\n",
        "        \n",
        "        node_r = self.dfs(node.right, p, q)\n",
        "        \n",
        "        if (node_l == p and node_r == q) or (node_l == q and node_r == p):\n",
        "            return node\n",
        "        \n",
        "        if node_l and not node_r:\n",
        "            return node_l\n",
        "        \n",
        "        if not node_l and node_r:\n",
        "            return node_r\n",
        "        \n",
        "        if not node_l and not node_r:\n",
        "            return node_r"
      ],
      "execution_count": null,
      "outputs": []
    },
    {
      "cell_type": "markdown",
      "metadata": {
        "id": "BgdqK3kKCJc_"
      },
      "source": [
        "572. Subtree of another tree"
      ]
    },
    {
      "cell_type": "code",
      "metadata": {
        "id": "Efv1H4KsCNc1"
      },
      "source": [
        "class Solution(object):\n",
        "    def isSubtree(self, root, subRoot):\n",
        "        \"\"\"\n",
        "        :type root: TreeNode\n",
        "        :type subRoot: TreeNode\n",
        "        :rtype: bool\n",
        "        \n",
        "        Time = O(m*n)\n",
        "        Space = O( min(m,n) ) ---> ??\n",
        "        \"\"\"\n",
        "        if not root:\n",
        "            return False\n",
        "        \n",
        "        value = self.probe(root, subRoot)\n",
        "        \n",
        "        return value\n",
        "    \n",
        "    def probe(self, node, subRoot):\n",
        "        \n",
        "        if self.isSame(node, subRoot):\n",
        "            return True\n",
        "        \n",
        "        if node.left and node.right: \n",
        "            return self.probe(node.left, subRoot) or self.probe(node.right, subRoot)\n",
        "        \n",
        "        if node.left:\n",
        "            return self.probe(node.left, subRoot)\n",
        "        \n",
        "        if node.right:\n",
        "            return self.probe(node.right, subRoot)\n",
        "    \n",
        "    def isSame(self, node_main, node_sub):\n",
        "        if not node_main and not node_sub:\n",
        "            return True\n",
        "        \n",
        "        if not node_main and node_sub:\n",
        "            return False\n",
        "        \n",
        "        if node_main and not node_sub:\n",
        "            return False\n",
        "        \n",
        "        if node_main.val != node_sub.val:\n",
        "            return False\n",
        "        \n",
        "        return (self.isSame(node_main.left, node_sub.left)) and (self.isSame(node_main.right, node_sub.right))"
      ],
      "execution_count": null,
      "outputs": []
    },
    {
      "cell_type": "markdown",
      "metadata": {
        "id": "XJR1Mknp5fFr"
      },
      "source": [
        "105. Construct Binary Tree from Preorder and Inorder Traversal"
      ]
    },
    {
      "cell_type": "code",
      "metadata": {
        "id": "4JrwqcVf5ogO"
      },
      "source": [
        "class Solution(object):\n",
        "    def buildTree(self, preorder, inorder):\n",
        "        \"\"\"\n",
        "        :type preorder: List[int]\n",
        "        :type inorder: List[int]\n",
        "        :rtype: TreeNode\n",
        "        \n",
        "        Time = O(n) --> ??\n",
        "        \"\"\"\n",
        "        if not preorder or not inorder:\n",
        "            return None\n",
        "        \n",
        "        root = TreeNode(preorder[0])\n",
        "        \n",
        "        mid = inorder.index(preorder[0])\n",
        "        \n",
        "        preorder_left = preorder[1:mid+1]\n",
        "        preorder_right = preorder[mid+1:]\n",
        "        \n",
        "        inorder_left = inorder[:mid]\n",
        "        inorder_right = inorder[mid+1:]\n",
        "        \n",
        "        root.left = self.buildTree(preorder_left, inorder_left)\n",
        "        root.right = self.buildTree(preorder_right, inorder_right)\n",
        "        \n",
        "        return root"
      ],
      "execution_count": null,
      "outputs": []
    },
    {
      "cell_type": "markdown",
      "metadata": {
        "id": "ARljbcUGo1vu"
      },
      "source": [
        "## Binary Search Tree"
      ]
    },
    {
      "cell_type": "markdown",
      "metadata": {
        "id": "JGcaQ7Boo5Hp"
      },
      "source": [
        "98. Validate Binary Search Tree"
      ]
    },
    {
      "cell_type": "code",
      "metadata": {
        "id": "VOHmhxf5pAEs"
      },
      "source": [
        "# Definition for a binary tree node.\n",
        "# class TreeNode(object):\n",
        "#     def __init__(self, val=0, left=None, right=None):\n",
        "#         self.val = val\n",
        "#         self.left = left\n",
        "#         self.right = right\n",
        "class Solution(object):\n",
        "    def isValidBST(self, root):\n",
        "        \"\"\"\n",
        "        :type root: TreeNode\n",
        "        :rtype: bool\n",
        "        \n",
        "        Time = O(no of nodes)\n",
        "        \"\"\"\n",
        "        \n",
        "        left = float(\"-inf\")\n",
        "        right = float(\"inf\")\n",
        "        \n",
        "        value = self.valid(root, left, right)\n",
        "        \n",
        "        return value\n",
        "    \n",
        "    def valid(self, node, left, right):\n",
        "        \n",
        "        if not node:\n",
        "            return True\n",
        "        \n",
        "        if not (node.val > left and node.val < right):\n",
        "            return False\n",
        "        \n",
        "        return (self.valid(node.left, left, node.val) and \n",
        "                self.valid(node.right, node.val, right))"
      ],
      "execution_count": null,
      "outputs": []
    },
    {
      "cell_type": "markdown",
      "metadata": {
        "id": "OMwbiNQNHPSf"
      },
      "source": [
        "235. Lowest Common Ancestor of a BST"
      ]
    },
    {
      "cell_type": "code",
      "metadata": {
        "id": "r4S-DogNHZMx"
      },
      "source": [
        "class Solution(object):\n",
        "    def lowestCommonAncestor(self, root, p, q):\n",
        "        \"\"\"\n",
        "        :type root: TreeNode\n",
        "        :type p: TreeNode\n",
        "        :type q: TreeNode\n",
        "        :rtype: TreeNode\n",
        "        \n",
        "        Time = O(log n)\n",
        "        Space = O(1)\n",
        "        \"\"\"\n",
        "        \n",
        "        common_node = self.dfs(root, p, q)\n",
        "        \n",
        "        return common_node\n",
        "    \n",
        "    def dfs(self, node, p, q):\n",
        "        \n",
        "        if node == p:\n",
        "            return node\n",
        "        \n",
        "        if node == q:\n",
        "            return node\n",
        "            \n",
        "        if (node.val<p.val and node.val>q.val) or (node.val>p.val and node.val<q.val):\n",
        "            return node\n",
        "        \n",
        "        if (node.val>p.val) and (node.val>q.val):\n",
        "            common_node = self.dfs(node.left, p, q)\n",
        "            \n",
        "        if (node.val<p.val) and (node.val<q.val):\n",
        "            common_node = self.dfs(node.right, p, q)\n",
        "            \n",
        "        return common_node\n",
        "        "
      ],
      "execution_count": null,
      "outputs": []
    },
    {
      "cell_type": "markdown",
      "metadata": {
        "id": "J927tGrobQ7v"
      },
      "source": [
        "## Dynamic Programming"
      ]
    },
    {
      "cell_type": "markdown",
      "metadata": {
        "id": "nUiVzH6qpgE5"
      },
      "source": [
        "518. Coin Change 2"
      ]
    },
    {
      "cell_type": "code",
      "metadata": {
        "id": "t4OoxTtYpY42"
      },
      "source": [
        "class Solution(object):\n",
        "    def change(self, amount, coins):\n",
        "        \"\"\"\n",
        "        :type amount: int\n",
        "        :type coins: List[int]\n",
        "        :rtype: int\n",
        "        \n",
        "        Time = O(len(coins) * amount)\n",
        "        Space = O(amount)\n",
        "        \n",
        "        dp[i][j] = dp[i-1][j] + dp[i][j - coins[i-1]]\n",
        "        \"\"\"\n",
        "        \n",
        "        dp = [0]*(amount + 1)\n",
        "        \n",
        "        dp[0] = 1\n",
        "        \n",
        "        for i in range(len(coins)):\n",
        "            for j in range(1,amount+1):\n",
        "                if j >= coins[i-1]:\n",
        "                    dp[j] += dp[j - coins[i-1]]\n",
        "                \n",
        "        return dp[amount]"
      ],
      "execution_count": null,
      "outputs": []
    },
    {
      "cell_type": "markdown",
      "metadata": {
        "id": "CLBjNB8BDWL3"
      },
      "source": [
        "62. Unique Paths"
      ]
    },
    {
      "cell_type": "code",
      "metadata": {
        "id": "Ft1q17RGDaJT"
      },
      "source": [
        "class Solution(object):\n",
        "    def uniquePaths(self, m, n):\n",
        "        \"\"\"\n",
        "        :type m: int\n",
        "        :type n: int\n",
        "        :rtype: int\n",
        "        \"\"\"\n",
        "        dp = [[1]*n]*m\n",
        "        \n",
        "        for i in range(1,m):\n",
        "            for j in range(1,n):\n",
        "                dp[i][j]=dp[i][j-1]+dp[i-1][j]\n",
        "                \n",
        "        return dp[m-1][n-1]        "
      ],
      "execution_count": null,
      "outputs": []
    },
    {
      "cell_type": "markdown",
      "metadata": {
        "id": "DvYW1faJPTM8"
      },
      "source": [
        "416. Partition Equal Subset Sum"
      ]
    },
    {
      "cell_type": "code",
      "metadata": {
        "id": "w3nBEOFDPXFN"
      },
      "source": [
        "class Solution(object):\n",
        "    def canPartition(self, nums):\n",
        "        \"\"\"\n",
        "        :type nums: List[int]\n",
        "        :rtype: bool\n",
        "        \"\"\"\n",
        "        sum_ = 0\n",
        "        \n",
        "        for i in range(len(nums)):\n",
        "            sum_ += nums[i]\n",
        "            \n",
        "        if sum_%2 != 0:\n",
        "            return False\n",
        "        \n",
        "        sum_ = sum_ / 2\n",
        "        \n",
        "        dp = [[False for j in range(sum_+1)] for i in range(len(nums)+1)]\n",
        "        \n",
        "        dp[0][0] = True\n",
        "        \n",
        "        for i in range(1, len(nums)+1):\n",
        "            for j in range(sum_ + 1):\n",
        "                    \n",
        "                if j >= nums[i-1]:\n",
        "                    dp[i][j] = dp[i-1][j] or dp[i-1][j - nums[i-1]]\n",
        "                    \n",
        "                else:\n",
        "                    dp[i][j] = dp[i-1][j] \n",
        "\n",
        "                    \n",
        "        return dp[len(nums)][sum_]"
      ],
      "execution_count": null,
      "outputs": []
    },
    {
      "cell_type": "markdown",
      "metadata": {
        "id": "cewydoGoA6cN"
      },
      "source": [
        "1143. Longest Common Subsequence"
      ]
    },
    {
      "cell_type": "code",
      "metadata": {
        "id": "MNSBPYuyA_iI"
      },
      "source": [
        "class Solution(object):\n",
        "    def longestCommonSubsequence(self, text1, text2):\n",
        "        \"\"\"\n",
        "        :type text1: str\n",
        "        :type text2: str\n",
        "        :rtype: int\n",
        "        \n",
        "        Time = O(len(text1)*len(text2))\n",
        "        Space = O(len(text1)*len(text2))\n",
        "        \"\"\"\n",
        "        \n",
        "        dp = [[0 for j in range(len(text1)+1)] for i in range(len(text2)+1)]\n",
        "        \n",
        "        for i in range(1,len(text2)+1):\n",
        "            for j in range(1,len(text1)+1):\n",
        "                if text2[i-1] == text1[j-1]:\n",
        "                    dp[i][j] = 1 + dp[i-1][j-1]\n",
        "                else:\n",
        "                    dp[i][j] = max(dp[i][j-1], dp[i-1][j])\n",
        "                    \n",
        "        return dp[len(text2)][len(text1)]"
      ],
      "execution_count": null,
      "outputs": []
    },
    {
      "cell_type": "markdown",
      "metadata": {
        "id": "meT8teXHZ5xD"
      },
      "source": [
        "5. Longest Palindromic Substring"
      ]
    },
    {
      "cell_type": "code",
      "metadata": {
        "id": "z93m6aaJZ-x6"
      },
      "source": [
        "class Solution(object):\n",
        "    def longestPalindrome(self, s):\n",
        "        \"\"\"\n",
        "        :type s: str\n",
        "        :rtype: str\n",
        "        \n",
        "        Time = O(n^2)\n",
        "        Space = O(n^2)\n",
        "        \"\"\"\n",
        "        \n",
        "        dp = [[0 for j in range(len(s))] for i in range(len(s))]\n",
        "        \n",
        "        t = \"\"\n",
        "        \n",
        "        for i in range(len(s)):\n",
        "            dp[i][i] = 1\n",
        "            t = s[i]\n",
        "            \n",
        "            \n",
        "        for i in range(len(s)-1):\n",
        "            if s[i] == s[i+1]:\n",
        "                dp[i][i+1] = 1\n",
        "                t = s[i:i+2]\n",
        "                \n",
        "        cur_max = 0\n",
        "        for j in range(2, len(s)):\n",
        "            for i in range(len(s)-j):\n",
        "                if (s[i] == s[i+j]) and (dp[i+1][i+j-1] == 1):\n",
        "                    dp[i][i+j] = 1\n",
        "                    if j > cur_max:\n",
        "                        t = s[i:i+j+1]\n",
        "                        cur_max = j\n",
        "                    \n",
        "                    \n",
        "        return t"
      ],
      "execution_count": null,
      "outputs": []
    },
    {
      "cell_type": "markdown",
      "metadata": {
        "id": "VwueUgjRKIM0"
      },
      "source": [
        "198. House Robber"
      ]
    },
    {
      "cell_type": "code",
      "metadata": {
        "id": "gI99Q9bEKMw0"
      },
      "source": [
        "class Solution(object):\n",
        "    def rob(self, nums):\n",
        "        \"\"\"\n",
        "        :type nums: List[int]\n",
        "        :rtype: int\n",
        "        \n",
        "        Time = O(N)\n",
        "        Space = O(1)\n",
        "        \"\"\"\n",
        "        \n",
        "        if len(nums) == 1:\n",
        "            return nums[0]\n",
        "         \n",
        "        a = 0\n",
        "        b = nums[0]\n",
        "        \n",
        "        temp = 0\n",
        "        \n",
        "        for i in range(1, len(nums)):\n",
        "            \n",
        "            temp = max(nums[i] + a, b)\n",
        "            a = b\n",
        "            b = temp\n",
        "            \n",
        "            #print(a,b)\n",
        "            \n",
        "        return b"
      ],
      "execution_count": null,
      "outputs": []
    },
    {
      "cell_type": "markdown",
      "metadata": {
        "id": "6tNQzxvl5h-3"
      },
      "source": [
        "213. House Robber II"
      ]
    },
    {
      "cell_type": "code",
      "metadata": {
        "id": "E4cNpoB-5oYi"
      },
      "source": [
        "class Solution(object):\n",
        "    def rob(self, nums):\n",
        "        \"\"\"\n",
        "        :type nums: List[int]\n",
        "        :rtype: int\n",
        "        \"\"\"\n",
        "        if len(nums) == 1:\n",
        "            return nums[0]\n",
        "        \n",
        "        a = self.house_robber_1(nums[:-1])\n",
        "        b = self.house_robber_1(nums[1:])\n",
        "        \n",
        "        return max(a,b)\n",
        "    \n",
        "    def house_robber_1(self, array):\n",
        "         \n",
        "        a = 0\n",
        "        b = array[0]\n",
        "        \n",
        "        temp = 0\n",
        "        \n",
        "        for i in range(1, len(array)):\n",
        "            \n",
        "            temp = max(array[i] + a, b)\n",
        "            a = b\n",
        "            b = temp\n",
        "            \n",
        "        return b"
      ],
      "execution_count": null,
      "outputs": []
    },
    {
      "cell_type": "markdown",
      "metadata": {
        "id": "hXcXeJ6HRyU5"
      },
      "source": [
        "139. Word Break"
      ]
    },
    {
      "cell_type": "code",
      "metadata": {
        "id": "UY0IngmuR31M"
      },
      "source": [
        "class Solution(object):\n",
        "    def wordBreak(self, s, wordDict):\n",
        "        \"\"\"\n",
        "        :type s: str\n",
        "        :type wordDict: List[str]\n",
        "        :rtype: bool\n",
        "        \"\"\"\n",
        "        \n",
        "        dp = [False for i in range(len(s)+1)]\n",
        "        dp[len(s)] = True\n",
        "        \n",
        "        for i in range(len(s)-1, -1, -1):\n",
        "            \n",
        "            for item in wordDict:\n",
        "                \n",
        "                if (i + len(item)) <= len(s) and s[i:i+len(item)] == item:\n",
        "                    dp[i] = dp[i + len(item)]\n",
        "                    \n",
        "                if dp[i]:\n",
        "                    break\n",
        "                    \n",
        "        return dp[0]"
      ],
      "execution_count": null,
      "outputs": []
    },
    {
      "cell_type": "markdown",
      "metadata": {
        "id": "vVgpofnb9OpE"
      },
      "source": [
        "337. House Robber III"
      ]
    },
    {
      "cell_type": "code",
      "metadata": {
        "id": "kKWVD_JY9VFw"
      },
      "source": [
        "class Solution(object):\n",
        "    def rob(self, root):\n",
        "        \"\"\"\n",
        "        :type root: TreeNode\n",
        "        :rtype: int\n",
        "\n",
        "        wr = with root\n",
        "\n",
        "        wor = without root\n",
        "        \n",
        "        \"\"\"\n",
        "        wr, wor = self.func(root)\n",
        "        \n",
        "        return max(wr, wor)\n",
        "    \n",
        "    def func(self, node):\n",
        "        \n",
        "        if node.left:\n",
        "            wr1, wor1 = self.func(node.left)\n",
        "        else:\n",
        "            wr1, wor1 = 0, 0\n",
        "            \n",
        "        if node.right:\n",
        "            wr2, wor2 = self.func(node.right)\n",
        "        else:\n",
        "            wr2, wor2 = 0, 0\n",
        "            \n",
        "        wr3 = max(node.val + wor1 + wor2, wr1 + wr2)\n",
        "        \n",
        "        wor3 = wr1 + wr2\n",
        "        \n",
        "        return wr3, wor3"
      ],
      "execution_count": null,
      "outputs": []
    },
    {
      "cell_type": "markdown",
      "metadata": {
        "id": "DWYwkNDvJl94"
      },
      "source": [
        "338. Counting Bits"
      ]
    },
    {
      "cell_type": "code",
      "metadata": {
        "id": "eyfK5hXOJpPv"
      },
      "source": [
        "class Solution(object):\n",
        "    def countBits(self, n):\n",
        "        \"\"\"\n",
        "        :type n: int\n",
        "        :rtype: List[int]\n",
        "        \n",
        "        Time = O(n)\n",
        "        \"\"\"\n",
        "        \n",
        "        if n == 0:\n",
        "            return [0]\n",
        "        \n",
        "        if n == 1:\n",
        "            return [0,1]\n",
        "        \n",
        "        dp = [0 for i in range(n+1)]\n",
        "        dp[1] = 1\n",
        "        \n",
        "        a = 2\n",
        "        for i in range(2, n+1):\n",
        "            \n",
        "            if i == 2*a:\n",
        "                a = 2*a\n",
        "                \n",
        "            dp[i] = 1 + dp[i-a]\n",
        "            \n",
        "        return dp"
      ],
      "execution_count": null,
      "outputs": []
    },
    {
      "cell_type": "markdown",
      "metadata": {
        "id": "rVz04L_PnvE-"
      },
      "source": [
        "## Heaps"
      ]
    },
    {
      "cell_type": "markdown",
      "metadata": {
        "id": "AwEAYwVgnzYO"
      },
      "source": [
        "215. Kth largest element in an array"
      ]
    },
    {
      "cell_type": "code",
      "metadata": {
        "id": "5jrNRIPtnw1w"
      },
      "source": [
        "class Solution(object):\n",
        "    def findKthLargest(self, nums, k):\n",
        "        \"\"\"\n",
        "        :type nums: List[int]\n",
        "        :type k: int\n",
        "        :rtype: int\n",
        "        \n",
        "        heapify time = O(n)\n",
        "        \n",
        "        heappop = O(log n)\n",
        "        \n",
        "        we pop k times, therefore time for popping  = O(k log n)\n",
        "        \n",
        "        In worst case, k = n\n",
        "        \n",
        "        Therefore, time = O(n log n)\n",
        "        \n",
        "        \"\"\"\n",
        "        \n",
        "        new_array = [-int(n) for n in nums]\n",
        "        \n",
        "        heapq.heapify(new_array)\n",
        "        \n",
        "        while k > 1:\n",
        "            \n",
        "            heapq.heappop(new_array)\n",
        "            k -= 1\n",
        "            \n",
        "        return str(-new_array[0])"
      ],
      "execution_count": null,
      "outputs": []
    },
    {
      "cell_type": "markdown",
      "metadata": {
        "id": "QiX1dwsHuqF-"
      },
      "source": [
        "295. Find Median from Data Stream"
      ]
    },
    {
      "cell_type": "code",
      "metadata": {
        "id": "bxUPjtOSuvpC"
      },
      "source": [
        "class MedianFinder(object):\n",
        "\n",
        "    def __init__(self):\n",
        "        \n",
        "        self.small = []\n",
        "        self.large = []\n",
        "        \n",
        "\n",
        "    def addNum(self, num):\n",
        "        \"\"\"\n",
        "        :type num: int\n",
        "        :rtype: None\n",
        "        \"\"\"\n",
        "        \n",
        "        heapq.heappush(self.small, -1*num)\n",
        "        \n",
        "        if self.small and self.large and -1*self.small[0] > self.large[0]:\n",
        "            value = -1*heapq.heappop(self.small)\n",
        "            heapq.heappush(self.large, value)\n",
        "        \n",
        "        if len(self.small) - len(self.large) > 1:\n",
        "            value = -1*heapq.heappop(self.small)\n",
        "            heapq.heappush(self.large, value)\n",
        "            \n",
        "        if len(self.large) - len(self.small) > 1:\n",
        "            value = heapq.heappop(self.large)\n",
        "            heapq.heappush(self.small, -1*value)\n",
        "        \n",
        "\n",
        "    def findMedian(self):\n",
        "        \"\"\"\n",
        "        :rtype: float\n",
        "        \"\"\"\n",
        "        \n",
        "        if len(self.small) > len(self.large):\n",
        "            return -1*self.small[0]\n",
        "        \n",
        "        if len(self.large) > len(self.small):\n",
        "            return self.large[0]\n",
        "        \n",
        "        return float(-1*self.small[0] + self.large[0])/2"
      ],
      "execution_count": null,
      "outputs": []
    },
    {
      "cell_type": "markdown",
      "metadata": {
        "id": "L2f0eyOoQNa1"
      },
      "source": [
        "## Bit Manipulation"
      ]
    },
    {
      "cell_type": "markdown",
      "metadata": {
        "id": "beSU05O5QS4O"
      },
      "source": [
        "191. Number of 1 bits"
      ]
    },
    {
      "cell_type": "code",
      "metadata": {
        "id": "9qSd8h1qQRBj"
      },
      "source": [
        "class Solution(object):\n",
        "    def hammingWeight(self, n):\n",
        "        \"\"\"\n",
        "        :type n: int\n",
        "        :rtype: int\n",
        "        \n",
        "        Time = O(1) not a mistake, it is indeed O(1) as n is a 32 bit integer\n",
        "        \"\"\"\n",
        "        \n",
        "        count = 0\n",
        "        mask = 1\n",
        "        \n",
        "        for i in range(32):\n",
        "            if n & mask:\n",
        "                count += 1\n",
        "            mask = mask<<1\n",
        "            \n",
        "        return count"
      ],
      "execution_count": null,
      "outputs": []
    },
    {
      "cell_type": "markdown",
      "metadata": {
        "id": "QloEE5LvPnrc"
      },
      "source": [
        "## Linked List"
      ]
    },
    {
      "cell_type": "markdown",
      "metadata": {
        "id": "fKsm1U4APpe8"
      },
      "source": [
        "206. Reverse Linked List"
      ]
    },
    {
      "cell_type": "code",
      "metadata": {
        "id": "nzv2WtiSPl5Q"
      },
      "source": [
        "class Solution(object):\n",
        "    def reverseList(self, head):\n",
        "        \"\"\"\n",
        "        :type head: ListNode\n",
        "        :rtype: ListNode\n",
        "        \"\"\"\n",
        "        \n",
        "        prev = None\n",
        "        \n",
        "        current = head\n",
        "        \n",
        "        while current:\n",
        "            \n",
        "            temp = current.next\n",
        "            \n",
        "            current.next = prev\n",
        "            \n",
        "            prev = current\n",
        "            \n",
        "            current = temp\n",
        "            \n",
        "        return prev"
      ],
      "execution_count": null,
      "outputs": []
    },
    {
      "cell_type": "markdown",
      "metadata": {
        "id": "d14MzAbftt70"
      },
      "source": [
        "141. Linked List Cycle"
      ]
    },
    {
      "cell_type": "code",
      "metadata": {
        "id": "IFk7sqzhtwfM"
      },
      "source": [
        "class Solution(object):\n",
        "    def hasCycle(self, head):\n",
        "        \"\"\"\n",
        "        :type head: ListNode\n",
        "        :rtype: bool\n",
        "        \n",
        "        Time = O(n)\n",
        "        Space = O(1)\n",
        "        \n",
        "        \"\"\"\n",
        "        \n",
        "        slow, fast = head, head\n",
        "        \n",
        "        while fast and fast.next:\n",
        "            slow = slow.next\n",
        "            fast = fast.next.next\n",
        "            \n",
        "            if slow == fast:\n",
        "                return True\n",
        "            \n",
        "        return False"
      ],
      "execution_count": null,
      "outputs": []
    },
    {
      "cell_type": "markdown",
      "metadata": {
        "id": "N4PgncnluMPR"
      },
      "source": [
        "142. Linked List Cycle II"
      ]
    },
    {
      "cell_type": "code",
      "metadata": {
        "id": "VgYZNQDRuPKZ"
      },
      "source": [
        "class Solution(object):\n",
        "    def detectCycle(self, head):\n",
        "        \"\"\"\n",
        "        :type head: ListNode\n",
        "        :rtype: ListNode\n",
        "        \"\"\"\n",
        "        if not head or not head.next:\n",
        "            return None\n",
        "        \n",
        "        slow = head\n",
        "        fast = head\n",
        "        \n",
        "        while fast:\n",
        "            slow = slow.next\n",
        "            fast = fast.next.next\n",
        "            \n",
        "            if fast == None or fast.next == None:\n",
        "                return None\n",
        "            \n",
        "            if slow == fast:\n",
        "                break\n",
        "                \n",
        "        another_slow = head\n",
        "        \n",
        "        while slow != another_slow:\n",
        "            \n",
        "            slow = slow.next\n",
        "            another_slow = another_slow.next\n",
        "            \n",
        "        return slow"
      ],
      "execution_count": null,
      "outputs": []
    },
    {
      "cell_type": "markdown",
      "metadata": {
        "id": "oD0HsIX8knQg"
      },
      "source": [
        "21. Merge Two Sorted Lists"
      ]
    },
    {
      "cell_type": "code",
      "metadata": {
        "id": "VeMdnkQfkqjT"
      },
      "source": [
        "class Solution(object):\n",
        "    def mergeTwoLists(self, l1, l2):\n",
        "        \"\"\"\n",
        "        :type l1: ListNode\n",
        "        :type l2: ListNode\n",
        "        :rtype: ListNode\n",
        "        \"\"\"\n",
        "        \n",
        "        start = ListNode()\n",
        "        current = start\n",
        "        \n",
        "        while l1 and l2:\n",
        "            if l1.val < l2.val:\n",
        "                current.next = l1\n",
        "                l1 = l1.next\n",
        "                current = current.next\n",
        "                \n",
        "            else:\n",
        "                current.next = l2\n",
        "                l2 = l2.next\n",
        "                current = current.next\n",
        "                \n",
        "        if l1:\n",
        "            current.next = l1\n",
        "            \n",
        "        if l2:\n",
        "            current.next = l2\n",
        "            \n",
        "        return start.next"
      ],
      "execution_count": null,
      "outputs": []
    },
    {
      "cell_type": "markdown",
      "metadata": {
        "id": "yqAeV2BG2qDV"
      },
      "source": [
        "19. Remove Nth Node from End of List"
      ]
    },
    {
      "cell_type": "code",
      "metadata": {
        "id": "MJKBcKkJ2tjM"
      },
      "source": [
        "class Solution(object):\n",
        "    def removeNthFromEnd(self, head, n):\n",
        "        \"\"\"\n",
        "        :type head: ListNode\n",
        "        :type n: int\n",
        "        :rtype: ListNode\n",
        "        \n",
        "        Time = O(n)\n",
        "        Space = O(1)\n",
        "        \"\"\"\n",
        "        \n",
        "        dummy = ListNode()\n",
        "        dummy.next = head\n",
        "        \n",
        "        left = dummy\n",
        "        right = dummy\n",
        "        \n",
        "        for i in range(n):\n",
        "            right = right.next\n",
        "            \n",
        "        while left:\n",
        "            \n",
        "            if right.next == None:\n",
        "                left.next = left.next.next\n",
        "                break\n",
        "                \n",
        "            left = left.next\n",
        "            right = right.next\n",
        "            \n",
        "        return dummy.next"
      ],
      "execution_count": null,
      "outputs": []
    },
    {
      "cell_type": "markdown",
      "metadata": {
        "id": "CCU0sgQvgKyY"
      },
      "source": [
        "143. Reorder List"
      ]
    },
    {
      "cell_type": "code",
      "metadata": {
        "id": "iI1pGAwmgNHn"
      },
      "source": [
        "class Solution(object):\n",
        "    def reorderList(self, head):\n",
        "        \"\"\"\n",
        "        :type head: ListNode\n",
        "        :rtype: None Do not return anything, modify head in-place instead.\n",
        "        \"\"\"\n",
        "        slow = head\n",
        "        fast = head.next\n",
        "        \n",
        "        #Identify Mid Point\n",
        "        while fast and fast.next:\n",
        "            slow = slow.next\n",
        "            fast = fast.next.next\n",
        "            \n",
        "        #Split the List into two lists with the second half reversed \n",
        "        prev = None #Attach Null to the end of 1st half\n",
        "        curr = slow.next\n",
        "        \n",
        "        slow.next = None #Attach Null to the end of 2nd half\n",
        "        \n",
        "        while curr:\n",
        "            temp = curr.next\n",
        "            curr.next = prev\n",
        "            prev = curr\n",
        "            curr = temp\n",
        "            \n",
        "        #Now put the whole thing together    \n",
        "        left = head\n",
        "        right = prev\n",
        "        \n",
        "        while left and right:\n",
        "            temp = left.next\n",
        "            left.next = right\n",
        "            left = temp\n",
        "            \n",
        "            temp = right.next\n",
        "            right.next = left\n",
        "            right = temp\n",
        "            \n",
        "        return head"
      ],
      "execution_count": null,
      "outputs": []
    },
    {
      "cell_type": "markdown",
      "metadata": {
        "id": "wo-EQemMeGnz"
      },
      "source": [
        "##Greedy"
      ]
    },
    {
      "cell_type": "markdown",
      "metadata": {
        "id": "dxNy9guperAg"
      },
      "source": [
        "55. Jump Game"
      ]
    },
    {
      "cell_type": "code",
      "metadata": {
        "id": "QlJnbG4feuw1"
      },
      "source": [
        "class Solution(object):\n",
        "    def canJump(self, nums):\n",
        "        \"\"\"\n",
        "        :type nums: List[int]\n",
        "        :rtype: bool\n",
        "        \n",
        "        Time = O(n)\n",
        "        Space = O(1)\n",
        "        \"\"\"\n",
        "        \n",
        "        if len(nums) == 1:\n",
        "            return True\n",
        "        \n",
        "        if nums[0] == 0:\n",
        "            return False\n",
        "        \n",
        "        goal = len(nums) - 1\n",
        "        \n",
        "        for i in range(len(nums)-2, -1, -1):\n",
        "            \n",
        "            if nums[i] + i >= goal:\n",
        "                goal = i\n",
        "                \n",
        "        if goal == 0:\n",
        "            return True\n",
        "        \n",
        "        return False"
      ],
      "execution_count": null,
      "outputs": []
    },
    {
      "cell_type": "markdown",
      "metadata": {
        "id": "eL9_QK36eMTf"
      },
      "source": [
        "45. Jump Game II"
      ]
    },
    {
      "cell_type": "code",
      "metadata": {
        "id": "d-I05Yr6eK5S"
      },
      "source": [
        "class Solution(object):\n",
        "    def jump(self, nums):\n",
        "        \"\"\"\n",
        "        :type nums: List[int]\n",
        "        :rtype: int\n",
        "        \n",
        "        Time = O(n)\n",
        "        Space = O(1)\n",
        "        \"\"\"\n",
        "        \n",
        "        res = 0\n",
        "        \n",
        "        l = 0\n",
        "        r = 0\n",
        "        \n",
        "        while r < len(nums)-1:\n",
        "            \n",
        "            farthest = 0\n",
        "            \n",
        "            for i in range(l, r+1):\n",
        "                farthest = max(farthest, i+nums[i])\n",
        "                \n",
        "            l = r+1\n",
        "            r = farthest\n",
        "            \n",
        "            res += 1\n",
        "            \n",
        "        return res"
      ],
      "execution_count": null,
      "outputs": []
    }
  ]
}