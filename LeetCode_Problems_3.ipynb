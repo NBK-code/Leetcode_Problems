{
  "nbformat": 4,
  "nbformat_minor": 0,
  "metadata": {
    "colab": {
      "name": "LeetCode_Problems-3.ipynb",
      "provenance": [],
      "collapsed_sections": [],
      "authorship_tag": "ABX9TyMVOCjn7m2Fx2gos1luT0CU",
      "include_colab_link": true
    },
    "kernelspec": {
      "name": "python3",
      "display_name": "Python 3"
    },
    "language_info": {
      "name": "python"
    }
  },
  "cells": [
    {
      "cell_type": "markdown",
      "metadata": {
        "id": "view-in-github",
        "colab_type": "text"
      },
      "source": [
        "<a href=\"https://colab.research.google.com/github/NBK-code/Leetcode_Problems/blob/main/LeetCode_Problems_3.ipynb\" target=\"_parent\"><img src=\"https://colab.research.google.com/assets/colab-badge.svg\" alt=\"Open In Colab\"/></a>"
      ]
    },
    {
      "cell_type": "markdown",
      "source": [
        "##Dynamic Programming"
      ],
      "metadata": {
        "id": "yhY19RpGWGNe"
      }
    },
    {
      "cell_type": "markdown",
      "source": [
        "###Pascal's Triangle"
      ],
      "metadata": {
        "id": "Rwb_l47uWJOU"
      }
    },
    {
      "cell_type": "code",
      "source": [
        "class Solution(object):\n",
        "    def generate(self, numRows):\n",
        "        \"\"\"\n",
        "        :type numRows: int\n",
        "        :rtype: List[List[int]]\n",
        "        \"\"\"\n",
        "        \n",
        "        if numRows == 0: return []\n",
        "        if numRows == 1: return [[1]]\n",
        "        if numRows == 2: return [[1],[1,1]]\n",
        "        \n",
        "        level = [1,1]\n",
        "        result = [[1],[1,1]]\n",
        "        \n",
        "        while numRows-2:\n",
        "            q = [1]\n",
        "            for i in range(len(level)-1):\n",
        "                q.append(level[i]+level[i+1])\n",
        "            q.append(1)\n",
        "            level = q\n",
        "            result.append(q)\n",
        "            numRows -= 1\n",
        "        \n",
        "        return result"
      ],
      "metadata": {
        "id": "a9ATSWIYWIXs"
      },
      "execution_count": null,
      "outputs": []
    },
    {
      "cell_type": "markdown",
      "source": [
        "###Pascal's Triangle II"
      ],
      "metadata": {
        "id": "w7vEXow8YSht"
      }
    },
    {
      "cell_type": "code",
      "source": [
        "class Solution(object):\n",
        "    def getRow(self, rowIndex):\n",
        "        \"\"\"\n",
        "        :type rowIndex: int\n",
        "        :rtype: List[int]\n",
        "        \"\"\"\n",
        "        if rowIndex == 0: return [1]\n",
        "        if rowIndex == 1: return [1,1]\n",
        "        \n",
        "        level = [1,1]\n",
        "        \n",
        "        while rowIndex-1:\n",
        "            a = level[0]\n",
        "            for i in range(1,len(level)):\n",
        "                b = level[i]\n",
        "                level[i] += a\n",
        "                a = b\n",
        "            level.append(1)\n",
        "            rowIndex -= 1\n",
        "        \n",
        "        return level"
      ],
      "metadata": {
        "id": "f1DoT__fYWFl"
      },
      "execution_count": null,
      "outputs": []
    },
    {
      "cell_type": "markdown",
      "source": [
        "###Find Triangular Sum of an Array"
      ],
      "metadata": {
        "id": "dznO5M5YaPDe"
      }
    },
    {
      "cell_type": "code",
      "source": [
        "class Solution(object):\n",
        "    def triangularSum(self, nums):\n",
        "        \"\"\"\n",
        "        :type nums: List[int]\n",
        "        :rtype: int\n",
        "        \"\"\"\n",
        "        if len(nums) == 1: return nums[0]\n",
        "        \n",
        "        while len(nums) != 1:\n",
        "            newNums = []\n",
        "            for i in range(len(nums)-1):\n",
        "                newNums.append((nums[i]+nums[i+1])%10)\n",
        "            nums = newNums\n",
        "            \n",
        "        return nums[0]"
      ],
      "metadata": {
        "id": "7Wp--hHeaPQ6"
      },
      "execution_count": null,
      "outputs": []
    }
  ]
}