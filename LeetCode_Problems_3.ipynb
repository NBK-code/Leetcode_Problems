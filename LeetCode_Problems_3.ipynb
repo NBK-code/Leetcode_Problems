{
  "nbformat": 4,
  "nbformat_minor": 0,
  "metadata": {
    "colab": {
      "name": "LeetCode_Problems-3.ipynb",
      "provenance": [],
      "collapsed_sections": [],
      "authorship_tag": "ABX9TyOwySoi9Hq06EwN/L98vOoK",
      "include_colab_link": true
    },
    "kernelspec": {
      "name": "python3",
      "display_name": "Python 3"
    },
    "language_info": {
      "name": "python"
    }
  },
  "cells": [
    {
      "cell_type": "markdown",
      "metadata": {
        "id": "view-in-github",
        "colab_type": "text"
      },
      "source": [
        "<a href=\"https://colab.research.google.com/github/NBK-code/Leetcode_Problems/blob/main/LeetCode_Problems_3.ipynb\" target=\"_parent\"><img src=\"https://colab.research.google.com/assets/colab-badge.svg\" alt=\"Open In Colab\"/></a>"
      ]
    },
    {
      "cell_type": "markdown",
      "source": [
        "##Dynamic Programming"
      ],
      "metadata": {
        "id": "yhY19RpGWGNe"
      }
    },
    {
      "cell_type": "markdown",
      "source": [
        "###Pascal's Triangle"
      ],
      "metadata": {
        "id": "Rwb_l47uWJOU"
      }
    },
    {
      "cell_type": "code",
      "source": [
        "class Solution(object):\n",
        "    def generate(self, numRows):\n",
        "        \"\"\"\n",
        "        :type numRows: int\n",
        "        :rtype: List[List[int]]\n",
        "        \"\"\"\n",
        "        \n",
        "        if numRows == 0: return []\n",
        "        if numRows == 1: return [[1]]\n",
        "        if numRows == 2: return [[1],[1,1]]\n",
        "        \n",
        "        level = [1,1]\n",
        "        result = [[1],[1,1]]\n",
        "        \n",
        "        while numRows-2:\n",
        "            q = [1]\n",
        "            for i in range(len(level)-1):\n",
        "                q.append(level[i]+level[i+1])\n",
        "            q.append(1)\n",
        "            level = q\n",
        "            result.append(q)\n",
        "            numRows -= 1\n",
        "        \n",
        "        return result"
      ],
      "metadata": {
        "id": "a9ATSWIYWIXs"
      },
      "execution_count": null,
      "outputs": []
    },
    {
      "cell_type": "markdown",
      "source": [
        "###Pascal's Triangle II"
      ],
      "metadata": {
        "id": "w7vEXow8YSht"
      }
    },
    {
      "cell_type": "code",
      "source": [
        "class Solution(object):\n",
        "    def getRow(self, rowIndex):\n",
        "        \"\"\"\n",
        "        :type rowIndex: int\n",
        "        :rtype: List[int]\n",
        "        \"\"\"\n",
        "        if rowIndex == 0: return [1]\n",
        "        if rowIndex == 1: return [1,1]\n",
        "        \n",
        "        level = [1,1]\n",
        "        \n",
        "        while rowIndex-1:\n",
        "            a = level[0]\n",
        "            for i in range(1,len(level)):\n",
        "                b = level[i]\n",
        "                level[i] += a\n",
        "                a = b\n",
        "            level.append(1)\n",
        "            rowIndex -= 1\n",
        "        \n",
        "        return level"
      ],
      "metadata": {
        "id": "f1DoT__fYWFl"
      },
      "execution_count": null,
      "outputs": []
    },
    {
      "cell_type": "markdown",
      "source": [
        "###Find Triangular Sum of an Array"
      ],
      "metadata": {
        "id": "dznO5M5YaPDe"
      }
    },
    {
      "cell_type": "code",
      "source": [
        "class Solution(object):\n",
        "    def triangularSum(self, nums):\n",
        "        \"\"\"\n",
        "        :type nums: List[int]\n",
        "        :rtype: int\n",
        "        \"\"\"\n",
        "        if len(nums) == 1: return nums[0]\n",
        "        \n",
        "        while len(nums) != 1:\n",
        "            newNums = []\n",
        "            for i in range(len(nums)-1):\n",
        "                newNums.append((nums[i]+nums[i+1])%10)\n",
        "            nums = newNums\n",
        "            \n",
        "        return nums[0]"
      ],
      "metadata": {
        "id": "7Wp--hHeaPQ6"
      },
      "execution_count": null,
      "outputs": []
    },
    {
      "cell_type": "markdown",
      "source": [
        "##Linked List"
      ],
      "metadata": {
        "id": "1pjHmeJNnLNx"
      }
    },
    {
      "cell_type": "markdown",
      "source": [
        "###Middle of the Linked List"
      ],
      "metadata": {
        "id": "X3BVLFxorgzu"
      }
    },
    {
      "cell_type": "code",
      "source": [
        "class Solution(object):\n",
        "    def middleNode(self, head):\n",
        "        \"\"\"\n",
        "        :type head: ListNode\n",
        "        :rtype: ListNode\n",
        "        \"\"\"\n",
        "        slow, fast = head, head\n",
        "        while fast and fast.next:\n",
        "            fast = fast.next.next\n",
        "            slow = slow.next\n",
        "        return slow"
      ],
      "metadata": {
        "id": "APYfZd_OrhWf"
      },
      "execution_count": null,
      "outputs": []
    },
    {
      "cell_type": "markdown",
      "source": [
        "###Palindrome Linked List"
      ],
      "metadata": {
        "id": "t-x40FuInN_w"
      }
    },
    {
      "cell_type": "code",
      "source": [
        "class Solution(object):\n",
        "    def isPalindrome(self, head):\n",
        "        \"\"\"\n",
        "        :type head: ListNode\n",
        "        :rtype: bool\n",
        "        \"\"\"\n",
        "        \n",
        "        slow, fast = head, head\n",
        "        rev = None\n",
        "        while fast and fast.next:\n",
        "            fast = fast.next.next\n",
        "            temp = slow\n",
        "            slow = slow.next\n",
        "            temp.next = rev\n",
        "            rev = temp\n",
        "        if fast:\n",
        "            slow = slow.next\n",
        "        while slow and rev:\n",
        "            if slow.val == rev.val:\n",
        "                slow = slow.next\n",
        "                rev = rev.next\n",
        "            else:\n",
        "                return False\n",
        "        return True"
      ],
      "metadata": {
        "id": "8i-rmmpZnTih"
      },
      "execution_count": null,
      "outputs": []
    },
    {
      "cell_type": "markdown",
      "source": [
        "###Maximum Twin Sum of a Linked List"
      ],
      "metadata": {
        "id": "1e-jEPDOqLxP"
      }
    },
    {
      "cell_type": "code",
      "source": [
        "class Solution(object):\n",
        "    def pairSum(self, head):\n",
        "        \"\"\"\n",
        "        :type head: Optional[ListNode]\n",
        "        :rtype: int\n",
        "        \"\"\"\n",
        "        slow, fast = head, head\n",
        "        rev = None\n",
        "        while fast and fast.next:\n",
        "            fast = fast.next.next\n",
        "            temp = slow\n",
        "            slow = slow.next\n",
        "            temp.next = rev\n",
        "            rev = temp\n",
        "        max_sum = 0    \n",
        "        while rev and slow:\n",
        "            max_sum = max(max_sum, rev.val+slow.val)\n",
        "            rev, slow = rev.next, slow.next\n",
        "        return max_sum"
      ],
      "metadata": {
        "id": "NI44h7uPqMVn"
      },
      "execution_count": null,
      "outputs": []
    },
    {
      "cell_type": "markdown",
      "source": [
        "###Delete the Middle Node of a Linked List"
      ],
      "metadata": {
        "id": "b-lX7Scftnp8"
      }
    },
    {
      "cell_type": "code",
      "source": [
        "class Solution(object):\n",
        "    def deleteMiddle(self, head):\n",
        "        \"\"\"\n",
        "        :type head: Optional[ListNode]\n",
        "        :rtype: Optional[ListNode]\n",
        "        \"\"\"\n",
        "        if not head or not head.next: return None\n",
        "        slow, fast = head, head\n",
        "        while fast and fast.next:\n",
        "            fast = fast.next.next\n",
        "            temp = slow\n",
        "            slow = slow.next\n",
        "            \n",
        "        temp.next = slow.next\n",
        "        return head"
      ],
      "metadata": {
        "id": "WZNllhTytn1r"
      },
      "execution_count": null,
      "outputs": []
    },
    {
      "cell_type": "markdown",
      "source": [
        "###Remove Linked List Elements"
      ],
      "metadata": {
        "id": "0gS4M7fFzc9Z"
      }
    },
    {
      "cell_type": "code",
      "source": [
        "class Solution(object):\n",
        "    def removeElements(self, head, val):\n",
        "        \"\"\"\n",
        "        :type head: ListNode\n",
        "        :type val: int\n",
        "        :rtype: ListNode\n",
        "        \"\"\"\n",
        "        node = head\n",
        "        new_head, prev = None, None\n",
        "        while node:\n",
        "            if node.val == val:\n",
        "                if prev: \n",
        "                    prev.next = node.next\n",
        "            else:\n",
        "                if not new_head: new_head = node\n",
        "                prev = node\n",
        "            node = node.next\n",
        "            \n",
        "        return new_head"
      ],
      "metadata": {
        "id": "BViGbBzCzgUR"
      },
      "execution_count": null,
      "outputs": []
    },
    {
      "cell_type": "markdown",
      "source": [
        "###Add Two Numbers"
      ],
      "metadata": {
        "id": "Loei44ZBoLUF"
      }
    },
    {
      "cell_type": "code",
      "source": [
        "class Solution(object):\n",
        "    def addTwoNumbers(self, l1, l2):\n",
        "        \"\"\"\n",
        "        :type l1: ListNode\n",
        "        :type l2: ListNode\n",
        "        :rtype: ListNode\n",
        "        \"\"\"\n",
        "        node1 = l1\n",
        "        node2 = l2\n",
        "        c = 0\n",
        "        prev, head = None, None\n",
        "        while node1 or node2 or c:\n",
        "            a, b = 0, 0\n",
        "            if node1: \n",
        "                a = node1.val\n",
        "                node1 = node1.next\n",
        "            if node2:\n",
        "                b = node2.val\n",
        "                node2 = node2.next\n",
        "            \n",
        "            s = (a + b + c)%10\n",
        "            c = (a + b + c)/10\n",
        "            \n",
        "            node = ListNode(s)\n",
        "            if not head: head = node\n",
        "            if prev: prev.next = node\n",
        "            prev = node\n",
        "            \n",
        "        return head"
      ],
      "metadata": {
        "id": "kBh0IwldoOT9"
      },
      "execution_count": null,
      "outputs": []
    }
  ]
}