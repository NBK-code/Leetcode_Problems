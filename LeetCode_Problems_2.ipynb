{
  "nbformat": 4,
  "nbformat_minor": 0,
  "metadata": {
    "colab": {
      "name": "LeetCode_Problems-2.ipynb",
      "provenance": [],
      "collapsed_sections": [],
      "authorship_tag": "ABX9TyM/GiZHAr5SpiRFZ/SyAvJc",
      "include_colab_link": true
    },
    "kernelspec": {
      "name": "python3",
      "display_name": "Python 3"
    },
    "language_info": {
      "name": "python"
    }
  },
  "cells": [
    {
      "cell_type": "markdown",
      "metadata": {
        "id": "view-in-github",
        "colab_type": "text"
      },
      "source": [
        "<a href=\"https://colab.research.google.com/github/NBK-code/Leetcode_Problems/blob/main/LeetCode_Problems_2.ipynb\" target=\"_parent\"><img src=\"https://colab.research.google.com/assets/colab-badge.svg\" alt=\"Open In Colab\"/></a>"
      ]
    },
    {
      "cell_type": "markdown",
      "source": [
        "#Code Tidbits"
      ],
      "metadata": {
        "id": "WqO3jmAjEkFN"
      }
    },
    {
      "cell_type": "markdown",
      "source": [
        "###Binary to Decimal"
      ],
      "metadata": {
        "id": "Tn71H5CbEnz8"
      }
    },
    {
      "cell_type": "code",
      "source": [
        "binary_string = '111'\n",
        "decimal = 0\n",
        "for digit in binary_string:\n",
        "  decimal = decimal*2 + int(digit)\n",
        "print(decimal)"
      ],
      "metadata": {
        "colab": {
          "base_uri": "https://localhost:8080/"
        },
        "id": "mdtVrbG9ErkL",
        "outputId": "c7f481e8-fb26-491e-ed8c-c9f46cb893b4"
      },
      "execution_count": null,
      "outputs": [
        {
          "output_type": "stream",
          "name": "stdout",
          "text": [
            "7\n"
          ]
        }
      ]
    },
    {
      "cell_type": "code",
      "source": [
        "d = {1:[2,3],2:[5,6]}\n",
        "q = []\n",
        "q+=d[1]\n",
        "q+=d[2]\n",
        "q"
      ],
      "metadata": {
        "colab": {
          "base_uri": "https://localhost:8080/"
        },
        "id": "f-UwdLcqfKxe",
        "outputId": "56702304-eb2d-453f-e712-ffbcd3c3a259"
      },
      "execution_count": null,
      "outputs": [
        {
          "output_type": "execute_result",
          "data": {
            "text/plain": [
              "[2, 3, 5, 6]"
            ]
          },
          "metadata": {},
          "execution_count": 3
        }
      ]
    },
    {
      "cell_type": "markdown",
      "source": [
        "###Remove Prefix"
      ],
      "metadata": {
        "id": "XY5CwHdsnYLX"
      }
    },
    {
      "cell_type": "code",
      "source": [
        "s1 = 'akhfkkgf'\n",
        "s2 = 'akhhdslfh'\n",
        "while len(s1) and len(s2) and s1[0] == s2[0]:\n",
        "  s1 = s1[1:]\n",
        "  s2 = s2[1:]\n",
        "print(s1,s2)"
      ],
      "metadata": {
        "colab": {
          "base_uri": "https://localhost:8080/"
        },
        "id": "hmoCPZVyncHZ",
        "outputId": "526f5d62-1836-4613-a283-ef73f2337408"
      },
      "execution_count": null,
      "outputs": [
        {
          "output_type": "stream",
          "name": "stdout",
          "text": [
            "fkkgf hdslfh\n"
          ]
        }
      ]
    },
    {
      "cell_type": "markdown",
      "source": [
        "###Using DFS to covert a directed graph (Binary Tree) to an undirected graph "
      ],
      "metadata": {
        "id": "_Lqc0xWNhQzG"
      }
    },
    {
      "cell_type": "code",
      "source": [
        "from collections import defaultdict\n",
        "        \n",
        "graph = defaultdict(list)\n",
        "\n",
        "def dfs(node):\n",
        "            \n",
        "  if not node.left and not node.right:\n",
        "    return\n",
        "            \n",
        "  if node.left:\n",
        "    graph[node.val].append(node.left.val)\n",
        "    graph[node.left.val].append(node.val)\n",
        "    dfs(node.left)\n",
        "                \n",
        "  if node.right:\n",
        "    graph[node.val].append(node.right.val)\n",
        "    graph[node.right.val].append(node.val)\n",
        "    dfs(node.right)\n",
        "                \n",
        "  return\n",
        "        \n",
        "dfs(root)"
      ],
      "metadata": {
        "id": "upZsOc5sg4M4"
      },
      "execution_count": null,
      "outputs": []
    },
    {
      "cell_type": "markdown",
      "source": [
        "#Breadth-First Search"
      ],
      "metadata": {
        "id": "djw3kMODmolS"
      }
    },
    {
      "cell_type": "markdown",
      "source": [
        "###Symmetric Tree"
      ],
      "metadata": {
        "id": "gFKgmeUuj3P0"
      }
    },
    {
      "cell_type": "code",
      "source": [
        "class Solution(object):\n",
        "    def isSymmetric(self, root):\n",
        "        \"\"\"\n",
        "        :type root: TreeNode\n",
        "        :rtype: bool\n",
        "        \"\"\"\n",
        "        \n",
        "        if not root:\n",
        "            return False\n",
        "        \n",
        "        def is_palindrome(lst):\n",
        "            \n",
        "            if len(lst) == 1 or len(lst) == 0:\n",
        "                return True\n",
        "            \n",
        "            if lst[0] != lst[-1]:\n",
        "                return False\n",
        "            \n",
        "            lst = lst[1:-1]\n",
        "            \n",
        "            return is_palindrome(lst)\n",
        "            \n",
        "        \n",
        "        level = [root]\n",
        "        \n",
        "        while level:\n",
        "            \n",
        "            q = []\n",
        "            q_val = []\n",
        "            for node in level:\n",
        "                if node.left:\n",
        "                    q.append(node.left)\n",
        "                    q_val.append(node.left.val)\n",
        "                else:\n",
        "                    q_val.append(101)\n",
        "                if node.right:\n",
        "                    q.append(node.right)\n",
        "                    q_val.append(node.right.val)\n",
        "                else:\n",
        "                    q_val.append(101)\n",
        "            level = q\n",
        "            \n",
        "            if not is_palindrome(q_val):\n",
        "                return False\n",
        "        \n",
        "        return True"
      ],
      "metadata": {
        "id": "gfbZiFFEj5w0"
      },
      "execution_count": null,
      "outputs": []
    },
    {
      "cell_type": "markdown",
      "source": [
        "###Average of Levels in Binary Tree"
      ],
      "metadata": {
        "id": "gB1j9G-Hms0Y"
      }
    },
    {
      "cell_type": "code",
      "source": [
        "class Solution(object):\n",
        "    def averageOfLevels(self, root):\n",
        "        \"\"\"\n",
        "        :type root: TreeNode\n",
        "        :rtype: List[float]\n",
        "        \"\"\"\n",
        "        \n",
        "        if not root:\n",
        "            return []\n",
        "        \n",
        "        level = [root]\n",
        "        result = []\n",
        "        \n",
        "        while level:\n",
        "            \n",
        "            sum_ = 0\n",
        "            count = 0\n",
        "            for node in level:\n",
        "                sum_ += node.val\n",
        "                count += 1\n",
        "            result.append(float(sum_)/count)\n",
        "            \n",
        "            q = []\n",
        "            for node in level:\n",
        "                if node.left:\n",
        "                    q.append(node.left)\n",
        "                if node.right:\n",
        "                    q.append(node.right)\n",
        "            level = q\n",
        "            \n",
        "        return result"
      ],
      "metadata": {
        "id": "Co056YICmqFx"
      },
      "execution_count": null,
      "outputs": []
    },
    {
      "cell_type": "markdown",
      "source": [
        "###Univalued Binary Tree"
      ],
      "metadata": {
        "id": "D8St1hUD0pLs"
      }
    },
    {
      "cell_type": "code",
      "source": [
        "class Solution(object):\n",
        "    def isUnivalTree(self, root):\n",
        "        \"\"\"\n",
        "        :type root: TreeNode\n",
        "        :rtype: bool\n",
        "        \"\"\"\n",
        "        \n",
        "        if not root:\n",
        "            return False\n",
        "        \n",
        "        level = [root]\n",
        "        \n",
        "        while level:\n",
        "            \n",
        "            for node in level:\n",
        "                if node.val != root.val:\n",
        "                    return False\n",
        "                \n",
        "            q = []\n",
        "            \n",
        "            for node in level:\n",
        "                if node.left:\n",
        "                    q.append(node.left)\n",
        "                if node.right:\n",
        "                    q.append(node.right)\n",
        "            level = q\n",
        "            \n",
        "        return True"
      ],
      "metadata": {
        "id": "SoblIcNDyH1s"
      },
      "execution_count": null,
      "outputs": []
    },
    {
      "cell_type": "markdown",
      "source": [
        "###Find All The Lonely Nodes"
      ],
      "metadata": {
        "id": "DgbGpe-l42TV"
      }
    },
    {
      "cell_type": "code",
      "source": [
        "class Solution(object):\n",
        "    def getLonelyNodes(self, root):\n",
        "        \"\"\"\n",
        "        :type root: TreeNode\n",
        "        :rtype: List[int]\n",
        "        \"\"\"\n",
        "        \n",
        "        level = [root]\n",
        "        \n",
        "        result = []\n",
        "        \n",
        "        \n",
        "        while level:\n",
        "            \n",
        "            q = []\n",
        "            for node in level:\n",
        "                if node.left and not node.right:\n",
        "                    result.append(node.left.val)\n",
        "                if node.right and not node.left:\n",
        "                    result.append(node.right.val)\n",
        "                if node.left:\n",
        "                    q.append(node.left)\n",
        "                if node.right:\n",
        "                    q.append(node.right)\n",
        "            level = q\n",
        "            \n",
        "        return result"
      ],
      "metadata": {
        "id": "_WYLKoIW421h"
      },
      "execution_count": null,
      "outputs": []
    },
    {
      "cell_type": "markdown",
      "source": [
        "###Binary Tree Tilt"
      ],
      "metadata": {
        "id": "EBLXpzIeNJxP"
      }
    },
    {
      "cell_type": "code",
      "source": [
        "class Solution(object):\n",
        "    def findTilt(self, root):\n",
        "        \"\"\"\n",
        "        :type root: TreeNode\n",
        "        :rtype: int\n",
        "        \"\"\"\n",
        "        if not root:\n",
        "            return 0\n",
        "        \n",
        "        node = root\n",
        "        \n",
        "        lst = [] \n",
        "        \n",
        "        def dfs(node):\n",
        "            \n",
        "            if not node.left and not node.right:\n",
        "                return node.val\n",
        "            \n",
        "            l = 0\n",
        "            r = 0\n",
        "            \n",
        "            if node.left:\n",
        "                l += dfs(node.left)\n",
        "                \n",
        "            if node.right:\n",
        "                r += dfs(node.right)\n",
        "                \n",
        "            lst.append(abs(l-r))\n",
        "            \n",
        "            return node.val + l + r\n",
        "        \n",
        "        _ = dfs(root)\n",
        "           \n",
        "        return sum(lst)"
      ],
      "metadata": {
        "id": "kAMc73dDNK84"
      },
      "execution_count": null,
      "outputs": []
    },
    {
      "cell_type": "markdown",
      "source": [
        "###Even Odd Tree"
      ],
      "metadata": {
        "id": "bPn0FHHbX2Pm"
      }
    },
    {
      "cell_type": "code",
      "source": [
        "class Solution(object):\n",
        "    def isEvenOddTree(self, root):\n",
        "        \"\"\"\n",
        "        :type root: TreeNode\n",
        "        :rtype: bool\n",
        "        \"\"\"\n",
        "        if not root:\n",
        "            return False\n",
        "        \n",
        "        level = [root]\n",
        "        level_idx = 0\n",
        "        \n",
        "        if root.val%2 == 0:\n",
        "            return False\n",
        "        \n",
        "        while level:\n",
        "            \n",
        "            q = []\n",
        "            q_val = []\n",
        "            for node in level:\n",
        "                if node.left:\n",
        "                    q.append(node.left) \n",
        "                    q_val.append(node.left.val)\n",
        "                if node.right:\n",
        "                    q.append(node.right)\n",
        "                    q_val.append(node.right.val)\n",
        "            level = q\n",
        "            level_idx += 1\n",
        "            \n",
        "            if level_idx%2 == 0:\n",
        "                prev = -10000000\n",
        "                for val in q_val:\n",
        "                    if val%2 == 0:\n",
        "                        return False\n",
        "                    if prev < val:\n",
        "                        prev = val\n",
        "                    else:\n",
        "                        return False\n",
        "                \n",
        "            if level_idx%2 != 0:\n",
        "                prev = 100000000\n",
        "                for val in q_val:\n",
        "                    if val%2 != 0:\n",
        "                        return False\n",
        "                    if prev > val:\n",
        "                        prev = val\n",
        "                    else:\n",
        "                        return False\n",
        "                    \n",
        "        return True"
      ],
      "metadata": {
        "id": "-H6EDcJMX3-u"
      },
      "execution_count": null,
      "outputs": []
    },
    {
      "cell_type": "markdown",
      "source": [
        "###Find Largest Value in Each Tree Row"
      ],
      "metadata": {
        "id": "ngdKntbx8DLW"
      }
    },
    {
      "cell_type": "code",
      "source": [
        "class Solution(object):\n",
        "    def largestValues(self, root):\n",
        "        \"\"\"\n",
        "        :type root: TreeNode\n",
        "        :rtype: List[int]\n",
        "        \"\"\"\n",
        "        if not root:\n",
        "            return []\n",
        "        \n",
        "        level = [root]\n",
        "        result = []\n",
        "        \n",
        "        while level:\n",
        "            \n",
        "            cur_max = -10000000000\n",
        "            for node in level:\n",
        "                cur_max = max(cur_max, node.val)\n",
        "            result.append(cur_max)\n",
        "            \n",
        "            q = []\n",
        "            for node in level:\n",
        "                if node.left:\n",
        "                    q.append(node.left)\n",
        "                if node.right:\n",
        "                    q.append(node.right)\n",
        "            level = q\n",
        "            \n",
        "        return result"
      ],
      "metadata": {
        "id": "wnplAwCm8Doe"
      },
      "execution_count": null,
      "outputs": []
    },
    {
      "cell_type": "markdown",
      "source": [
        "###N-ary Tree Level Order Traversal"
      ],
      "metadata": {
        "id": "GXZ53F5PubdP"
      }
    },
    {
      "cell_type": "code",
      "source": [
        "class Solution(object):\n",
        "    def levelOrder(self, root):\n",
        "        \"\"\"\n",
        "        :type root: Node\n",
        "        :rtype: List[List[int]]\n",
        "        \"\"\"\n",
        "        if not root:\n",
        "            return []\n",
        "        \n",
        "        self.result = []\n",
        "        \n",
        "        level = [root]\n",
        "        \n",
        "        while level:\n",
        "            \n",
        "            r = []\n",
        "            for node in level:\n",
        "                r.append(node.val)\n",
        "            self.result.append(r)\n",
        "            \n",
        "            q = []\n",
        "            for node in level:\n",
        "                for element in node.children:\n",
        "                    if element: \n",
        "                        q.append(element)\n",
        "            level = q\n",
        "            \n",
        "        return self.result"
      ],
      "metadata": {
        "id": "5h6W3WSKubxc"
      },
      "execution_count": null,
      "outputs": []
    },
    {
      "cell_type": "markdown",
      "source": [
        "#Depth-First Search"
      ],
      "metadata": {
        "id": "8kDCHTmj09NJ"
      }
    },
    {
      "cell_type": "markdown",
      "source": [
        "###Step-By-Step Directions From a Binary Tree Node to Another"
      ],
      "metadata": {
        "id": "RWKl9IeHqdMG"
      }
    },
    {
      "cell_type": "code",
      "source": [
        "class Solution(object):\n",
        "    def getDirections(self, root, startValue, destValue):\n",
        "        \"\"\"\n",
        "        :type root: Optional[TreeNode]\n",
        "        :type startValue: int\n",
        "        :type destValue: int\n",
        "        :rtype: str\n",
        "        \"\"\"\n",
        "        \n",
        "        def dfs(node,target):\n",
        "            if not node: return\n",
        "            \n",
        "            if node.val == target:\n",
        "                self.flag = True\n",
        "                return\n",
        "            \n",
        "            if node.left and not self.flag:\n",
        "                self.string += 'L'\n",
        "                dfs(node.left, target)\n",
        "                if not self.flag: self.string = self.string[:-1]\n",
        "                    \n",
        "            if node.right and not self.flag:\n",
        "                self.string += 'R'\n",
        "                dfs(node.right, target)\n",
        "                if not self.flag: self.string = self.string[:-1]\n",
        "                    \n",
        "            return\n",
        "        \n",
        "        self.flag = False\n",
        "        self.string = ''\n",
        "        dfs(root, startValue)\n",
        "        s1 = self.string\n",
        "        \n",
        "        self.flag = False\n",
        "        self.string = ''\n",
        "        s2 = dfs(root, destValue)\n",
        "        s2 = self.string\n",
        "        \n",
        "        while len(s1) and len(s2) and s1[0] == s2[0]:\n",
        "            s1 = s1[1:]\n",
        "            s2 = s2[1:]\n",
        "            \n",
        "        return 'U'*len(s1)+s2"
      ],
      "metadata": {
        "id": "l5ure6cbqebM"
      },
      "execution_count": null,
      "outputs": []
    },
    {
      "cell_type": "markdown",
      "source": [
        "###Flood Fill"
      ],
      "metadata": {
        "id": "XUjYjheryG1f"
      }
    },
    {
      "cell_type": "code",
      "source": [
        "class Solution(object):\n",
        "    def floodFill(self, image, sr, sc, newColor):\n",
        "        \"\"\"\n",
        "        :type image: List[List[int]]\n",
        "        :type sr: int\n",
        "        :type sc: int\n",
        "        :type newColor: int\n",
        "        :rtype: List[List[int]]\n",
        "        \"\"\"\n",
        "        \n",
        "        st = image[sr][sc]\n",
        "        \n",
        "        def dfs(i, j):\n",
        "\n",
        "            if i<0 or j<0 or i>=len(image) or j>=len(image[0]) or image[i][j] != st:\n",
        "                return\n",
        "            \n",
        "            image[i][j] = newColor\n",
        "            \n",
        "            dfs(i+1,j)\n",
        "            dfs(i-1,j)\n",
        "            dfs(i,j+1)\n",
        "            dfs(i,j-1)\n",
        "            \n",
        "        if newColor == st:\n",
        "            return image\n",
        "            \n",
        "        dfs(sr,sc)\n",
        "            \n",
        "        return image"
      ],
      "metadata": {
        "id": "h0mz_pq3yHM1"
      },
      "execution_count": null,
      "outputs": []
    },
    {
      "cell_type": "markdown",
      "source": [
        "###Path Sum"
      ],
      "metadata": {
        "id": "x8liBfLZu1tp"
      }
    },
    {
      "cell_type": "code",
      "source": [
        "class Solution(object):\n",
        "    def hasPathSum(self, root, sum):\n",
        "        \"\"\"\n",
        "        :type root: TreeNode\n",
        "        :type sum: int\n",
        "        :rtype: bool\n",
        "        \"\"\"\n",
        "        if not root:\n",
        "            return False\n",
        "        \n",
        "        running_sum = 0\n",
        "        \n",
        "        def dfs(node, running_sum):\n",
        "            \n",
        "            if not node.left and not node.right:\n",
        "                if running_sum + node.val == sum:\n",
        "                    return True\n",
        "                else:\n",
        "                    return False\n",
        "                \n",
        "            running_sum += node.val\n",
        "            left_v, right_v = False, False\n",
        "            if node.left:\n",
        "                left_v = dfs(node.left, running_sum)\n",
        "            if node.right:\n",
        "                right_v = dfs(node.right, running_sum)\n",
        "            running_sum -= node.val\n",
        "            \n",
        "            return left_v or right_v\n",
        "        \n",
        "        return dfs(root, running_sum)"
      ],
      "metadata": {
        "id": "JkeLKG53u3y5"
      },
      "execution_count": null,
      "outputs": []
    },
    {
      "cell_type": "markdown",
      "source": [
        "###Sum of Root To Leaf Binary Numbers"
      ],
      "metadata": {
        "id": "eWRkFBCHENQh"
      }
    },
    {
      "cell_type": "code",
      "source": [
        "class Solution(object):\n",
        "    def sumRootToLeaf(self, root):\n",
        "        \"\"\"\n",
        "        :type root: TreeNode\n",
        "        :rtype: int\n",
        "        \"\"\"\n",
        "        self.result = 0\n",
        "        \n",
        "        def dfs(node, string):\n",
        "            \n",
        "            if not node.left and not node.right:\n",
        "                string += str(node.val)\n",
        "                \n",
        "                decimal = 0\n",
        "                for digit in string:\n",
        "                    decimal = decimal*2 + int(digit)\n",
        "                self.result += decimal\n",
        "                \n",
        "                string = string[:-1]\n",
        "                return string\n",
        "                \n",
        "            string += str(node.val)\n",
        "            \n",
        "            if node.left:\n",
        "                string = dfs(node.left, string)\n",
        "            \n",
        "            if node.right:\n",
        "                string = dfs(node.right, string)\n",
        "                \n",
        "            string = string[:-1]\n",
        "            \n",
        "            return string\n",
        "        \n",
        "        _ = dfs(root, '')\n",
        "        \n",
        "        return self.result"
      ],
      "metadata": {
        "id": "9qTbZumkEN2d"
      },
      "execution_count": null,
      "outputs": []
    },
    {
      "cell_type": "markdown",
      "source": [
        "###Second Minimum Node In a Binary Tree"
      ],
      "metadata": {
        "id": "21IAGn8NVAQZ"
      }
    },
    {
      "cell_type": "code",
      "source": [
        "class Solution(object):\n",
        "    def findSecondMinimumValue(self, root):\n",
        "        \"\"\"\n",
        "        :type root: TreeNode\n",
        "        :rtype: int\n",
        "        \"\"\"\n",
        "        # If there is a second minimum, it will definitely be on a leaf.\n",
        "        # In fact, each the distinct numbers that are in the tree, will appear\n",
        "        # on the leaf at least once.\n",
        "        # So collect all leaves and find the seconf min.\n",
        "        \n",
        "        self.lst = []\n",
        "        \n",
        "        def dfs(node):\n",
        "            \n",
        "            if not node.left and not node.right:\n",
        "                self.lst.append(node.val)\n",
        "                return\n",
        "            \n",
        "            if node.left:\n",
        "                dfs(node.left)\n",
        "                \n",
        "            if node.right:\n",
        "                dfs(node.right)\n",
        "                \n",
        "            return\n",
        "        \n",
        "        dfs(root)\n",
        "\n",
        "        self.lst = list(set(self.lst))\n",
        "        self.lst.sort()\n",
        "        \n",
        "        if len(self.lst) > 1:\n",
        "            return self.lst[1]\n",
        "        \n",
        "        return -1"
      ],
      "metadata": {
        "id": "jj9GE4r9VE4k"
      },
      "execution_count": null,
      "outputs": []
    },
    {
      "cell_type": "markdown",
      "source": [
        "###Count Nodes Equal to Average of Subtree"
      ],
      "metadata": {
        "id": "reGDeoDgfGwC"
      }
    },
    {
      "cell_type": "code",
      "source": [
        "class Solution(object):\n",
        "    def averageOfSubtree(self, root):\n",
        "        \"\"\"\n",
        "        :type root: Optional[TreeNode]\n",
        "        :rtype: int\n",
        "        \"\"\"\n",
        "        \n",
        "        self.count = 0\n",
        "        \n",
        "        def dfs(node, sub_sum, sub_count):\n",
        "            \n",
        "            if not node.left and not node.right:\n",
        "                #print(node.val)\n",
        "                self.count += 1\n",
        "                return node.val, 1\n",
        "            \n",
        "            sub_sum_left = 0\n",
        "            sub_count_left = 0\n",
        "            sub_sum_right = 0\n",
        "            sub_count_right = 0\n",
        "                \n",
        "            if node.left:\n",
        "                sub_sum_left, sub_count_left = dfs(node.left, sub_sum, sub_count)\n",
        "                \n",
        "            if node.right:\n",
        "                sub_sum_right, sub_count_right = dfs(node.right, sub_sum, sub_count)\n",
        "                \n",
        "            sub_sum = node.val + sub_sum_left + sub_sum_right\n",
        "            sub_count = 1 + sub_count_left + sub_count_right\n",
        "            \n",
        "            if (sub_sum/sub_count) == node.val:\n",
        "                #print(node.val)\n",
        "                self.count += 1\n",
        "                \n",
        "            return sub_sum, sub_count\n",
        "        \n",
        "        _,_ = dfs(root, 0, 0)\n",
        "        \n",
        "        return self.count"
      ],
      "metadata": {
        "id": "uvmBBNK9fG93"
      },
      "execution_count": null,
      "outputs": []
    },
    {
      "cell_type": "markdown",
      "source": [
        "###Count Nodes Equal to Sum of Descendants"
      ],
      "metadata": {
        "id": "wDgPyYY_jtN9"
      }
    },
    {
      "cell_type": "code",
      "source": [
        "class Solution(object):\n",
        "    def equalToDescendants(self, root):\n",
        "        \"\"\"\n",
        "        :type root: Optional[TreeNode]\n",
        "        :rtype: int\n",
        "        \"\"\"\n",
        "        self.count = 0\n",
        "        \n",
        "        def dfs(node, sub_sum):\n",
        "            \n",
        "            if not node.left and not node.right:\n",
        "                if node.val == 0:\n",
        "                    self.count += 1\n",
        "                sub_sum += node.val\n",
        "                return sub_sum\n",
        "            \n",
        "            sub_sum_l = 0\n",
        "            sub_sum_r = 0\n",
        "            \n",
        "            if node.left:\n",
        "                sub_sum_l = dfs(node.left, sub_sum)\n",
        "                \n",
        "            if node.right:\n",
        "                sub_sum_r = dfs(node.right, sub_sum)\n",
        "                \n",
        "            if node.val == sub_sum_l + sub_sum_r:\n",
        "                self.count += 1\n",
        "                \n",
        "            return node.val + sub_sum_l + sub_sum_r\n",
        "        \n",
        "        _ = dfs(root, 0)\n",
        "        \n",
        "        return self.count"
      ],
      "metadata": {
        "id": "sQNmhm0qjtas"
      },
      "execution_count": null,
      "outputs": []
    },
    {
      "cell_type": "markdown",
      "source": [
        "###Find Leaves of Binary Tree"
      ],
      "metadata": {
        "id": "xBNW6NR4uszp"
      }
    },
    {
      "cell_type": "code",
      "source": [
        "class Solution(object):\n",
        "    def findLeaves(self, root):\n",
        "        \"\"\"\n",
        "        :type root: TreeNode\n",
        "        :rtype: List[List[int]]\n",
        "        \"\"\"\n",
        "        \n",
        "        self.result = []\n",
        "        self.leaves = []\n",
        "        self.flag = 0\n",
        "        \n",
        "        def dfs(node):\n",
        "            \n",
        "            if not node.left and not node.right:\n",
        "                self.leaves.append(node.val)\n",
        "                self.flag = 1\n",
        "                return\n",
        "            \n",
        "            if node.left:\n",
        "                dfs(node.left)\n",
        "                if self.flag == 1: \n",
        "                    node.left = None\n",
        "                    self.flag = 0\n",
        "                    \n",
        "            if node.right:\n",
        "                dfs(node.right)\n",
        "                if self.flag == 1: \n",
        "                    node.right = None\n",
        "                    self.flag = 0\n",
        "                    \n",
        "            return\n",
        "        \n",
        "        while root.left or root.right:\n",
        "            dfs(root)\n",
        "            #print(root)\n",
        "            self.result.append(self.leaves)\n",
        "            self.leaves = []\n",
        "            \n",
        "        self.result.append([root.val])\n",
        "        \n",
        "        return self.result"
      ],
      "metadata": {
        "id": "138o1nhQutSj"
      },
      "execution_count": null,
      "outputs": []
    },
    {
      "cell_type": "markdown",
      "source": [
        "###Maximum Average Subtree"
      ],
      "metadata": {
        "id": "4ntGnLMf8U6a"
      }
    },
    {
      "cell_type": "code",
      "source": [
        "class Solution(object):\n",
        "    def maximumAverageSubtree(self, root):\n",
        "        \"\"\"\n",
        "        :type root: TreeNode\n",
        "        :rtype: float\n",
        "        \"\"\"\n",
        "        self.max_avg = -1\n",
        "        \n",
        "        def dfs(node):\n",
        "            \n",
        "            if not node.left and not node.right:\n",
        "                return node.val, 1\n",
        "            \n",
        "            sum_l = 0 \n",
        "            sum_r = 0\n",
        "            cnt_l = 0\n",
        "            cnt_r = 0\n",
        "            \n",
        "            if node.left:\n",
        "                sum_l, cnt_l = dfs(node.left)\n",
        "                \n",
        "            if node.right:\n",
        "                sum_r, cnt_r = dfs(node.right)\n",
        "            \n",
        "            avg_l = 0\n",
        "            avg_r = 0\n",
        "            \n",
        "            if cnt_l != 0:\n",
        "                avg_l = float(sum_l)/cnt_l\n",
        "            \n",
        "            if cnt_r != 0:\n",
        "                avg_r = float(sum_r)/cnt_r\n",
        "            \n",
        "            avg = float(node.val + sum_l + sum_r)/(1 + cnt_l + cnt_r)\n",
        "            \n",
        "            self.max_avg = max(self.max_avg, avg, avg_l, avg_r)\n",
        "            \n",
        "            return node.val + sum_l + sum_r, 1 + cnt_l + cnt_r\n",
        "        \n",
        "        _,_ = dfs(root)\n",
        "        \n",
        "        return self.max_avg"
      ],
      "metadata": {
        "id": "sMck6dB78VXL"
      },
      "execution_count": null,
      "outputs": []
    },
    {
      "cell_type": "markdown",
      "source": [
        "###Sum of Left Leaves"
      ],
      "metadata": {
        "id": "hYTm4H97_mOt"
      }
    },
    {
      "cell_type": "code",
      "source": [
        "class Solution(object):\n",
        "    def sumOfLeftLeaves(self, root):\n",
        "        \"\"\"\n",
        "        :type root: TreeNode\n",
        "        :rtype: int\n",
        "        \"\"\"\n",
        "        self.result = 0\n",
        "        \n",
        "        def dfs(node):\n",
        "            \n",
        "            if not node.left and not node.right:\n",
        "                if self.flag == 1:\n",
        "                    self.result += node.val\n",
        "                return\n",
        "            \n",
        "            self.flag = 0\n",
        "            \n",
        "            if node.left:\n",
        "                self.flag = 1\n",
        "                dfs(node.left)\n",
        "                \n",
        "            self.flag = 0\n",
        "            \n",
        "            if node.right:\n",
        "                dfs(node.right)\n",
        "                \n",
        "            return \n",
        "        \n",
        "        self.flag = 0\n",
        "        \n",
        "        dfs(root)\n",
        "        \n",
        "        return self.result"
      ],
      "metadata": {
        "id": "MxyiFF9m_meg"
      },
      "execution_count": null,
      "outputs": []
    },
    {
      "cell_type": "markdown",
      "source": [
        "###Binary Tree Paths"
      ],
      "metadata": {
        "id": "jjk-p4S5lyBB"
      }
    },
    {
      "cell_type": "code",
      "source": [
        "class Solution(object):\n",
        "    def binaryTreePaths(self, root):\n",
        "        \"\"\"\n",
        "        :type root: TreeNode\n",
        "        :rtype: List[str]\n",
        "        \"\"\"\n",
        "        self.result = []\n",
        "        \n",
        "        def dfs(node, string):\n",
        "            if not node.left and not node.right:\n",
        "                self.result.append(string + str(node.val))\n",
        "                return string\n",
        "            \n",
        "            l = len(string)\n",
        "            \n",
        "            string = string + str(node.val) + \"->\"\n",
        "            \n",
        "            if node.left:\n",
        "                dfs(node.left, string)\n",
        "                \n",
        "            if node.right:\n",
        "                dfs(node.right, string)\n",
        "                \n",
        "            string = string[0:l]\n",
        "            \n",
        "            return string\n",
        "        \n",
        "        _ = dfs(root, '')\n",
        "        \n",
        "        return self.result"
      ],
      "metadata": {
        "id": "XHrn273ilyN7"
      },
      "execution_count": null,
      "outputs": []
    },
    {
      "cell_type": "markdown",
      "source": [
        "###Closest Binary Search Tree Value"
      ],
      "metadata": {
        "id": "ZQYBpnL45ALl"
      }
    },
    {
      "cell_type": "code",
      "source": [
        "class Solution(object):\n",
        "    def closestValue(self, root, target):\n",
        "        \"\"\"\n",
        "        :type root: TreeNode\n",
        "        :type target: float\n",
        "        :rtype: int\n",
        "        \"\"\"\n",
        "        \n",
        "        self.high = 0\n",
        "        self.low = 1000000000\n",
        "        self.result = None\n",
        "        \n",
        "        def dfs(node):\n",
        "            \n",
        "            if node == None:\n",
        "                return\n",
        "            \n",
        "            if node.val == target:\n",
        "                self.result = node.val\n",
        "                return\n",
        "            \n",
        "            if node.val > target:\n",
        "                self.high = node.val\n",
        "                dfs(node.left)\n",
        "            \n",
        "            if node.val < target:\n",
        "                self.low = node.val\n",
        "                dfs(node.right)\n",
        "                \n",
        "            return\n",
        "        \n",
        "        dfs(root)\n",
        "        \n",
        "        if self.result != None:\n",
        "            return self.result\n",
        "        \n",
        "        if abs(self.low - target) > abs(self.high - target):\n",
        "            return self.high\n",
        "        else:\n",
        "            return self.low"
      ],
      "metadata": {
        "id": "YKZspKYw5Aom"
      },
      "execution_count": null,
      "outputs": []
    },
    {
      "cell_type": "markdown",
      "source": [
        "###Count Complete Tree Nodes"
      ],
      "metadata": {
        "id": "N8GUqFowZib9"
      }
    },
    {
      "cell_type": "code",
      "source": [
        "class Solution(object):\n",
        "    def countNodes(self, root):\n",
        "        \"\"\"\n",
        "        :type root: TreeNode\n",
        "        :rtype: int\n",
        "        T = O(logn * logn)\n",
        "        \"\"\"\n",
        "        \n",
        "        def count(node):\n",
        "            \n",
        "            if node == None:\n",
        "                return 0\n",
        "            \n",
        "            h_l = dfs(node, 'left')\n",
        "            h_r = dfs(node, 'right')\n",
        "\n",
        "            if h_l == h_r:\n",
        "                return 2**h_l-1\n",
        "            \n",
        "            if h_l > h_r:\n",
        "                cnt_l = count(node.left)\n",
        "                cnt_r = count(node.right)\n",
        "                \n",
        "            return cnt_l + cnt_r + 1\n",
        "        \n",
        "        def dfs(node, direction):\n",
        "            \n",
        "            if node == None:\n",
        "                return 0\n",
        "            \n",
        "            if direction == 'left':\n",
        "                h = 1 + dfs(node.left, 'left')\n",
        "                \n",
        "            if direction == 'right':\n",
        "                h = 1 + dfs(node.right, 'right')\n",
        "                \n",
        "            return h\n",
        "        \n",
        "        return count(root)"
      ],
      "metadata": {
        "id": "sXFF31A7ZjKD"
      },
      "execution_count": null,
      "outputs": []
    },
    {
      "cell_type": "markdown",
      "source": [
        "### Evaluate Division"
      ],
      "metadata": {
        "id": "_qvFchn30eij"
      }
    },
    {
      "cell_type": "code",
      "source": [
        "class Solution(object):\n",
        "    def calcEquation(self, equations, values, queries):\n",
        "        \"\"\"\n",
        "        :type equations: List[List[str]]\n",
        "        :type values: List[float]\n",
        "        :type queries: List[List[str]]\n",
        "        :rtype: List[float]\n",
        "        \"\"\"       \n",
        "        graph = {}\n",
        "        \n",
        "        for i in range(len(equations)):\n",
        "            if str(equations[i][0]) in graph.keys():\n",
        "                graph[str(equations[i][0])].append([str(equations[i][1]),values[i]])\n",
        "            else:\n",
        "                graph[str(equations[i][0])] = [[str(equations[i][1]),values[i]]]\n",
        "            if str(equations[i][1]) in graph.keys():\n",
        "                graph[str(equations[i][1])].append([str(equations[i][0]),1/values[i]])\n",
        "            else:\n",
        "                graph[str(equations[i][1])] = [[str(equations[i][0]),1/values[i]]]\n",
        "            \n",
        "        def dfs(node1, node2, result, visited):\n",
        "            \n",
        "            visited.append(node1)\n",
        "            \n",
        "            if node1 == node2:\n",
        "                self.final[-1] = result\n",
        "                return result\n",
        "            \n",
        "            for item in graph[node1]:\n",
        "                if item[0] not in visited:\n",
        "                    result = result*item[1]\n",
        "                    result = dfs(item[0], node2, result, visited)\n",
        "                    result = result/item[1]\n",
        "                    \n",
        "            return result\n",
        "        \n",
        "        self.final = []\n",
        "        \n",
        "        for item in queries:\n",
        "            \n",
        "            x1 = str(item[0])\n",
        "            x2 = str(item[1])\n",
        "            \n",
        "            if x1 not in graph.keys() or x2 not in graph.keys():\n",
        "                self.final.append(-1.0)\n",
        "            \n",
        "            else:\n",
        "                self.final.append(-1.0)\n",
        "                _ = dfs(x1, x2, 1, [])\n",
        "            \n",
        "        return self.final"
      ],
      "metadata": {
        "id": "yctvG0zd0fDb"
      },
      "execution_count": null,
      "outputs": []
    },
    {
      "cell_type": "markdown",
      "source": [
        "###Largest BST Subtree"
      ],
      "metadata": {
        "id": "Ep73qmS2U1tj"
      }
    },
    {
      "cell_type": "code",
      "source": [
        "class Solution(object):\n",
        "    def largestBSTSubtree(self, root):\n",
        "        \"\"\"\n",
        "        :type root: TreeNode\n",
        "        :rtype: int\n",
        "        \"\"\"\n",
        "        if not root:\n",
        "            return 0\n",
        "        \n",
        "        def dfs(node):\n",
        "            \n",
        "            if not node.left and not node.right:\n",
        "                return node.val, node.val, 1\n",
        "            \n",
        "            if not node.left:\n",
        "                min_r, max_r, cnt = dfs(node.right)\n",
        "                if node.val < min_r:\n",
        "                    return node.val, max_r, cnt+1\n",
        "                else:\n",
        "                    return -10000000, 100000000, cnt\n",
        "            \n",
        "            if not node.right:\n",
        "                min_l, max_l, cnt = dfs(node.left)\n",
        "                if node.val > max_l:\n",
        "                    return min_l, node.val, cnt+1\n",
        "                else:\n",
        "                    return -10000000, 100000000, cnt\n",
        "                \n",
        "            if node.left and node.right:\n",
        "                min_l, max_l, cnt_l = dfs(node.left)\n",
        "                min_r, max_r, cnt_r = dfs(node.right)\n",
        "                \n",
        "                if node.val > max_l and node.val < min_r:\n",
        "                    return min_l, max_r, 1 + cnt_l + cnt_r\n",
        "                else:\n",
        "                    return -10000000, 100000000, max(cnt_l, cnt_r)\n",
        "                \n",
        "                    \n",
        "        _,_,cnt = dfs(root)\n",
        "        \n",
        "        return cnt"
      ],
      "metadata": {
        "id": "RwOzVoVBU28Y"
      },
      "execution_count": null,
      "outputs": []
    },
    {
      "cell_type": "markdown",
      "source": [
        "###All Paths From Source to Target"
      ],
      "metadata": {
        "id": "gUSyaD1ww-gW"
      }
    },
    {
      "cell_type": "code",
      "source": [
        "class Solution(object):\n",
        "    def allPathsSourceTarget(self, graph):\n",
        "        \"\"\"\n",
        "        :type graph: List[List[int]]\n",
        "        :rtype: List[List[int]]\n",
        "        \"\"\"\n",
        "        \n",
        "        self.stack = []\n",
        "        self.result = []\n",
        "        \n",
        "        def dfs(node, target):\n",
        "            \n",
        "            self.stack.append(node)\n",
        "            \n",
        "            if node == target:\n",
        "                self.result.append(self.stack)\n",
        "                return\n",
        "                \n",
        "            for i in graph[node]:\n",
        "                dfs(i, target)\n",
        "                self.stack = self.stack[:-1]\n",
        "                \n",
        "            return\n",
        "        \n",
        "        dfs(0,len(graph)-1)\n",
        "        \n",
        "        return self.result"
      ],
      "metadata": {
        "id": "EJjv_1Zlw-6r"
      },
      "execution_count": null,
      "outputs": []
    },
    {
      "cell_type": "markdown",
      "source": [
        "##Both BFS and DFS"
      ],
      "metadata": {
        "id": "sgse0j9RgkjF"
      }
    },
    {
      "cell_type": "markdown",
      "source": [
        "###Find Distance in a Binary Tree"
      ],
      "metadata": {
        "id": "gvZTcnBQyMGJ"
      }
    },
    {
      "cell_type": "code",
      "source": [
        "class Solution(object):\n",
        "    def findDistance(self, root, p, q):\n",
        "        \"\"\"\n",
        "        :type root: TreeNode\n",
        "        :type p: int\n",
        "        :type q: int\n",
        "        :rtype: int\n",
        "        \"\"\"\n",
        "        if p == q: return 0\n",
        "        \n",
        "        from collections import defaultdict\n",
        "        \n",
        "        graph = defaultdict(list)\n",
        "        \n",
        "        def dfs(node):\n",
        "            \n",
        "            if not node.left and not node.right:\n",
        "                return\n",
        "            \n",
        "            if node.left:\n",
        "                graph[node.val].append(node.left.val)\n",
        "                graph[node.left.val].append(node.val)\n",
        "                dfs(node.left)\n",
        "                \n",
        "            if node.right:\n",
        "                graph[node.val].append(node.right.val)\n",
        "                graph[node.right.val].append(node.val)\n",
        "                dfs(node.right)\n",
        "                \n",
        "            return\n",
        "        \n",
        "        dfs(root)\n",
        "        \n",
        "        level = [p]\n",
        "        \n",
        "        visited = []\n",
        "        \n",
        "        dist = 0\n",
        "        \n",
        "        while level:\n",
        "            \n",
        "            for node in level:\n",
        "                if node == q:\n",
        "                    return dist\n",
        "                visited.append(node)\n",
        "                \n",
        "            queue = []\n",
        "            \n",
        "            for node in level:\n",
        "                for child in graph[node]:\n",
        "                    if child not in visited:\n",
        "                        queue.append(child)\n",
        "                        \n",
        "            level = queue\n",
        "            dist += 1"
      ],
      "metadata": {
        "id": "r33G104DyNc3"
      },
      "execution_count": null,
      "outputs": []
    },
    {
      "cell_type": "markdown",
      "source": [
        "###Closest Leaf in a Binary Tree"
      ],
      "metadata": {
        "id": "jk4k-7gxgqC8"
      }
    },
    {
      "cell_type": "code",
      "source": [
        "class Solution(object):\n",
        "    def findClosestLeaf(self, root, k):\n",
        "        \"\"\"\n",
        "        :type root: TreeNode\n",
        "        :type k: int\n",
        "        :rtype: int\n",
        "        \"\"\"\n",
        "        \n",
        "        if not root:\n",
        "            return 0\n",
        "        \n",
        "        if not root.left and not root.right:\n",
        "            return 1\n",
        "        \n",
        "        from collections import defaultdict\n",
        "        \n",
        "        graph = defaultdict(list)\n",
        "        self.leaves = []\n",
        "        \n",
        "        def dfs(node):\n",
        "            \n",
        "            if not node.left and not node.right:\n",
        "                self.leaves.append(node.val)\n",
        "                return\n",
        "            \n",
        "            if node.left:\n",
        "                graph[node.val].append(node.left.val)\n",
        "                graph[node.left.val].append(node.val)\n",
        "                dfs(node.left)\n",
        "                \n",
        "            if node.right:\n",
        "                graph[node.val].append(node.right.val)\n",
        "                graph[node.right.val].append(node.val)\n",
        "                dfs(node.right)\n",
        "                \n",
        "            return\n",
        "        \n",
        "        dfs(root)\n",
        "\n",
        "        level = [k]\n",
        "        dist = 1\n",
        "        \n",
        "        while level:\n",
        "            \n",
        "            q = []\n",
        "            \n",
        "            for node in level:\n",
        "                if node in self.leaves:\n",
        "                        return node\n",
        "                q += graph.pop(node, [])\n",
        "                #\n",
        "                # The above line is equivalent to\n",
        "                #\n",
        "                #for element in graph[node]:\n",
        "                #    q.append(element)\n",
        "                #\n",
        "                # OR\n",
        "                #\n",
        "                #q += graph[node]\n",
        "            level = q"
      ],
      "metadata": {
        "id": "33CSbWHWgn2P"
      },
      "execution_count": null,
      "outputs": []
    },
    {
      "cell_type": "markdown",
      "source": [
        "###Shortest Bridge"
      ],
      "metadata": {
        "id": "TVALkv8SoUFg"
      }
    },
    {
      "cell_type": "code",
      "source": [
        "class Solution(object):\n",
        "    def shortestBridge(self, grid):\n",
        "        \"\"\"\n",
        "        :type grid: List[List[int]]\n",
        "        :rtype: int\n",
        "        \"\"\"\n",
        "        self.level = []\n",
        "        self.m = len(grid)\n",
        "        self.n = len(grid[0])\n",
        "        \n",
        "        for i in range(self.m):\n",
        "            for j in range(self.n):\n",
        "                if not self.level and grid[i][j] == 1:\n",
        "                    self.dfs(grid, i, j)\n",
        "                    \n",
        "        dist = 0\n",
        "        \n",
        "        while self.level:\n",
        "                \n",
        "            q = []\n",
        "            \n",
        "            for p in self.level:\n",
        "                \n",
        "                for x,y in [[p[0]+1,p[1]],[p[0]-1,p[1]],[p[0],p[1]+1],[p[0],p[1]-1]]:\n",
        "                    if x>=0 and y>=0 and x<self.m and y<self.n and grid[x][y] != 2:\n",
        "                        if grid[x][y] == 1:\n",
        "                            return dist\n",
        "                        q.append([x,y])\n",
        "                        grid[x][y] = 2\n",
        "                    \n",
        "            self.level = q\n",
        "            dist += 1\n",
        "\n",
        "        \n",
        "    def dfs(self, grid, i, j):\n",
        "\n",
        "            if i<0 or j<0 or i>=self.m or j>=self.n or grid[i][j] != 1:\n",
        "                return\n",
        "\n",
        "            self.level.append([i,j])\n",
        "\n",
        "            grid[i][j] = 2\n",
        "            \n",
        "            self.dfs(grid, i+1, j)\n",
        "            self.dfs(grid, i-1, j)\n",
        "            self.dfs(grid, i, j+1)\n",
        "            self.dfs(grid, i, j-1)\n",
        "            return\n",
        "            "
      ],
      "metadata": {
        "id": "sOocXi2foV-1"
      },
      "execution_count": null,
      "outputs": []
    },
    {
      "cell_type": "markdown",
      "source": [
        "##Binary Search Tree"
      ],
      "metadata": {
        "id": "WmYNIZ2VBkLr"
      }
    },
    {
      "cell_type": "markdown",
      "source": [
        "###Inorder Traversal"
      ],
      "metadata": {
        "id": "xiCUEu9KBomj"
      }
    },
    {
      "cell_type": "markdown",
      "source": [
        "###Range Sum of BST\n",
        "\n"
      ],
      "metadata": {
        "id": "BKiT4mcVBsjv"
      }
    },
    {
      "cell_type": "code",
      "source": [
        "class Solution(object):\n",
        "    def rangeSumBST(self, root, low, high):\n",
        "        \"\"\"\n",
        "        :type root: TreeNode\n",
        "        :type low: int\n",
        "        :type high: int\n",
        "        :rtype: int\n",
        "        \"\"\"\n",
        "        self.result = 0\n",
        "        \n",
        "        def inorder(node):\n",
        "            \n",
        "            if node == None:\n",
        "                return\n",
        "            #Traverse left\n",
        "            inorder(node.left)\n",
        "            #Visit Node\n",
        "            if low <= node.val and high >= node.val:\n",
        "                self.result += node.val\n",
        "            #Traverse right\n",
        "            inorder(node.right)\n",
        "            return\n",
        "            \n",
        "        inorder(root)\n",
        "        \n",
        "        return self.result"
      ],
      "metadata": {
        "id": "ywM_bvOWBm9z"
      },
      "execution_count": null,
      "outputs": []
    },
    {
      "cell_type": "markdown",
      "source": [
        "###Inorder Successor in BST"
      ],
      "metadata": {
        "id": "8gtK_jV_Jzmz"
      }
    },
    {
      "cell_type": "code",
      "source": [
        "class Solution(object):\n",
        "    def inorderSuccessor(self, root, p):\n",
        "        \"\"\"\n",
        "        :type root: TreeNode\n",
        "        :type p: TreeNode\n",
        "        :rtype: TreeNode\n",
        "        \"\"\"\n",
        "        self.result = None\n",
        "        self.flag = 0\n",
        "        \n",
        "        def inorder(node):\n",
        "            \n",
        "            if node == None:\n",
        "                return\n",
        "            \n",
        "            inorder(node.left)\n",
        "            \n",
        "            if p.val < node.val and self.flag == 0:\n",
        "                self.result = node\n",
        "                self.flag = 1\n",
        "                print(self.result)\n",
        "                \n",
        "            inorder(node.right)\n",
        "            \n",
        "            return\n",
        "           \n",
        "        inorder(root)\n",
        "        \n",
        "        return self.result"
      ],
      "metadata": {
        "id": "cUJZxnSSJ0Mq"
      },
      "execution_count": null,
      "outputs": []
    },
    {
      "cell_type": "markdown",
      "source": [
        "###Increasing Order Search Tree"
      ],
      "metadata": {
        "id": "sYFhPrK-cCcm"
      }
    },
    {
      "cell_type": "code",
      "source": [
        "# Definition for a binary tree node.\n",
        "# class TreeNode(object):\n",
        "#     def __init__(self, val=0, left=None, right=None):\n",
        "#         self.val = val\n",
        "#         self.left = left\n",
        "#         self.right = right\n",
        "\n",
        "class Solution(object):\n",
        "    def increasingBST(self, root):\n",
        "        \"\"\"\n",
        "        :type root: TreeNode\n",
        "        :rtype: TreeNode\n",
        "        \"\"\"\n",
        "        self.lst = []\n",
        "        \n",
        "        def inorder(node):\n",
        "            \n",
        "            if node == None:\n",
        "                return\n",
        "            \n",
        "            inorder(node.right)\n",
        "            self.lst.append(node.val)\n",
        "            inorder(node.left)\n",
        "            return\n",
        "        \n",
        "        inorder(root)\n",
        "        \n",
        "        prev = None\n",
        "        for element in self.lst:\n",
        "            p = TreeNode(element)\n",
        "            p.left = None\n",
        "            p.right = prev\n",
        "            prev = p\n",
        "            \n",
        "        return p"
      ],
      "metadata": {
        "id": "iHAdnF1QcDKx"
      },
      "execution_count": null,
      "outputs": []
    },
    {
      "cell_type": "markdown",
      "source": [
        "###Preorder Traversal"
      ],
      "metadata": {
        "id": "lLfYQh2jfpYI"
      }
    },
    {
      "cell_type": "markdown",
      "source": [
        "###Binary Tree Preorder Traversal"
      ],
      "metadata": {
        "id": "l6iJ96sHfuoP"
      }
    },
    {
      "cell_type": "code",
      "source": [
        "class Solution(object):\n",
        "    def preorderTraversal(self, root):\n",
        "        \"\"\"\n",
        "        :type root: TreeNode\n",
        "        :rtype: List[int]\n",
        "        \"\"\"\n",
        "        self.result = []\n",
        "        \n",
        "        def preorder(node):\n",
        "            \n",
        "            if node == None:\n",
        "                return\n",
        "            \n",
        "            self.result.append(node.val)\n",
        "            preorder(node.left)\n",
        "            preorder(node.right)\n",
        "            return\n",
        "        \n",
        "        preorder(root)\n",
        "        \n",
        "        return self.result"
      ],
      "metadata": {
        "id": "FAbQJX-yftHb"
      },
      "execution_count": null,
      "outputs": []
    },
    {
      "cell_type": "markdown",
      "source": [
        "###N-ary Tree Preorder Traversal"
      ],
      "metadata": {
        "id": "IoEqqDNzozrV"
      }
    },
    {
      "cell_type": "code",
      "source": [
        "class Solution(object):\n",
        "    def preorder(self, root):\n",
        "        \"\"\"\n",
        "        :type root: Node\n",
        "        :rtype: List[int]\n",
        "        \"\"\"\n",
        "        self.result = []\n",
        "        \n",
        "        def preorder(node):\n",
        "            \n",
        "            if node == None:\n",
        "                return\n",
        "            \n",
        "            self.result.append(node.val)\n",
        "            \n",
        "            for element in node.children:\n",
        "                preorder(element)\n",
        "                \n",
        "            return\n",
        "        \n",
        "        preorder(root)\n",
        "        \n",
        "        return self.result"
      ],
      "metadata": {
        "id": "KDZ6iH75oz_M"
      },
      "execution_count": null,
      "outputs": []
    },
    {
      "cell_type": "markdown",
      "source": [
        "###Postorder Traversal"
      ],
      "metadata": {
        "id": "L465_nK3g7es"
      }
    },
    {
      "cell_type": "markdown",
      "source": [
        "###Binary Tree Postorder Traversal"
      ],
      "metadata": {
        "id": "TSCB2wHPg_b8"
      }
    },
    {
      "cell_type": "code",
      "source": [
        "class Solution(object):\n",
        "    def postorderTraversal(self, root):\n",
        "        \"\"\"\n",
        "        :type root: TreeNode\n",
        "        :rtype: List[int]\n",
        "        \"\"\"\n",
        "        self.result = []\n",
        "        \n",
        "        def postorder(node):\n",
        "            \n",
        "            if node == None:\n",
        "                return\n",
        "            \n",
        "            postorder(node.left)\n",
        "            postorder(node.right)\n",
        "            self.result.append(node.val)\n",
        "            \n",
        "            return\n",
        "        \n",
        "        postorder(root)\n",
        "        \n",
        "        return self.result"
      ],
      "metadata": {
        "id": "etyKHhMZg-Q5"
      },
      "execution_count": null,
      "outputs": []
    },
    {
      "cell_type": "markdown",
      "source": [
        "###N-ary Tree Postorder Traversal"
      ],
      "metadata": {
        "id": "5ioXqyR4oKw_"
      }
    },
    {
      "cell_type": "code",
      "source": [
        "class Solution(object):\n",
        "    def postorder(self, root):\n",
        "        \"\"\"\n",
        "        :type root: Node\n",
        "        :rtype: List[int]\n",
        "        \"\"\"\n",
        "        \n",
        "        self.result = []\n",
        "        \n",
        "        def postorder(node):\n",
        "            \n",
        "            if node == None:\n",
        "                return\n",
        "            \n",
        "            for element in node.children:\n",
        "                postorder(element)\n",
        "                \n",
        "            self.result.append(node.val)\n",
        "            return\n",
        "        \n",
        "        postorder(root)\n",
        "        \n",
        "        return self.result"
      ],
      "metadata": {
        "id": "nVrzHJ7EoLos"
      },
      "execution_count": null,
      "outputs": []
    }
  ]
}