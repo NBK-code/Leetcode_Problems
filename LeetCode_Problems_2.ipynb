{
  "nbformat": 4,
  "nbformat_minor": 0,
  "metadata": {
    "colab": {
      "name": "LeetCode_Problems-2.ipynb",
      "provenance": [],
      "collapsed_sections": [],
      "authorship_tag": "ABX9TyPOyg5V4Kky827OzUaWh0E8",
      "include_colab_link": true
    },
    "kernelspec": {
      "name": "python3",
      "display_name": "Python 3"
    },
    "language_info": {
      "name": "python"
    }
  },
  "cells": [
    {
      "cell_type": "markdown",
      "metadata": {
        "id": "view-in-github",
        "colab_type": "text"
      },
      "source": [
        "<a href=\"https://colab.research.google.com/github/NBK-code/Leetcode_Problems/blob/main/LeetCode_Problems_2.ipynb\" target=\"_parent\"><img src=\"https://colab.research.google.com/assets/colab-badge.svg\" alt=\"Open In Colab\"/></a>"
      ]
    },
    {
      "cell_type": "markdown",
      "source": [
        "#Binary Tree"
      ],
      "metadata": {
        "id": "djw3kMODmolS"
      }
    },
    {
      "cell_type": "markdown",
      "source": [
        "Average of Levels in Binary Tree"
      ],
      "metadata": {
        "id": "gB1j9G-Hms0Y"
      }
    },
    {
      "cell_type": "code",
      "source": [
        "class Solution(object):\n",
        "    def averageOfLevels(self, root):\n",
        "        \"\"\"\n",
        "        :type root: TreeNode\n",
        "        :rtype: List[float]\n",
        "        \"\"\"\n",
        "        \n",
        "        if not root:\n",
        "            return []\n",
        "        \n",
        "        level = [root]\n",
        "        result = []\n",
        "        \n",
        "        while level:\n",
        "            \n",
        "            sum_ = 0\n",
        "            count = 0\n",
        "            for node in level:\n",
        "                sum_ += node.val\n",
        "                count += 1\n",
        "            result.append(float(sum_)/count)\n",
        "            \n",
        "            q = []\n",
        "            for node in level:\n",
        "                if node.left:\n",
        "                    q.append(node.left)\n",
        "                if node.right:\n",
        "                    q.append(node.right)\n",
        "            level = q\n",
        "            \n",
        "        return result"
      ],
      "metadata": {
        "id": "Co056YICmqFx"
      },
      "execution_count": null,
      "outputs": []
    },
    {
      "cell_type": "markdown",
      "source": [
        "Univalued Binary Tree"
      ],
      "metadata": {
        "id": "D8St1hUD0pLs"
      }
    },
    {
      "cell_type": "code",
      "source": [
        "class Solution(object):\n",
        "    def isUnivalTree(self, root):\n",
        "        \"\"\"\n",
        "        :type root: TreeNode\n",
        "        :rtype: bool\n",
        "        \"\"\"\n",
        "        \n",
        "        if not root:\n",
        "            return False\n",
        "        \n",
        "        level = [root]\n",
        "        \n",
        "        while level:\n",
        "            \n",
        "            for node in level:\n",
        "                if node.val != root.val:\n",
        "                    return False\n",
        "                \n",
        "            q = []\n",
        "            \n",
        "            for node in level:\n",
        "                if node.left:\n",
        "                    q.append(node.left)\n",
        "                if node.right:\n",
        "                    q.append(node.right)\n",
        "            level = q\n",
        "            \n",
        "        return True"
      ],
      "metadata": {
        "id": "SoblIcNDyH1s"
      },
      "execution_count": null,
      "outputs": []
    },
    {
      "cell_type": "markdown",
      "source": [
        "#Depth-First Search"
      ],
      "metadata": {
        "id": "8kDCHTmj09NJ"
      }
    },
    {
      "cell_type": "markdown",
      "source": [
        "Flood Fill"
      ],
      "metadata": {
        "id": "XUjYjheryG1f"
      }
    },
    {
      "cell_type": "code",
      "source": [
        "class Solution(object):\n",
        "    def floodFill(self, image, sr, sc, newColor):\n",
        "        \"\"\"\n",
        "        :type image: List[List[int]]\n",
        "        :type sr: int\n",
        "        :type sc: int\n",
        "        :type newColor: int\n",
        "        :rtype: List[List[int]]\n",
        "        \"\"\"\n",
        "        \n",
        "        st = image[sr][sc]\n",
        "        \n",
        "        def dfs(i, j):\n",
        "\n",
        "            if i<0 or j<0 or i>=len(image) or j>=len(image[0]) or image[i][j] != st:\n",
        "                return\n",
        "            \n",
        "            image[i][j] = newColor\n",
        "            \n",
        "            dfs(i+1,j)\n",
        "            dfs(i-1,j)\n",
        "            dfs(i,j+1)\n",
        "            dfs(i,j-1)\n",
        "            \n",
        "        if newColor == st:\n",
        "            return image\n",
        "            \n",
        "        dfs(sr,sc)\n",
        "            \n",
        "        return image"
      ],
      "metadata": {
        "id": "h0mz_pq3yHM1"
      },
      "execution_count": null,
      "outputs": []
    }
  ]
}