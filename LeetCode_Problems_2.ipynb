{
  "nbformat": 4,
  "nbformat_minor": 0,
  "metadata": {
    "colab": {
      "name": "LeetCode_Problems-2.ipynb",
      "provenance": [],
      "collapsed_sections": [],
      "authorship_tag": "ABX9TyOvWhEp61EiUhQt1k3sKi8u",
      "include_colab_link": true
    },
    "kernelspec": {
      "name": "python3",
      "display_name": "Python 3"
    },
    "language_info": {
      "name": "python"
    }
  },
  "cells": [
    {
      "cell_type": "markdown",
      "metadata": {
        "id": "view-in-github",
        "colab_type": "text"
      },
      "source": [
        "<a href=\"https://colab.research.google.com/github/NBK-code/Leetcode_Problems/blob/main/LeetCode_Problems_2.ipynb\" target=\"_parent\"><img src=\"https://colab.research.google.com/assets/colab-badge.svg\" alt=\"Open In Colab\"/></a>"
      ]
    },
    {
      "cell_type": "markdown",
      "source": [
        "#Binary Tree"
      ],
      "metadata": {
        "id": "djw3kMODmolS"
      }
    },
    {
      "cell_type": "markdown",
      "source": [
        "Average of Levels in Binary Tree"
      ],
      "metadata": {
        "id": "gB1j9G-Hms0Y"
      }
    },
    {
      "cell_type": "code",
      "source": [
        "class Solution(object):\n",
        "    def averageOfLevels(self, root):\n",
        "        \"\"\"\n",
        "        :type root: TreeNode\n",
        "        :rtype: List[float]\n",
        "        \"\"\"\n",
        "        \n",
        "        if not root:\n",
        "            return []\n",
        "        \n",
        "        level = [root]\n",
        "        result = []\n",
        "        \n",
        "        while level:\n",
        "            \n",
        "            sum_ = 0\n",
        "            count = 0\n",
        "            for node in level:\n",
        "                sum_ += node.val\n",
        "                count += 1\n",
        "            result.append(float(sum_)/count)\n",
        "            \n",
        "            q = []\n",
        "            for node in level:\n",
        "                if node.left:\n",
        "                    q.append(node.left)\n",
        "                if node.right:\n",
        "                    q.append(node.right)\n",
        "            level = q\n",
        "            \n",
        "        return result"
      ],
      "metadata": {
        "id": "Co056YICmqFx"
      },
      "execution_count": null,
      "outputs": []
    },
    {
      "cell_type": "markdown",
      "source": [
        "Univalued Binary Tree"
      ],
      "metadata": {
        "id": "D8St1hUD0pLs"
      }
    },
    {
      "cell_type": "code",
      "source": [
        "class Solution(object):\n",
        "    def isUnivalTree(self, root):\n",
        "        \"\"\"\n",
        "        :type root: TreeNode\n",
        "        :rtype: bool\n",
        "        \"\"\"\n",
        "        \n",
        "        if not root:\n",
        "            return False\n",
        "        \n",
        "        level = [root]\n",
        "        \n",
        "        while level:\n",
        "            \n",
        "            for node in level:\n",
        "                if node.val != root.val:\n",
        "                    return False\n",
        "                \n",
        "            q = []\n",
        "            \n",
        "            for node in level:\n",
        "                if node.left:\n",
        "                    q.append(node.left)\n",
        "                if node.right:\n",
        "                    q.append(node.right)\n",
        "            level = q\n",
        "            \n",
        "        return True"
      ],
      "metadata": {
        "id": "SoblIcNDyH1s"
      },
      "execution_count": null,
      "outputs": []
    },
    {
      "cell_type": "markdown",
      "source": [
        "Find All The Lonely Nodes"
      ],
      "metadata": {
        "id": "DgbGpe-l42TV"
      }
    },
    {
      "cell_type": "code",
      "source": [
        "class Solution(object):\n",
        "    def getLonelyNodes(self, root):\n",
        "        \"\"\"\n",
        "        :type root: TreeNode\n",
        "        :rtype: List[int]\n",
        "        \"\"\"\n",
        "        \n",
        "        level = [root]\n",
        "        \n",
        "        result = []\n",
        "        \n",
        "        \n",
        "        while level:\n",
        "            \n",
        "            q = []\n",
        "            for node in level:\n",
        "                if node.left and not node.right:\n",
        "                    result.append(node.left.val)\n",
        "                if node.right and not node.left:\n",
        "                    result.append(node.right.val)\n",
        "                if node.left:\n",
        "                    q.append(node.left)\n",
        "                if node.right:\n",
        "                    q.append(node.right)\n",
        "            level = q\n",
        "            \n",
        "        return result"
      ],
      "metadata": {
        "id": "_WYLKoIW421h"
      },
      "execution_count": null,
      "outputs": []
    },
    {
      "cell_type": "markdown",
      "source": [
        "Binary Tree Tilt"
      ],
      "metadata": {
        "id": "EBLXpzIeNJxP"
      }
    },
    {
      "cell_type": "code",
      "source": [
        "class Solution(object):\n",
        "    def findTilt(self, root):\n",
        "        \"\"\"\n",
        "        :type root: TreeNode\n",
        "        :rtype: int\n",
        "        \"\"\"\n",
        "        if not root:\n",
        "            return 0\n",
        "        \n",
        "        node = root\n",
        "        \n",
        "        lst = [] \n",
        "        \n",
        "        def dfs(node):\n",
        "            \n",
        "            if not node.left and not node.right:\n",
        "                return node.val\n",
        "            \n",
        "            l = 0\n",
        "            r = 0\n",
        "            \n",
        "            if node.left:\n",
        "                l += dfs(node.left)\n",
        "                \n",
        "            if node.right:\n",
        "                r += dfs(node.right)\n",
        "                \n",
        "            lst.append(abs(l-r))\n",
        "            \n",
        "            return node.val + l + r\n",
        "        \n",
        "        _ = dfs(root)\n",
        "           \n",
        "        return sum(lst)"
      ],
      "metadata": {
        "id": "kAMc73dDNK84"
      },
      "execution_count": null,
      "outputs": []
    },
    {
      "cell_type": "markdown",
      "source": [
        "Even Odd Tree"
      ],
      "metadata": {
        "id": "bPn0FHHbX2Pm"
      }
    },
    {
      "cell_type": "code",
      "source": [
        "class Solution(object):\n",
        "    def isEvenOddTree(self, root):\n",
        "        \"\"\"\n",
        "        :type root: TreeNode\n",
        "        :rtype: bool\n",
        "        \"\"\"\n",
        "        if not root:\n",
        "            return False\n",
        "        \n",
        "        level = [root]\n",
        "        level_idx = 0\n",
        "        \n",
        "        if root.val%2 == 0:\n",
        "            return False\n",
        "        \n",
        "        while level:\n",
        "            \n",
        "            q = []\n",
        "            q_val = []\n",
        "            for node in level:\n",
        "                if node.left:\n",
        "                    q.append(node.left) \n",
        "                    q_val.append(node.left.val)\n",
        "                if node.right:\n",
        "                    q.append(node.right)\n",
        "                    q_val.append(node.right.val)\n",
        "            level = q\n",
        "            level_idx += 1\n",
        "            \n",
        "            if level_idx%2 == 0:\n",
        "                prev = -10000000\n",
        "                for val in q_val:\n",
        "                    if val%2 == 0:\n",
        "                        return False\n",
        "                    if prev < val:\n",
        "                        prev = val\n",
        "                    else:\n",
        "                        return False\n",
        "                \n",
        "            if level_idx%2 != 0:\n",
        "                prev = 100000000\n",
        "                for val in q_val:\n",
        "                    if val%2 != 0:\n",
        "                        return False\n",
        "                    if prev > val:\n",
        "                        prev = val\n",
        "                    else:\n",
        "                        return False\n",
        "                    \n",
        "        return True"
      ],
      "metadata": {
        "id": "-H6EDcJMX3-u"
      },
      "execution_count": null,
      "outputs": []
    },
    {
      "cell_type": "markdown",
      "source": [
        "#Depth-First Search"
      ],
      "metadata": {
        "id": "8kDCHTmj09NJ"
      }
    },
    {
      "cell_type": "markdown",
      "source": [
        "Flood Fill"
      ],
      "metadata": {
        "id": "XUjYjheryG1f"
      }
    },
    {
      "cell_type": "code",
      "source": [
        "class Solution(object):\n",
        "    def floodFill(self, image, sr, sc, newColor):\n",
        "        \"\"\"\n",
        "        :type image: List[List[int]]\n",
        "        :type sr: int\n",
        "        :type sc: int\n",
        "        :type newColor: int\n",
        "        :rtype: List[List[int]]\n",
        "        \"\"\"\n",
        "        \n",
        "        st = image[sr][sc]\n",
        "        \n",
        "        def dfs(i, j):\n",
        "\n",
        "            if i<0 or j<0 or i>=len(image) or j>=len(image[0]) or image[i][j] != st:\n",
        "                return\n",
        "            \n",
        "            image[i][j] = newColor\n",
        "            \n",
        "            dfs(i+1,j)\n",
        "            dfs(i-1,j)\n",
        "            dfs(i,j+1)\n",
        "            dfs(i,j-1)\n",
        "            \n",
        "        if newColor == st:\n",
        "            return image\n",
        "            \n",
        "        dfs(sr,sc)\n",
        "            \n",
        "        return image"
      ],
      "metadata": {
        "id": "h0mz_pq3yHM1"
      },
      "execution_count": null,
      "outputs": []
    }
  ]
}