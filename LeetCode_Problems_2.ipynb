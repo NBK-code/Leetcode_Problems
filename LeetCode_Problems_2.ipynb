{
  "nbformat": 4,
  "nbformat_minor": 0,
  "metadata": {
    "colab": {
      "name": "LeetCode_Problems-2.ipynb",
      "provenance": [],
      "collapsed_sections": [],
      "authorship_tag": "ABX9TyM2QyfyvBivDFJCwSGwRC1B",
      "include_colab_link": true
    },
    "kernelspec": {
      "name": "python3",
      "display_name": "Python 3"
    },
    "language_info": {
      "name": "python"
    }
  },
  "cells": [
    {
      "cell_type": "markdown",
      "metadata": {
        "id": "view-in-github",
        "colab_type": "text"
      },
      "source": [
        "<a href=\"https://colab.research.google.com/github/NBK-code/Leetcode_Problems/blob/main/LeetCode_Problems_2.ipynb\" target=\"_parent\"><img src=\"https://colab.research.google.com/assets/colab-badge.svg\" alt=\"Open In Colab\"/></a>"
      ]
    },
    {
      "cell_type": "markdown",
      "source": [
        "#Code Tidbits"
      ],
      "metadata": {
        "id": "WqO3jmAjEkFN"
      }
    },
    {
      "cell_type": "markdown",
      "source": [
        "###Binary to Decimal"
      ],
      "metadata": {
        "id": "Tn71H5CbEnz8"
      }
    },
    {
      "cell_type": "code",
      "source": [
        "binary_string = '111'\n",
        "decimal = 0\n",
        "for digit in binary_string:\n",
        "  decimal = decimal*2 + int(digit)\n",
        "print(decimal)"
      ],
      "metadata": {
        "colab": {
          "base_uri": "https://localhost:8080/"
        },
        "id": "mdtVrbG9ErkL",
        "outputId": "c7f481e8-fb26-491e-ed8c-c9f46cb893b4"
      },
      "execution_count": 3,
      "outputs": [
        {
          "output_type": "stream",
          "name": "stdout",
          "text": [
            "7\n"
          ]
        }
      ]
    },
    {
      "cell_type": "markdown",
      "source": [
        "#Binary Tree"
      ],
      "metadata": {
        "id": "djw3kMODmolS"
      }
    },
    {
      "cell_type": "markdown",
      "source": [
        "###Symmetric Tree"
      ],
      "metadata": {
        "id": "gFKgmeUuj3P0"
      }
    },
    {
      "cell_type": "code",
      "source": [
        "class Solution(object):\n",
        "    def isSymmetric(self, root):\n",
        "        \"\"\"\n",
        "        :type root: TreeNode\n",
        "        :rtype: bool\n",
        "        \"\"\"\n",
        "        \n",
        "        if not root:\n",
        "            return False\n",
        "        \n",
        "        def is_palindrome(lst):\n",
        "            \n",
        "            if len(lst) == 1 or len(lst) == 0:\n",
        "                return True\n",
        "            \n",
        "            if lst[0] != lst[-1]:\n",
        "                return False\n",
        "            \n",
        "            lst = lst[1:-1]\n",
        "            \n",
        "            return is_palindrome(lst)\n",
        "            \n",
        "        \n",
        "        level = [root]\n",
        "        \n",
        "        while level:\n",
        "            \n",
        "            q = []\n",
        "            q_val = []\n",
        "            for node in level:\n",
        "                if node.left:\n",
        "                    q.append(node.left)\n",
        "                    q_val.append(node.left.val)\n",
        "                else:\n",
        "                    q_val.append(101)\n",
        "                if node.right:\n",
        "                    q.append(node.right)\n",
        "                    q_val.append(node.right.val)\n",
        "                else:\n",
        "                    q_val.append(101)\n",
        "            level = q\n",
        "            \n",
        "            if not is_palindrome(q_val):\n",
        "                return False\n",
        "        \n",
        "        return True"
      ],
      "metadata": {
        "id": "gfbZiFFEj5w0"
      },
      "execution_count": null,
      "outputs": []
    },
    {
      "cell_type": "markdown",
      "source": [
        "###Average of Levels in Binary Tree"
      ],
      "metadata": {
        "id": "gB1j9G-Hms0Y"
      }
    },
    {
      "cell_type": "code",
      "source": [
        "class Solution(object):\n",
        "    def averageOfLevels(self, root):\n",
        "        \"\"\"\n",
        "        :type root: TreeNode\n",
        "        :rtype: List[float]\n",
        "        \"\"\"\n",
        "        \n",
        "        if not root:\n",
        "            return []\n",
        "        \n",
        "        level = [root]\n",
        "        result = []\n",
        "        \n",
        "        while level:\n",
        "            \n",
        "            sum_ = 0\n",
        "            count = 0\n",
        "            for node in level:\n",
        "                sum_ += node.val\n",
        "                count += 1\n",
        "            result.append(float(sum_)/count)\n",
        "            \n",
        "            q = []\n",
        "            for node in level:\n",
        "                if node.left:\n",
        "                    q.append(node.left)\n",
        "                if node.right:\n",
        "                    q.append(node.right)\n",
        "            level = q\n",
        "            \n",
        "        return result"
      ],
      "metadata": {
        "id": "Co056YICmqFx"
      },
      "execution_count": null,
      "outputs": []
    },
    {
      "cell_type": "markdown",
      "source": [
        "###Univalued Binary Tree"
      ],
      "metadata": {
        "id": "D8St1hUD0pLs"
      }
    },
    {
      "cell_type": "code",
      "source": [
        "class Solution(object):\n",
        "    def isUnivalTree(self, root):\n",
        "        \"\"\"\n",
        "        :type root: TreeNode\n",
        "        :rtype: bool\n",
        "        \"\"\"\n",
        "        \n",
        "        if not root:\n",
        "            return False\n",
        "        \n",
        "        level = [root]\n",
        "        \n",
        "        while level:\n",
        "            \n",
        "            for node in level:\n",
        "                if node.val != root.val:\n",
        "                    return False\n",
        "                \n",
        "            q = []\n",
        "            \n",
        "            for node in level:\n",
        "                if node.left:\n",
        "                    q.append(node.left)\n",
        "                if node.right:\n",
        "                    q.append(node.right)\n",
        "            level = q\n",
        "            \n",
        "        return True"
      ],
      "metadata": {
        "id": "SoblIcNDyH1s"
      },
      "execution_count": null,
      "outputs": []
    },
    {
      "cell_type": "markdown",
      "source": [
        "###Find All The Lonely Nodes"
      ],
      "metadata": {
        "id": "DgbGpe-l42TV"
      }
    },
    {
      "cell_type": "code",
      "source": [
        "class Solution(object):\n",
        "    def getLonelyNodes(self, root):\n",
        "        \"\"\"\n",
        "        :type root: TreeNode\n",
        "        :rtype: List[int]\n",
        "        \"\"\"\n",
        "        \n",
        "        level = [root]\n",
        "        \n",
        "        result = []\n",
        "        \n",
        "        \n",
        "        while level:\n",
        "            \n",
        "            q = []\n",
        "            for node in level:\n",
        "                if node.left and not node.right:\n",
        "                    result.append(node.left.val)\n",
        "                if node.right and not node.left:\n",
        "                    result.append(node.right.val)\n",
        "                if node.left:\n",
        "                    q.append(node.left)\n",
        "                if node.right:\n",
        "                    q.append(node.right)\n",
        "            level = q\n",
        "            \n",
        "        return result"
      ],
      "metadata": {
        "id": "_WYLKoIW421h"
      },
      "execution_count": null,
      "outputs": []
    },
    {
      "cell_type": "markdown",
      "source": [
        "###Binary Tree Tilt"
      ],
      "metadata": {
        "id": "EBLXpzIeNJxP"
      }
    },
    {
      "cell_type": "code",
      "source": [
        "class Solution(object):\n",
        "    def findTilt(self, root):\n",
        "        \"\"\"\n",
        "        :type root: TreeNode\n",
        "        :rtype: int\n",
        "        \"\"\"\n",
        "        if not root:\n",
        "            return 0\n",
        "        \n",
        "        node = root\n",
        "        \n",
        "        lst = [] \n",
        "        \n",
        "        def dfs(node):\n",
        "            \n",
        "            if not node.left and not node.right:\n",
        "                return node.val\n",
        "            \n",
        "            l = 0\n",
        "            r = 0\n",
        "            \n",
        "            if node.left:\n",
        "                l += dfs(node.left)\n",
        "                \n",
        "            if node.right:\n",
        "                r += dfs(node.right)\n",
        "                \n",
        "            lst.append(abs(l-r))\n",
        "            \n",
        "            return node.val + l + r\n",
        "        \n",
        "        _ = dfs(root)\n",
        "           \n",
        "        return sum(lst)"
      ],
      "metadata": {
        "id": "kAMc73dDNK84"
      },
      "execution_count": null,
      "outputs": []
    },
    {
      "cell_type": "markdown",
      "source": [
        "###Even Odd Tree"
      ],
      "metadata": {
        "id": "bPn0FHHbX2Pm"
      }
    },
    {
      "cell_type": "code",
      "source": [
        "class Solution(object):\n",
        "    def isEvenOddTree(self, root):\n",
        "        \"\"\"\n",
        "        :type root: TreeNode\n",
        "        :rtype: bool\n",
        "        \"\"\"\n",
        "        if not root:\n",
        "            return False\n",
        "        \n",
        "        level = [root]\n",
        "        level_idx = 0\n",
        "        \n",
        "        if root.val%2 == 0:\n",
        "            return False\n",
        "        \n",
        "        while level:\n",
        "            \n",
        "            q = []\n",
        "            q_val = []\n",
        "            for node in level:\n",
        "                if node.left:\n",
        "                    q.append(node.left) \n",
        "                    q_val.append(node.left.val)\n",
        "                if node.right:\n",
        "                    q.append(node.right)\n",
        "                    q_val.append(node.right.val)\n",
        "            level = q\n",
        "            level_idx += 1\n",
        "            \n",
        "            if level_idx%2 == 0:\n",
        "                prev = -10000000\n",
        "                for val in q_val:\n",
        "                    if val%2 == 0:\n",
        "                        return False\n",
        "                    if prev < val:\n",
        "                        prev = val\n",
        "                    else:\n",
        "                        return False\n",
        "                \n",
        "            if level_idx%2 != 0:\n",
        "                prev = 100000000\n",
        "                for val in q_val:\n",
        "                    if val%2 != 0:\n",
        "                        return False\n",
        "                    if prev > val:\n",
        "                        prev = val\n",
        "                    else:\n",
        "                        return False\n",
        "                    \n",
        "        return True"
      ],
      "metadata": {
        "id": "-H6EDcJMX3-u"
      },
      "execution_count": null,
      "outputs": []
    },
    {
      "cell_type": "markdown",
      "source": [
        "#Depth-First Search"
      ],
      "metadata": {
        "id": "8kDCHTmj09NJ"
      }
    },
    {
      "cell_type": "markdown",
      "source": [
        "###Flood Fill"
      ],
      "metadata": {
        "id": "XUjYjheryG1f"
      }
    },
    {
      "cell_type": "code",
      "source": [
        "class Solution(object):\n",
        "    def floodFill(self, image, sr, sc, newColor):\n",
        "        \"\"\"\n",
        "        :type image: List[List[int]]\n",
        "        :type sr: int\n",
        "        :type sc: int\n",
        "        :type newColor: int\n",
        "        :rtype: List[List[int]]\n",
        "        \"\"\"\n",
        "        \n",
        "        st = image[sr][sc]\n",
        "        \n",
        "        def dfs(i, j):\n",
        "\n",
        "            if i<0 or j<0 or i>=len(image) or j>=len(image[0]) or image[i][j] != st:\n",
        "                return\n",
        "            \n",
        "            image[i][j] = newColor\n",
        "            \n",
        "            dfs(i+1,j)\n",
        "            dfs(i-1,j)\n",
        "            dfs(i,j+1)\n",
        "            dfs(i,j-1)\n",
        "            \n",
        "        if newColor == st:\n",
        "            return image\n",
        "            \n",
        "        dfs(sr,sc)\n",
        "            \n",
        "        return image"
      ],
      "metadata": {
        "id": "h0mz_pq3yHM1"
      },
      "execution_count": null,
      "outputs": []
    },
    {
      "cell_type": "markdown",
      "source": [
        "###Path Sum"
      ],
      "metadata": {
        "id": "x8liBfLZu1tp"
      }
    },
    {
      "cell_type": "code",
      "source": [
        "class Solution(object):\n",
        "    def hasPathSum(self, root, sum):\n",
        "        \"\"\"\n",
        "        :type root: TreeNode\n",
        "        :type sum: int\n",
        "        :rtype: bool\n",
        "        \"\"\"\n",
        "        if not root:\n",
        "            return False\n",
        "        \n",
        "        running_sum = 0\n",
        "        \n",
        "        def dfs(node, running_sum):\n",
        "            \n",
        "            if not node.left and not node.right:\n",
        "                if running_sum + node.val == sum:\n",
        "                    return True\n",
        "                else:\n",
        "                    return False\n",
        "                \n",
        "            running_sum += node.val\n",
        "            left_v, right_v = False, False\n",
        "            if node.left:\n",
        "                left_v = dfs(node.left, running_sum)\n",
        "            if node.right:\n",
        "                right_v = dfs(node.right, running_sum)\n",
        "            running_sum -= node.val\n",
        "            \n",
        "            return left_v or right_v\n",
        "        \n",
        "        return dfs(root, running_sum)"
      ],
      "metadata": {
        "id": "JkeLKG53u3y5"
      },
      "execution_count": null,
      "outputs": []
    },
    {
      "cell_type": "markdown",
      "source": [
        "###Sum of Root To Leaf Binary Numbers"
      ],
      "metadata": {
        "id": "eWRkFBCHENQh"
      }
    },
    {
      "cell_type": "code",
      "source": [
        "class Solution(object):\n",
        "    def sumRootToLeaf(self, root):\n",
        "        \"\"\"\n",
        "        :type root: TreeNode\n",
        "        :rtype: int\n",
        "        \"\"\"\n",
        "        self.result = 0\n",
        "        \n",
        "        def dfs(node, string):\n",
        "            \n",
        "            if not node.left and not node.right:\n",
        "                string += str(node.val)\n",
        "                \n",
        "                decimal = 0\n",
        "                for digit in string:\n",
        "                    decimal = decimal*2 + int(digit)\n",
        "                self.result += decimal\n",
        "                \n",
        "                string = string[:-1]\n",
        "                return string\n",
        "                \n",
        "            string += str(node.val)\n",
        "            \n",
        "            if node.left:\n",
        "                string = dfs(node.left, string)\n",
        "            \n",
        "            if node.right:\n",
        "                string = dfs(node.right, string)\n",
        "                \n",
        "            string = string[:-1]\n",
        "            \n",
        "            return string\n",
        "        \n",
        "        _ = dfs(root, '')\n",
        "        \n",
        "        return self.result"
      ],
      "metadata": {
        "id": "9qTbZumkEN2d"
      },
      "execution_count": null,
      "outputs": []
    },
    {
      "cell_type": "markdown",
      "source": [
        "###Second Minimum Node In a Binary Tree"
      ],
      "metadata": {
        "id": "21IAGn8NVAQZ"
      }
    },
    {
      "cell_type": "code",
      "source": [
        "class Solution(object):\n",
        "    def findSecondMinimumValue(self, root):\n",
        "        \"\"\"\n",
        "        :type root: TreeNode\n",
        "        :rtype: int\n",
        "        \"\"\"\n",
        "        # If there is a second minimum, it will definitely be on a leaf.\n",
        "        # In fact, each the distinct numbers that are in the tree, will appear\n",
        "        # on the leaf at least once.\n",
        "        # So collect all leaves and find the seconf min.\n",
        "        \n",
        "        self.lst = []\n",
        "        \n",
        "        def dfs(node):\n",
        "            \n",
        "            if not node.left and not node.right:\n",
        "                self.lst.append(node.val)\n",
        "                return\n",
        "            \n",
        "            if node.left:\n",
        "                dfs(node.left)\n",
        "                \n",
        "            if node.right:\n",
        "                dfs(node.right)\n",
        "                \n",
        "            return\n",
        "        \n",
        "        dfs(root)\n",
        "\n",
        "        self.lst = list(set(self.lst))\n",
        "        self.lst.sort()\n",
        "        \n",
        "        if len(self.lst) > 1:\n",
        "            return self.lst[1]\n",
        "        \n",
        "        return -1"
      ],
      "metadata": {
        "id": "jj9GE4r9VE4k"
      },
      "execution_count": null,
      "outputs": []
    }
  ]
}