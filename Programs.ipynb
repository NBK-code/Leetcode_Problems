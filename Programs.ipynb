{
  "nbformat": 4,
  "nbformat_minor": 0,
  "metadata": {
    "colab": {
      "name": "Programs.ipynb",
      "provenance": [],
      "collapsed_sections": [],
      "authorship_tag": "ABX9TyPbSwEc0eXL5+QmohEHETdJ",
      "include_colab_link": true
    },
    "kernelspec": {
      "name": "python3",
      "display_name": "Python 3"
    },
    "language_info": {
      "name": "python"
    },
    "accelerator": "GPU"
  },
  "cells": [
    {
      "cell_type": "markdown",
      "metadata": {
        "id": "view-in-github",
        "colab_type": "text"
      },
      "source": [
        "<a href=\"https://colab.research.google.com/github/NBK-code/Leetcode_Problems/blob/main/Programs.ipynb\" target=\"_parent\"><img src=\"https://colab.research.google.com/assets/colab-badge.svg\" alt=\"Open In Colab\"/></a>"
      ]
    },
    {
      "cell_type": "markdown",
      "metadata": {
        "id": "4-w-f_xrhm74"
      },
      "source": [
        "## Factorial Using Recursion"
      ]
    },
    {
      "cell_type": "code",
      "metadata": {
        "id": "Hb2KiYlOhy8f"
      },
      "source": [
        "# Factorial of a number using recursion\n",
        "\n",
        "def recur_factorial(n):\n",
        "   if n == 1:\n",
        "       return n\n",
        "   else:\n",
        "       return n*recur_factorial(n-1)"
      ],
      "execution_count": null,
      "outputs": []
    },
    {
      "cell_type": "code",
      "metadata": {
        "colab": {
          "base_uri": "https://localhost:8080/"
        },
        "id": "ACTUJhIsh63N",
        "outputId": "4641071c-f1af-4b0a-f1e1-c6a9a05f2b64"
      },
      "source": [
        "num = 7\n",
        "\n",
        "\n",
        "if num < 0:\n",
        "   print(\"Sorry, factorial does not exist for negative numbers\")\n",
        "elif num == 0:\n",
        "   print(\"The factorial of 0 is 1\")\n",
        "else:\n",
        "   print(\"The factorial of\", num, \"is\", recur_factorial(num))\n"
      ],
      "execution_count": null,
      "outputs": [
        {
          "output_type": "stream",
          "text": [
            "The factorial of 7 is 5040\n"
          ],
          "name": "stdout"
        }
      ]
    },
    {
      "cell_type": "markdown",
      "metadata": {
        "id": "_hai0elfhPD7"
      },
      "source": [
        "## Karatsuba's Algorithm For Multiplication"
      ]
    },
    {
      "cell_type": "code",
      "metadata": {
        "colab": {
          "base_uri": "https://localhost:8080/"
        },
        "id": "8XX-X0efNqaL",
        "outputId": "937736d3-7d7d-4c82-dc8a-4d0e43ac1bdf"
      },
      "source": [
        "# Careful!\n",
        "\n",
        "# Float loses precison\n",
        "\n",
        "int_val = 314159265749449592\n",
        "print(int_val)\n",
        "float_int_val = float(int_val)\n",
        "print(float_int_val)\n",
        "int_float_int_val = int(float_int_val)\n",
        "print(int_float_int_val)\n",
        "print(int_val == int_float_int_val)\n"
      ],
      "execution_count": null,
      "outputs": [
        {
          "output_type": "stream",
          "text": [
            "314159265749449592\n",
            "3.141592657494496e+17\n",
            "314159265749449600\n",
            "False\n"
          ],
          "name": "stdout"
        }
      ]
    },
    {
      "cell_type": "code",
      "metadata": {
        "id": "6B6ZnsYPg1IG"
      },
      "source": [
        "# Make sure that at no point a float data type is generated. For large numbers float looses precision.\n",
        "# In this code, only int data types are used \n",
        "\n",
        "def preprocess(x, y):\n",
        "  if len(x) == 1 and len(y) == 1:\n",
        "    return x,y\n",
        "  if len(x) % 2 !=0:\n",
        "    x = '0' + x\n",
        "  if len(y) % 2 !=0:\n",
        "    y = '0' + y\n",
        "  if len(x) > len(y):\n",
        "    y = '0'*(len(x) - len(y)) + y\n",
        "  else:\n",
        "    x = '0'*(len(y) - len(x)) + x\n",
        "  return x,y\n",
        "\n",
        "def Karatsuba(x, y):\n",
        "  \n",
        "  if len(x) == 1 and len(y) == 1:\n",
        "    return str(int(x)*int(y))\n",
        "\n",
        "  else:\n",
        "    x,y = preprocess(x, y) \n",
        "\n",
        "    a = x[:int(len(x)/2)]\n",
        "    b = x[int(len(x)/2):]\n",
        "    c = y[:int(len(y)/2)]\n",
        "    d = y[int(len(y)/2):]\n",
        "\n",
        "    a_plus_b = str(int(a) + int(b))\n",
        "    c_plus_d = str(int(c) + int(d))\n",
        "\n",
        "    a_plus_b, c_plus_d = preprocess(a_plus_b, c_plus_d)\n",
        "\n",
        "    ac = Karatsuba(a, c)\n",
        "    bd = Karatsuba(b, d)\n",
        "    a_plus_b_mul_c_plus_d = Karatsuba(a_plus_b, c_plus_d)\n",
        "\n",
        "    a_mul_d_plus_b_mul_c = str(int(a_plus_b_mul_c_plus_d) - int(ac) - int(bd))\n",
        "\n",
        "    return str(int(ac+'0'*len(x))+int(a_mul_d_plus_b_mul_c + '0'*int(len(x)/2))+int(bd))\n",
        "\n",
        "\n"
      ],
      "execution_count": null,
      "outputs": []
    },
    {
      "cell_type": "code",
      "metadata": {
        "id": "8PgO-stEHVmR"
      },
      "source": [
        "result_1 = int(3141592653589793238462643383279502884197169399375105820974944592)*int(2718281828459045235360287471352662497757247093699959574966967627)"
      ],
      "execution_count": null,
      "outputs": []
    },
    {
      "cell_type": "code",
      "metadata": {
        "id": "KqLHaHQWH-3T"
      },
      "source": [
        "result_2 = int(Karatsuba(str(3141592653589793238462643383279502884197169399375105820974944592), \n",
        "                         str(2718281828459045235360287471352662497757247093699959574966967627)))"
      ],
      "execution_count": null,
      "outputs": []
    },
    {
      "cell_type": "code",
      "metadata": {
        "colab": {
          "base_uri": "https://localhost:8080/"
        },
        "id": "zNkhqpIfIQbB",
        "outputId": "fd26f49d-a2f6-4e16-e714-9665196fb480"
      },
      "source": [
        "result_1 == result_2"
      ],
      "execution_count": null,
      "outputs": [
        {
          "output_type": "execute_result",
          "data": {
            "text/plain": [
              "True"
            ]
          },
          "metadata": {
            "tags": []
          },
          "execution_count": 178
        }
      ]
    },
    {
      "cell_type": "markdown",
      "metadata": {
        "id": "dlps4eJmn84q"
      },
      "source": [
        "## Merge Sort"
      ]
    },
    {
      "cell_type": "code",
      "metadata": {
        "id": "J2BNcS_YN6iA"
      },
      "source": [
        "# Merge sort for lists\n",
        "\n",
        "def merge_sort(array):\n",
        "\n",
        "  if len(array) == 1 or len(array) == 0:\n",
        "    return array\n",
        "\n",
        "  else:\n",
        "\n",
        "    half_point = int(len(array)/2)\n",
        "\n",
        "    first_half = array[:half_point]\n",
        "    second_half = array[half_point:]\n",
        "\n",
        "    sorted_first_half = merge_sort(first_half)\n",
        "    sorted_second_half = merge_sort(second_half)\n",
        "\n",
        "    i = 0\n",
        "    j = 0\n",
        "\n",
        "    new_array = []\n",
        "\n",
        "    #Uncomment for debugging\n",
        "    #print(\"first half:\", first_half)\n",
        "    #print(\"sorted first half:\", sorted_first_half)\n",
        "    #print(\"second half:\", second_half)\n",
        "    #print(\"sorted second half:\", sorted_second_half)\n",
        "\n",
        "\n",
        "    for k in range(len(array)):\n",
        "\n",
        "      if i < half_point and j < len(array) - half_point:\n",
        "\n",
        "        if sorted_first_half[i] < sorted_second_half[j]:\n",
        "\n",
        "          new_array.append(sorted_first_half[i])\n",
        "          i+=1\n",
        "\n",
        "        else:\n",
        "\n",
        "          new_array.append(sorted_second_half[j])\n",
        "          j+=1\n",
        "\n",
        "      elif i >= half_point and j < len(array) - half_point:\n",
        "          new_array.append(sorted_second_half[j])\n",
        "          j+=1\n",
        "\n",
        "      elif i < half_point and j >= len(array) - half_point:\n",
        "          new_array.append(sorted_first_half[i])\n",
        "          i+=1\n",
        " \n",
        "  return new_array       \n",
        "\n",
        "\n"
      ],
      "execution_count": null,
      "outputs": []
    },
    {
      "cell_type": "code",
      "metadata": {
        "colab": {
          "base_uri": "https://localhost:8080/"
        },
        "id": "eJn4BU2ro_68",
        "outputId": "7c1ddb09-2f1a-4395-ecb0-18993db7bf3c"
      },
      "source": [
        "arr = [1,2,3,5,9,4,8,0]\n",
        "merge_sort(arr)"
      ],
      "execution_count": null,
      "outputs": [
        {
          "output_type": "execute_result",
          "data": {
            "text/plain": [
              "[0, 1, 2, 3, 4, 5, 8, 9]"
            ]
          },
          "metadata": {
            "tags": []
          },
          "execution_count": 51
        }
      ]
    },
    {
      "cell_type": "code",
      "metadata": {
        "colab": {
          "base_uri": "https://localhost:8080/"
        },
        "id": "xSLMhJeCqaFb",
        "outputId": "fcf996e3-7cb0-4a39-b6a5-04a0a6f7e167"
      },
      "source": [
        "a = [1,2,3,0,2,0,4,6,1,2,5]\n",
        "merge_sort(a)"
      ],
      "execution_count": null,
      "outputs": [
        {
          "output_type": "execute_result",
          "data": {
            "text/plain": [
              "[0, 0, 1, 1, 2, 2, 2, 3, 4, 5, 6]"
            ]
          },
          "metadata": {
            "tags": []
          },
          "execution_count": 49
        }
      ]
    },
    {
      "cell_type": "markdown",
      "metadata": {
        "id": "BdzyB3RVloOk"
      },
      "source": [
        "## Counting Inversions"
      ]
    },
    {
      "cell_type": "code",
      "metadata": {
        "id": "455XBomnlrFH"
      },
      "source": [
        "# Inversion for lists\n",
        "\n",
        "def count_and_sort(array):\n",
        "\n",
        "  if len(array) == 1 or len(array) == 0:\n",
        "    return array, 0\n",
        "\n",
        "  else:\n",
        "\n",
        "    half_point = int(len(array)/2)\n",
        "\n",
        "    first_half = array[:half_point]\n",
        "    second_half = array[half_point:]\n",
        "\n",
        "    sorted_first_half, left_inv_count = count_and_sort(first_half)\n",
        "    sorted_second_half, right_inv_count = count_and_sort(second_half)\n",
        "\n",
        "    #Count split inversions\n",
        "\n",
        "    i = 0\n",
        "    j = 0\n",
        "\n",
        "    split_inv_count = 0\n",
        "\n",
        "    new_array = []\n",
        "\n",
        "    #Uncomment for debugging\n",
        "    #print(\"first half:\", first_half)\n",
        "    #print(\"sorted first half:\", sorted_first_half)\n",
        "    #print(\"second half:\", second_half)\n",
        "    #print(\"sorted second half:\", sorted_second_half)\n",
        "\n",
        "\n",
        "    for k in range(len(array)):\n",
        "\n",
        "      if i < half_point and j < len(array) - half_point:\n",
        "\n",
        "        if sorted_first_half[i] < sorted_second_half[j]:\n",
        "\n",
        "          new_array.append(sorted_first_half[i])\n",
        "          i+=1\n",
        "\n",
        "        else:\n",
        "\n",
        "          new_array.append(sorted_second_half[j])\n",
        "          split_inv_count += (half_point - i)\n",
        "          j+=1\n",
        "\n",
        "      elif i >= half_point and j < len(array) - half_point:\n",
        "          new_array.append(sorted_second_half[j])\n",
        "          j+=1\n",
        "\n",
        "      elif i < half_point and j >= len(array) - half_point:\n",
        "          new_array.append(sorted_first_half[i])\n",
        "          i+=1\n",
        "    \n",
        "    #Uncomment to debug\n",
        "    #print(\"left_inv_count:\", left_inv_count)\n",
        "    #print(\"right_inv_count:\", right_inv_count)\n",
        "    #print(\"split_inv_count:\", split_inv_count)      \n",
        " \n",
        "  return new_array, left_inv_count + right_inv_count + split_inv_count"
      ],
      "execution_count": null,
      "outputs": []
    },
    {
      "cell_type": "code",
      "metadata": {
        "colab": {
          "base_uri": "https://localhost:8080/"
        },
        "id": "LgN4-4ZYp6Hk",
        "outputId": "e4dc1985-953f-42c6-de51-67dfb5c4fa41"
      },
      "source": [
        "a = [1,3,5,2,4,6]\n",
        "_, count = count_and_sort(a)\n",
        "count"
      ],
      "execution_count": null,
      "outputs": [
        {
          "output_type": "execute_result",
          "data": {
            "text/plain": [
              "3"
            ]
          },
          "metadata": {
            "tags": []
          },
          "execution_count": 49
        }
      ]
    },
    {
      "cell_type": "code",
      "metadata": {
        "colab": {
          "base_uri": "https://localhost:8080/"
        },
        "id": "se5lpHRRqwbK",
        "outputId": "0289fe69-5ade-48ae-bb5a-127152b9e8ad"
      },
      "source": [
        "from google.colab import drive\n",
        "drive.mount('gdrive')"
      ],
      "execution_count": null,
      "outputs": [
        {
          "output_type": "stream",
          "text": [
            "Mounted at gdrive\n"
          ],
          "name": "stdout"
        }
      ]
    },
    {
      "cell_type": "code",
      "metadata": {
        "colab": {
          "base_uri": "https://localhost:8080/"
        },
        "id": "83orEAF6rgBi",
        "outputId": "3d2561b1-e27d-4aa0-c342-346aaf427e81"
      },
      "source": [
        "! ls gdrive/MyDrive/Colab_Notebooks/Algorithms_Specialization/C1-Divide_And_Conquer/"
      ],
      "execution_count": null,
      "outputs": [
        {
          "output_type": "stream",
          "text": [
            "Array.txt  Programs.ipynb\n"
          ],
          "name": "stdout"
        }
      ]
    },
    {
      "cell_type": "code",
      "metadata": {
        "colab": {
          "base_uri": "https://localhost:8080/"
        },
        "id": "TZUUgbQLuVh9",
        "outputId": "c27cb8b6-7899-4426-cfae-4c52ba2b03e6"
      },
      "source": [
        "% cd gdrive/MyDrive/Colab_Notebooks/Algorithms_Specialization/C1-Divide_And_Conquer/"
      ],
      "execution_count": null,
      "outputs": [
        {
          "output_type": "stream",
          "text": [
            "/content/gdrive/MyDrive/Colab_Notebooks/Algorithms_Specialization/C1-Divide_And_Conquer\n"
          ],
          "name": "stdout"
        }
      ]
    },
    {
      "cell_type": "code",
      "metadata": {
        "id": "6gbf1mpmvtos"
      },
      "source": [
        "with open(\"Array.txt\") as f:\n",
        "    mylist = f.read().splitlines()"
      ],
      "execution_count": null,
      "outputs": []
    },
    {
      "cell_type": "code",
      "metadata": {
        "id": "tgBjv4n6whpy"
      },
      "source": [
        "for i, element in enumerate(mylist):\n",
        "  mylist[i] = int(mylist[i])"
      ],
      "execution_count": null,
      "outputs": []
    },
    {
      "cell_type": "code",
      "metadata": {
        "colab": {
          "base_uri": "https://localhost:8080/"
        },
        "id": "aWH25RipxbL8",
        "outputId": "7d7a66e7-67ac-4ec3-d895-aa2eae3778ae"
      },
      "source": [
        "_, count = count_and_sort(mylist)\n",
        "count"
      ],
      "execution_count": null,
      "outputs": [
        {
          "output_type": "execute_result",
          "data": {
            "text/plain": [
              "2407905288"
            ]
          },
          "metadata": {
            "tags": []
          },
          "execution_count": 50
        }
      ]
    },
    {
      "cell_type": "code",
      "metadata": {
        "colab": {
          "base_uri": "https://localhost:8080/"
        },
        "id": "Bo3s1bLdyNxw",
        "outputId": "40ae4350-c7f6-4681-e1e4-839be984d235"
      },
      "source": [
        "a = [8,4,2,1]\n",
        "_, count = count_and_sort(a)\n",
        "count"
      ],
      "execution_count": null,
      "outputs": [
        {
          "output_type": "execute_result",
          "data": {
            "text/plain": [
              "6"
            ]
          },
          "metadata": {
            "tags": []
          },
          "execution_count": 51
        }
      ]
    },
    {
      "cell_type": "markdown",
      "metadata": {
        "id": "iZNMMT_tH-Wv"
      },
      "source": [
        "## Quick Sort"
      ]
    },
    {
      "cell_type": "code",
      "metadata": {
        "id": "LDe6Uib3IA2U"
      },
      "source": [
        "def quick_sort(array):\n",
        "\n",
        "  if len(array) == 1 or len(array) == 0:\n",
        "    return array\n",
        "\n",
        "  else: \n",
        "    p = 0\n",
        "    pivot = array[p]\n",
        "    i = 1\n",
        "    temp = 0\n",
        "\n",
        "    for j in range(i, len(array)):\n",
        "      if array[j] < pivot:\n",
        "        temp = array[i]\n",
        "        array[i] = array[j]\n",
        "        array[j] = temp\n",
        "        i+=1   \n",
        "    temp = array[p]\n",
        "    array[p] = array[i-1]\n",
        "    array[i-1] = temp\n",
        "\n",
        "    return quick_sort(array[:i-1]) + [pivot] + quick_sort(array[i:])\n",
        "\n"
      ],
      "execution_count": null,
      "outputs": []
    },
    {
      "cell_type": "code",
      "metadata": {
        "colab": {
          "base_uri": "https://localhost:8080/"
        },
        "id": "v_q2XLDSUvUJ",
        "outputId": "a79de538-2741-4ee4-d033-bcafd67c5793"
      },
      "source": [
        "arr = [3,8,2,5,1,4,7,6]\n",
        "quick_sort(arr)"
      ],
      "execution_count": null,
      "outputs": [
        {
          "output_type": "execute_result",
          "data": {
            "text/plain": [
              "[1, 2, 3, 4, 5, 6, 7, 8]"
            ]
          },
          "metadata": {
            "tags": []
          },
          "execution_count": 56
        }
      ]
    },
    {
      "cell_type": "code",
      "metadata": {
        "colab": {
          "base_uri": "https://localhost:8080/"
        },
        "id": "EQSCpT1sU1m5",
        "outputId": "7e17193c-db6b-480f-820e-ac49bb83ab69"
      },
      "source": [
        "a = [1,2,3,0,2,0,4,6,1,2,5]\n",
        "quick_sort(a)"
      ],
      "execution_count": null,
      "outputs": [
        {
          "output_type": "execute_result",
          "data": {
            "text/plain": [
              "[0, 0, 1, 1, 2, 2, 2, 3, 4, 5, 6]"
            ]
          },
          "metadata": {
            "tags": []
          },
          "execution_count": 57
        }
      ]
    },
    {
      "cell_type": "code",
      "metadata": {
        "id": "FNquqB3Qaeo9"
      },
      "source": [
        ""
      ],
      "execution_count": null,
      "outputs": []
    },
    {
      "cell_type": "markdown",
      "metadata": {
        "id": "QQyJB5QNUrLg"
      },
      "source": [
        "### Qucik sort comparisons count"
      ]
    },
    {
      "cell_type": "markdown",
      "metadata": {
        "id": "YjF6N5qwcriB"
      },
      "source": [
        "First element as pivot"
      ]
    },
    {
      "cell_type": "code",
      "metadata": {
        "id": "nA1AdeutUvK2"
      },
      "source": [
        "def quick_sort_count(array, count = 0):\n",
        "\n",
        "  if len(array) == 1 or len(array) == 0:\n",
        "    return array, 0\n",
        "\n",
        "  else: \n",
        "    p = 0\n",
        "    pivot = array[p]\n",
        "    i = 1\n",
        "    temp = 0\n",
        "\n",
        "    for j in range(i, len(array)):\n",
        "      if array[j] < pivot:\n",
        "        temp = array[i]\n",
        "        array[i] = array[j]\n",
        "        array[j] = temp\n",
        "        i+=1   \n",
        "    temp = array[p]\n",
        "    array[p] = array[i-1]\n",
        "    array[i-1] = temp\n",
        "    \n",
        "    #print(len(array)-1)\n",
        "\n",
        "    count = len(array) - 1\n",
        "\n",
        "    first_part, x = quick_sort_count(array[:i-1])\n",
        "    second_part, y = quick_sort_count(array[i:])\n",
        "\n",
        "    return first_part + [pivot] + second_part, count + x + y"
      ],
      "execution_count": null,
      "outputs": []
    },
    {
      "cell_type": "code",
      "metadata": {
        "colab": {
          "base_uri": "https://localhost:8080/"
        },
        "id": "f5I1zOfgXV1u",
        "outputId": "2e453347-af4f-4ce9-94d6-a021ed33cdb8"
      },
      "source": [
        "from google.colab import drive\n",
        "drive.mount('gdrive')"
      ],
      "execution_count": null,
      "outputs": [
        {
          "output_type": "stream",
          "text": [
            "Mounted at gdrive\n"
          ],
          "name": "stdout"
        }
      ]
    },
    {
      "cell_type": "code",
      "metadata": {
        "colab": {
          "base_uri": "https://localhost:8080/"
        },
        "id": "_Q75Zf_Taxzf",
        "outputId": "ece46437-ead0-4101-f0af-36e74a6e1280"
      },
      "source": [
        "! ls gdrive/MyDrive/Colab_Notebooks/Algorithms_Specialization/C1-Divide_And_Conquer/"
      ],
      "execution_count": null,
      "outputs": [
        {
          "output_type": "stream",
          "text": [
            "Array.txt  Programs.ipynb  QuickSort.txt\n"
          ],
          "name": "stdout"
        }
      ]
    },
    {
      "cell_type": "code",
      "metadata": {
        "colab": {
          "base_uri": "https://localhost:8080/"
        },
        "id": "2WXjomnRa57-",
        "outputId": "35b07301-60fc-4aff-cf11-2d2182d3ef92"
      },
      "source": [
        "% cd gdrive/MyDrive/Colab_Notebooks/Algorithms_Specialization/C1-Divide_And_Conquer/"
      ],
      "execution_count": null,
      "outputs": [
        {
          "output_type": "stream",
          "text": [
            "/content/gdrive/MyDrive/Colab_Notebooks/Algorithms_Specialization/C1-Divide_And_Conquer\n"
          ],
          "name": "stdout"
        }
      ]
    },
    {
      "cell_type": "code",
      "metadata": {
        "id": "_DWU7rAqa9fB"
      },
      "source": [
        "with open(\"QuickSort.txt\") as f:\n",
        "    mylist_1 = f.read().splitlines()"
      ],
      "execution_count": null,
      "outputs": []
    },
    {
      "cell_type": "code",
      "metadata": {
        "id": "cLqRJKCObGoQ"
      },
      "source": [
        "for i, element in enumerate(mylist_1):\n",
        "  mylist_1[i] = int(mylist_1[i])"
      ],
      "execution_count": null,
      "outputs": []
    },
    {
      "cell_type": "code",
      "metadata": {
        "id": "bYIzRel2bNoH"
      },
      "source": [
        "a, c = quick_sort_count(mylist_1)"
      ],
      "execution_count": null,
      "outputs": []
    },
    {
      "cell_type": "code",
      "metadata": {
        "colab": {
          "base_uri": "https://localhost:8080/"
        },
        "id": "DT45ImHgbWi9",
        "outputId": "a8b06585-5223-43d9-8433-9fded1160ba9"
      },
      "source": [
        "c"
      ],
      "execution_count": null,
      "outputs": [
        {
          "output_type": "execute_result",
          "data": {
            "text/plain": [
              "162085"
            ]
          },
          "metadata": {
            "tags": []
          },
          "execution_count": 11
        }
      ]
    },
    {
      "cell_type": "markdown",
      "metadata": {
        "id": "eyZKSPLVc3gP"
      },
      "source": [
        "Last element as pivot"
      ]
    },
    {
      "cell_type": "code",
      "metadata": {
        "id": "Vxy5rpJzc5pb"
      },
      "source": [
        "def quick_sort_count(array, count = 0):\n",
        "\n",
        "  if len(array) == 1 or len(array) == 0:\n",
        "    return array, 0\n",
        "\n",
        "  else:\n",
        "\n",
        "    temp = 0\n",
        "\n",
        "    temp = array[0]\n",
        "    array[0] = array[-1]\n",
        "    array[-1] = temp\n",
        "\n",
        "    p = 0\n",
        "    pivot = array[p]\n",
        "\n",
        "    i = 1\n",
        "\n",
        "    for j in range(i, len(array)):\n",
        "      if array[j] < pivot:\n",
        "        temp = array[i]\n",
        "        array[i] = array[j]\n",
        "        array[j] = temp\n",
        "        i+=1   \n",
        "    temp = array[p]\n",
        "    array[p] = array[i-1]\n",
        "    array[i-1] = temp\n",
        "    \n",
        "    #print(len(array) - 1)\n",
        "\n",
        "    count += len(array) - 1\n",
        "\n",
        "    first_part, x = quick_sort_count(array[:i-1])\n",
        "    second_part, y = quick_sort_count(array[i:])\n",
        "\n",
        "    return first_part + [pivot] + second_part, count + x + y"
      ],
      "execution_count": null,
      "outputs": []
    },
    {
      "cell_type": "code",
      "metadata": {
        "id": "CiTptZknvRQ6"
      },
      "source": [
        "with open(\"QuickSort.txt\") as f:\n",
        "    mylist_1 = f.read().splitlines()"
      ],
      "execution_count": null,
      "outputs": []
    },
    {
      "cell_type": "code",
      "metadata": {
        "id": "byqbYfsNvU-m"
      },
      "source": [
        "for i, element in enumerate(mylist_1):\n",
        "  mylist_1[i] = int(mylist_1[i])"
      ],
      "execution_count": null,
      "outputs": []
    },
    {
      "cell_type": "code",
      "metadata": {
        "id": "rt6gCaykdxSJ"
      },
      "source": [
        "array, count = quick_sort_count(mylist_1)"
      ],
      "execution_count": null,
      "outputs": []
    },
    {
      "cell_type": "code",
      "metadata": {
        "colab": {
          "base_uri": "https://localhost:8080/"
        },
        "id": "K8showzgd04o",
        "outputId": "408e6186-f9e1-4819-fa2c-0b0f2c1013cb"
      },
      "source": [
        "count"
      ],
      "execution_count": null,
      "outputs": [
        {
          "output_type": "execute_result",
          "data": {
            "text/plain": [
              "164123"
            ]
          },
          "metadata": {
            "tags": []
          },
          "execution_count": 21
        }
      ]
    },
    {
      "cell_type": "markdown",
      "metadata": {
        "id": "S8M59Y-eebvG"
      },
      "source": [
        "Median as pivot"
      ]
    },
    {
      "cell_type": "code",
      "metadata": {
        "id": "y3zztKoLefDp"
      },
      "source": [
        "def quick_sort_count(array, count = 0):\n",
        "\n",
        "  if len(array) == 1 or len(array) == 0:\n",
        "    return array, 0\n",
        "\n",
        "  else:\n",
        "\n",
        "    first = array[0]\n",
        "    middle = array[int((len(array)-1)/2)]\n",
        "    last = array[-1]\n",
        "\n",
        "    new_array = [first, middle, last]\n",
        "\n",
        "    new_array.sort()\n",
        "\n",
        "    temp = array[0]\n",
        "\n",
        "    if new_array[1] == middle:\n",
        "      array[0] = array[int((len(array)-1)/2)]\n",
        "      array[int((len(array)-1)/2)] = temp\n",
        "\n",
        "    if new_array[1] == last:\n",
        "      array[0] = array[-1]\n",
        "      array[-1] = temp\n",
        "\n",
        "    p = 0\n",
        "    pivot = array[p]\n",
        "\n",
        "    i = 1\n",
        "\n",
        "    for j in range(i, len(array)):\n",
        "      if array[j] < pivot:\n",
        "        temp = array[i]\n",
        "        array[i] = array[j]\n",
        "        array[j] = temp\n",
        "        i+=1   \n",
        "    temp = array[p]\n",
        "    array[p] = array[i-1]\n",
        "    array[i-1] = temp\n",
        "    \n",
        "    #print(len(array) - 1)\n",
        "\n",
        "    count += len(array) - 1\n",
        "\n",
        "    first_part, x = quick_sort_count(array[:i-1])\n",
        "    second_part, y = quick_sort_count(array[i:])\n",
        "\n",
        "    return first_part + [pivot] + second_part, count + x + y"
      ],
      "execution_count": null,
      "outputs": []
    },
    {
      "cell_type": "code",
      "metadata": {
        "id": "z6PzcxBitUZK"
      },
      "source": [
        "with open(\"QuickSort.txt\") as f:\n",
        "    mylist_1 = f.read().splitlines()"
      ],
      "execution_count": null,
      "outputs": []
    },
    {
      "cell_type": "code",
      "metadata": {
        "id": "pPnBz4r4xmvX"
      },
      "source": [
        "for i, element in enumerate(mylist_1):\n",
        "  mylist_1[i] = int(mylist_1[i])"
      ],
      "execution_count": null,
      "outputs": []
    },
    {
      "cell_type": "code",
      "metadata": {
        "id": "7lq0yLLUzoJa"
      },
      "source": [
        "array, count = quick_sort_count(mylist_1)"
      ],
      "execution_count": null,
      "outputs": []
    },
    {
      "cell_type": "code",
      "metadata": {
        "colab": {
          "base_uri": "https://localhost:8080/"
        },
        "id": "WKmwqTtMzrQe",
        "outputId": "bdeb6732-463c-41db-9cc9-77c6f3e6f4d6"
      },
      "source": [
        "count"
      ],
      "execution_count": null,
      "outputs": [
        {
          "output_type": "execute_result",
          "data": {
            "text/plain": [
              "138382"
            ]
          },
          "metadata": {
            "tags": []
          },
          "execution_count": 31
        }
      ]
    },
    {
      "cell_type": "markdown",
      "metadata": {
        "id": "wHz3nccsECB8"
      },
      "source": [
        "## Selection Problem"
      ]
    },
    {
      "cell_type": "code",
      "metadata": {
        "id": "S5ZwUNGFEErE"
      },
      "source": [
        ""
      ],
      "execution_count": null,
      "outputs": []
    },
    {
      "cell_type": "markdown",
      "metadata": {
        "id": "iLB3osi-EFTf"
      },
      "source": [
        "## Breadth First Search\n",
        "Queue in Python"
      ]
    },
    {
      "cell_type": "code",
      "metadata": {
        "colab": {
          "base_uri": "https://localhost:8080/"
        },
        "id": "rEj6ejsfESjs",
        "outputId": "ccfe51de-70b2-40c7-f386-f9c93fddc0e8"
      },
      "source": [
        "q = []\n",
        "q.append('a')\n",
        "q.append('b')\n",
        "q.append('c')\n",
        "\n",
        "print(q)\n",
        "\n",
        "print(q.pop(0))\n",
        "print(q)\n",
        "print(q.pop(0))\n",
        "print(q)\n",
        "print(q.pop(0))\n",
        "print(q)\n"
      ],
      "execution_count": null,
      "outputs": [
        {
          "output_type": "stream",
          "text": [
            "['a', 'b', 'c']\n",
            "a\n",
            "['b', 'c']\n",
            "b\n",
            "['c']\n",
            "c\n",
            "[]\n"
          ],
          "name": "stdout"
        }
      ]
    },
    {
      "cell_type": "markdown",
      "metadata": {
        "id": "AdTtYVQNIFY9"
      },
      "source": [
        "BFS Implementation"
      ]
    },
    {
      "cell_type": "code",
      "metadata": {
        "colab": {
          "base_uri": "https://localhost:8080/"
        },
        "id": "3p_rjTV7G_bZ",
        "outputId": "7ddec1b5-2276-4642-9aca-878e88366106"
      },
      "source": [
        "graph = {\n",
        "    'A': ['B', 'C', \"D\"],\n",
        "    'B': ['E', \"F\"],\n",
        "    'C': ['G', \"I\"],\n",
        "    'D': [\"I\"],\n",
        "    'E': [],\n",
        "    \"F\": [],\n",
        "    'G': [],\n",
        "    \"I\": []\n",
        "}\n",
        " \n",
        "def bfs(graph, start_vertex):\n",
        "\n",
        "    visit_complete = []\n",
        "    visit_complete.append(start_vertex)\n",
        "\n",
        "    queue = []\n",
        "    queue.append(start_vertex)\n",
        " \n",
        "    while queue:\n",
        "        s = queue.pop(0)\n",
        "        print(s)\n",
        " \n",
        "        for node in graph[s]:\n",
        "            if node not in visit_complete:\n",
        "                visit_complete.append(node)\n",
        "                queue.append(node)\n",
        " \n",
        "bfs(graph, 'A')"
      ],
      "execution_count": null,
      "outputs": [
        {
          "output_type": "stream",
          "text": [
            "A\n",
            "B\n",
            "C\n",
            "D\n",
            "E\n",
            "F\n",
            "G\n",
            "I\n"
          ],
          "name": "stdout"
        }
      ]
    },
    {
      "cell_type": "markdown",
      "metadata": {
        "id": "WQ5KloE6SL-C"
      },
      "source": [
        "# Depth First Search"
      ]
    },
    {
      "cell_type": "code",
      "metadata": {
        "colab": {
          "base_uri": "https://localhost:8080/"
        },
        "id": "9cnArjViSNkk",
        "outputId": "1fb3b977-3fc4-48be-db57-fec5fdc3df33"
      },
      "source": [
        "graph = {\n",
        "    'A': ['B', 'C', \"D\"],\n",
        "    'B': ['E', \"F\"],\n",
        "    'C': ['G', \"I\"],\n",
        "    'D': [\"I\"],\n",
        "    'E': [],\n",
        "    \"F\": [],\n",
        "    'G': [],\n",
        "    \"I\": []\n",
        "}\n",
        " \n",
        "visit_complete = []\n",
        "\n",
        "def dfs(graph, start_vertex):\n",
        "\n",
        "    visit_complete.append(start_vertex)\n",
        "    print(start_vertex)\n",
        " \n",
        "    for node in graph[start_vertex]:\n",
        "            if node not in visit_complete:\n",
        "                visit_complete.append(node)\n",
        "                dfs(graph, node)\n",
        " \n",
        "dfs(graph, 'A')"
      ],
      "execution_count": null,
      "outputs": [
        {
          "output_type": "stream",
          "text": [
            "A\n",
            "B\n",
            "E\n",
            "F\n",
            "C\n",
            "G\n",
            "I\n",
            "D\n"
          ],
          "name": "stdout"
        }
      ]
    },
    {
      "cell_type": "code",
      "metadata": {
        "id": "EId1PCeLS-XQ"
      },
      "source": [
        ""
      ],
      "execution_count": null,
      "outputs": []
    },
    {
      "cell_type": "code",
      "metadata": {
        "id": "nJfxjaj0u6eb"
      },
      "source": [
        "grid = [[0,0,1,0,0,0,0,1,0,0,0,0,0],\n",
        "        [0,0,0,0,0,0,0,1,1,1,0,0,0],\n",
        "        [0,1,1,0,1,0,0,0,0,0,0,0,0],\n",
        "        [0,1,0,0,1,1,0,0,1,0,1,0,0],\n",
        "        [0,1,0,0,1,1,0,0,1,1,1,0,0],\n",
        "        [0,0,0,0,0,0,0,0,0,0,1,0,0],\n",
        "        [0,0,0,0,0,0,0,1,1,1,0,0,0],\n",
        "        [0,0,0,0,0,0,0,1,1,0,0,0,0]]\n",
        "\n",
        "def maxAreaOfIsland(grid):\n",
        "        \n",
        "  if not grid:\n",
        "    return 0\n",
        "\n",
        "  max_area = 0\n",
        "  current_area = 0\n",
        "  for i in range(len(grid)):\n",
        "    for j in range(len(grid[0])):\n",
        "      if grid[i][j] == 1:\n",
        "        current_area = dfs(grid, i, j)\n",
        "        if current_area > max_area:\n",
        "          max_area = current_area\n",
        "  \n",
        "  return max_area\n",
        "\n",
        "def dfs(grid, i, j):\n",
        "  if i<0 or j<0 or i>=len(grid) or j>=len(grid[0]) or grid[i][j] != 1:\n",
        "    return 0\n",
        "  grid[i][j] = '#'\n",
        "  x = dfs(grid, i+1, j)\n",
        "  y = dfs(grid, i-1, j)\n",
        "  w = dfs(grid, i, j+1)\n",
        "  z = dfs(grid, i, j-1)\n",
        "        \n",
        "  return 1 + x + y + w + z"
      ],
      "execution_count": null,
      "outputs": []
    },
    {
      "cell_type": "code",
      "metadata": {
        "colab": {
          "base_uri": "https://localhost:8080/"
        },
        "id": "XrrYX3C_vHOs",
        "outputId": "ce7ab7a1-db67-4e68-f91d-4fc43ed9e63b"
      },
      "source": [
        "print(maxAreaOfIsland(grid))"
      ],
      "execution_count": null,
      "outputs": [
        {
          "output_type": "stream",
          "text": [
            "6\n"
          ],
          "name": "stdout"
        }
      ]
    },
    {
      "cell_type": "code",
      "metadata": {
        "colab": {
          "base_uri": "https://localhost:8080/"
        },
        "id": "sPRudbY4vbA6",
        "outputId": "002da25f-32c9-4e7c-9b2c-b3d71c7d6eb2"
      },
      "source": [
        "print(maxAreaOfIsland([[0,0,0,0,0,0]]))"
      ],
      "execution_count": null,
      "outputs": [
        {
          "output_type": "stream",
          "text": [
            "0\n"
          ],
          "name": "stdout"
        }
      ]
    },
    {
      "cell_type": "code",
      "metadata": {
        "colab": {
          "base_uri": "https://localhost:8080/"
        },
        "id": "68I7fzTkS8tv",
        "outputId": "5f0d710c-5198-47c7-f5e8-1eabb444e6d4"
      },
      "source": [
        "g = [[0,0,0,0,0,0]]\n",
        "print(len(g))\n",
        "print(len(g[0]))"
      ],
      "execution_count": null,
      "outputs": [
        {
          "output_type": "stream",
          "text": [
            "1\n",
            "6\n"
          ],
          "name": "stdout"
        }
      ]
    },
    {
      "cell_type": "code",
      "metadata": {
        "id": "MzyRsouSTGLX"
      },
      "source": [
        ""
      ],
      "execution_count": null,
      "outputs": []
    },
    {
      "cell_type": "code",
      "metadata": {
        "id": "tf6qmabSDTKb"
      },
      "source": [
        ""
      ],
      "execution_count": null,
      "outputs": []
    },
    {
      "cell_type": "markdown",
      "metadata": {
        "id": "0o5EIZJwDUAi"
      },
      "source": [
        "# Heap Data Structure"
      ]
    },
    {
      "cell_type": "code",
      "metadata": {
        "colab": {
          "base_uri": "https://localhost:8080/"
        },
        "id": "aLxs-n7fDonS",
        "outputId": "e9e7ed13-8d71-477c-c7cb-25eccebfb445"
      },
      "source": [
        "import heapq\n",
        "\n",
        "H = [21,1,45,78,3,5]\n",
        "\n",
        "heapq.heapify(H)\n",
        "print(H)\n",
        "\n",
        "heapq.heappush(H, 4)\n",
        "print(H)\n",
        "\n",
        "heapq.heappop(H)\n",
        "print(H)"
      ],
      "execution_count": null,
      "outputs": [
        {
          "output_type": "stream",
          "text": [
            "[1, 3, 5, 78, 21, 45]\n",
            "[1, 3, 4, 78, 21, 45, 5]\n",
            "[3, 5, 4, 78, 21, 45]\n"
          ],
          "name": "stdout"
        }
      ]
    },
    {
      "cell_type": "code",
      "metadata": {
        "id": "wZhzdw3wbo47",
        "colab": {
          "base_uri": "https://localhost:8080/"
        },
        "outputId": "4d9a2e06-963b-43f6-e383-07beb2474a47"
      },
      "source": [
        "arr = [10]*4\n",
        "arr"
      ],
      "execution_count": null,
      "outputs": [
        {
          "output_type": "execute_result",
          "data": {
            "text/plain": [
              "[10, 10, 10, 10]"
            ]
          },
          "metadata": {
            "tags": []
          },
          "execution_count": 1
        }
      ]
    },
    {
      "cell_type": "code",
      "metadata": {
        "id": "j23Sp2PhWYih",
        "colab": {
          "base_uri": "https://localhost:8080/"
        },
        "outputId": "9ddfaa3e-6ef7-41ca-9c21-341a1d18ac18"
      },
      "source": [
        "s = 'abcd'\n",
        "\n",
        "for i,v in enumerate(s):\n",
        "  print(i,v)"
      ],
      "execution_count": null,
      "outputs": [
        {
          "output_type": "stream",
          "text": [
            "0 a\n",
            "1 b\n",
            "2 c\n",
            "3 d\n"
          ],
          "name": "stdout"
        }
      ]
    },
    {
      "cell_type": "code",
      "metadata": {
        "colab": {
          "base_uri": "https://localhost:8080/",
          "height": 35
        },
        "id": "1F6Ev7waUTNs",
        "outputId": "30d956e7-e409-4ee2-f9d4-34390cac7f93"
      },
      "source": [
        "s = \"abc\"\n",
        "s[:3]+s[4:]"
      ],
      "execution_count": null,
      "outputs": [
        {
          "output_type": "execute_result",
          "data": {
            "application/vnd.google.colaboratory.intrinsic+json": {
              "type": "string"
            },
            "text/plain": [
              "'abc'"
            ]
          },
          "metadata": {
            "tags": []
          },
          "execution_count": 11
        }
      ]
    },
    {
      "cell_type": "code",
      "metadata": {
        "colab": {
          "base_uri": "https://localhost:8080/"
        },
        "id": "u0eQyxcFqN69",
        "outputId": "40215664-1f61-496b-9321-f71a9e2b8b5e"
      },
      "source": [
        "w = set([\"abc\",\"def\",\"ghi\"])\n",
        "print(w)\n",
        "\n",
        "if \"abc\" in w.difference([\"abc\"]):\n",
        "  print(\"present\")\n",
        "else:\n",
        "  print(\"absent\")  "
      ],
      "execution_count": null,
      "outputs": [
        {
          "output_type": "stream",
          "text": [
            "{'abc', 'def', 'ghi'}\n",
            "absent\n"
          ],
          "name": "stdout"
        }
      ]
    },
    {
      "cell_type": "code",
      "metadata": {
        "id": "qpLaSbCh6BCt"
      },
      "source": [
        ""
      ],
      "execution_count": null,
      "outputs": []
    }
  ]
}