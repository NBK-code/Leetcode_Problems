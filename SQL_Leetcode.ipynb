{
  "nbformat": 4,
  "nbformat_minor": 0,
  "metadata": {
    "colab": {
      "name": "SQL_Leetcode.ipynb",
      "provenance": [],
      "collapsed_sections": [],
      "authorship_tag": "ABX9TyOb5JDOobtljOxGmZ63n2wh",
      "include_colab_link": true
    },
    "kernelspec": {
      "name": "python3",
      "display_name": "Python 3"
    },
    "language_info": {
      "name": "python"
    }
  },
  "cells": [
    {
      "cell_type": "markdown",
      "metadata": {
        "id": "view-in-github",
        "colab_type": "text"
      },
      "source": [
        "<a href=\"https://colab.research.google.com/github/NBK-code/Leetcode_Problems/blob/main/SQL_Leetcode.ipynb\" target=\"_parent\"><img src=\"https://colab.research.google.com/assets/colab-badge.svg\" alt=\"Open In Colab\"/></a>"
      ]
    },
    {
      "cell_type": "markdown",
      "metadata": {
        "id": "2TwGaHYjdscD"
      },
      "source": [
        "595. Big Countries"
      ]
    },
    {
      "cell_type": "code",
      "metadata": {
        "id": "rtTXQN1idq3M"
      },
      "source": [
        "SELECT name, population, area\n",
        "FROM World\n",
        "WHERE area > 3000000 OR population > 25000000"
      ],
      "execution_count": null,
      "outputs": []
    },
    {
      "cell_type": "markdown",
      "metadata": {
        "id": "VBTUSb-l7kSd"
      },
      "source": [
        "175. Combine two tables"
      ]
    },
    {
      "cell_type": "code",
      "metadata": {
        "id": "BkzACbqK7cnO"
      },
      "source": [
        "SELECT p.firstName, p.lastName, a.city, a.state\n",
        "FROM Person p\n",
        "LEFT JOIN Address a\n",
        "ON p.personId = a.personID"
      ],
      "execution_count": null,
      "outputs": []
    },
    {
      "cell_type": "markdown",
      "metadata": {
        "id": "U9g6e76cAc15"
      },
      "source": [
        "181. Employees Earning More Than Their Managers"
      ]
    },
    {
      "cell_type": "code",
      "metadata": {
        "id": "hYkvawm9AdKY"
      },
      "source": [
        "SELECT a.name AS Employee\n",
        "FROM Employee a \n",
        "JOIN Employee b\n",
        "ON a.managerId = b.id\n",
        "WHERE a.salary > b.salary"
      ],
      "execution_count": null,
      "outputs": []
    },
    {
      "cell_type": "markdown",
      "metadata": {
        "id": "FnubkOKuEPDJ"
      },
      "source": [
        "182. Duplicate Emails"
      ]
    },
    {
      "cell_type": "code",
      "metadata": {
        "id": "vT1C8SftESay"
      },
      "source": [
        "SELECT DISTINCT a.email AS Email\n",
        "FROM Person a\n",
        "JOIN Person b\n",
        "ON a.email = b.email AND a.id <> b.id"
      ],
      "execution_count": null,
      "outputs": []
    },
    {
      "cell_type": "markdown",
      "metadata": {
        "id": "eh-tilWUBixh"
      },
      "source": [
        "183. Customers Who Never Order"
      ]
    },
    {
      "cell_type": "code",
      "metadata": {
        "id": "ZThltiKyBiDu"
      },
      "source": [
        "SELECT a.name AS Customers\n",
        "FROM Customers a\n",
        "LEFT JOIN Orders b\n",
        "ON a.id = b.customerId\n",
        "WHERE b.id IS NULL"
      ],
      "execution_count": null,
      "outputs": []
    },
    {
      "cell_type": "markdown",
      "metadata": {
        "id": "6u7pulfNWPo2"
      },
      "source": [
        "196. Delete Duplicate Emails"
      ]
    },
    {
      "cell_type": "code",
      "metadata": {
        "id": "BvqaVbobWQwI"
      },
      "source": [
        "DELETE b\n",
        "FROM Person a\n",
        "JOIN Person b\n",
        "ON a.email = b.email\n",
        "AND a.Id < b.Id"
      ],
      "execution_count": null,
      "outputs": []
    },
    {
      "cell_type": "markdown",
      "metadata": {
        "id": "GRmj11sIb6j7"
      },
      "source": [
        "197. Rising Temperature"
      ]
    },
    {
      "cell_type": "code",
      "metadata": {
        "id": "q5387DQ8b7c6"
      },
      "source": [
        "SELECT a.id\n",
        "FROM Weather a\n",
        "JOIN Weather b\n",
        "ON DATEDIFF(a.recordDate, b.recordDate) = 1\n",
        "WHERE a.temperature > b.temperature"
      ],
      "execution_count": null,
      "outputs": []
    },
    {
      "cell_type": "markdown",
      "source": [
        "176. Second Highest Salary"
      ],
      "metadata": {
        "id": "2I789YhFOaH5"
      }
    },
    {
      "cell_type": "code",
      "source": [
        "SELECT MAX(Salary) AS SecondHighestSalary\n",
        "FROM Employee\n",
        "WHERE Salary < (SELECT Max(Salary)\n",
        "                FROM Employee)"
      ],
      "metadata": {
        "id": "C4oBuu8oOa9_"
      },
      "execution_count": null,
      "outputs": []
    },
    {
      "cell_type": "markdown",
      "source": [
        "177. Nth Highest Salary"
      ],
      "metadata": {
        "id": "M99-soRYOg3Y"
      }
    },
    {
      "cell_type": "code",
      "source": [
        "CREATE FUNCTION getNthHighestSalary(N INT) RETURNS INT\n",
        "BEGIN\n",
        "\n",
        "SET N = N-1;\n",
        "  RETURN (\n",
        "      # Write your MySQL query statement below.\n",
        "      \n",
        "      IFNULL(\n",
        "      (SELECT DISTINCT Salary\n",
        "       FROM Employee\n",
        "       ORDER BY Salary DESC\n",
        "       LIMIT 1 OFFSET N), NULL\n",
        "      )\n",
        "  );\n",
        "END"
      ],
      "metadata": {
        "id": "Q0gAsbtmXGuA"
      },
      "execution_count": null,
      "outputs": []
    },
    {
      "cell_type": "markdown",
      "source": [
        "178. Rank Scores"
      ],
      "metadata": {
        "id": "T2CkXNJOEN-B"
      }
    },
    {
      "cell_type": "code",
      "source": [
        "SELECT Score, \n",
        "DENSE_RANK() OVER(ORDER BY Score DESC) AS \"Rank\" \n",
        "FROM scores"
      ],
      "metadata": {
        "id": "NM-prAGWEOQ8"
      },
      "execution_count": null,
      "outputs": []
    },
    {
      "cell_type": "markdown",
      "source": [
        "180. Consecutive Numbers\n"
      ],
      "metadata": {
        "id": "rK5990N0KyM2"
      }
    },
    {
      "cell_type": "code",
      "source": [
        "SELECT DISTINCT a.num AS ConsecutiveNums\n",
        "FROM Logs a\n",
        "JOIN Logs b\n",
        "ON a.id = b.id + 1 AND a.num = b.num\n",
        "JOIN Logs c\n",
        "ON a.id = c.id + 2 AND a.num = c.num"
      ],
      "metadata": {
        "id": "0uenfwpeKyvS"
      },
      "execution_count": null,
      "outputs": []
    },
    {
      "cell_type": "markdown",
      "source": [
        "184. Department Highest Salary"
      ],
      "metadata": {
        "id": "2HtgCZAVkvR_"
      }
    },
    {
      "cell_type": "code",
      "source": [
        "SELECT c.name AS \"Department\", a.name AS \"Employee\", a.salary AS \"Salary\"\n",
        "FROM Employee a\n",
        "JOIN (SELECT departmentId, MAX(salary) AS \"max\"\n",
        "      FROM Employee\n",
        "      GROUP BY departmentId) b\n",
        "ON a.departmentId = b.departmentId\n",
        "JOIN Department c\n",
        "ON a.departmentId = c.id\n",
        "WHERE a.salary = b.max"
      ],
      "metadata": {
        "id": "2krkYQcrkvv0"
      },
      "execution_count": null,
      "outputs": []
    },
    {
      "cell_type": "markdown",
      "source": [
        "512. Game Play Analysis II"
      ],
      "metadata": {
        "id": "pKD37jlmHWZZ"
      }
    },
    {
      "cell_type": "code",
      "source": [
        "SELECT a.player_id, a.device_id\n",
        "FROM Activity a\n",
        "JOIN (SELECT player_id, MIN(event_date) AS \"first_login\"\n",
        "      FROM Activity\n",
        "      GROUP BY player_id) b\n",
        "ON a.player_id = b.player_id\n",
        "WHERE a.event_date = b.first_login"
      ],
      "metadata": {
        "id": "LlrIWv5xHWq8"
      },
      "execution_count": null,
      "outputs": []
    },
    {
      "cell_type": "markdown",
      "source": [
        "534. Game Play Analysis III\n"
      ],
      "metadata": {
        "id": "U6eCg68sOIlb"
      }
    },
    {
      "cell_type": "code",
      "source": [
        "SELECT player_id, event_date,\n",
        "SUM(games_played) OVER(PARTITION BY player_id ORDER BY event_date ASC) AS \"games_played_so_far\"\n",
        "FROM Activity"
      ],
      "metadata": {
        "id": "TnoBWoxMOI29"
      },
      "execution_count": null,
      "outputs": []
    },
    {
      "cell_type": "markdown",
      "source": [
        "550. Game Play Analysis IV\n"
      ],
      "metadata": {
        "id": "liFikQDTXjDK"
      }
    },
    {
      "cell_type": "code",
      "source": [
        "SELECT ROUND(COUNT(b.player_id)/COUNT(a.player_id),2) AS \"fraction\"\n",
        "FROM (SELECT player_id, MIN(event_date) AS \"event_date\"\n",
        "      FROM Activity\n",
        "      GROUP BY player_id) a\n",
        "LEFT JOIN Activity b\n",
        "ON a.player_id = b.player_id AND a.event_date + 1 = b.event_date"
      ],
      "metadata": {
        "id": "4IlE8nwRXjTF"
      },
      "execution_count": null,
      "outputs": []
    },
    {
      "cell_type": "markdown",
      "source": [
        "577. Employee Bonus"
      ],
      "metadata": {
        "id": "vus4NDGYV53D"
      }
    },
    {
      "cell_type": "code",
      "source": [
        "SELECT a.name, b.bonus\n",
        "FROM Employee a\n",
        "LEFT JOIN Bonus b\n",
        "ON a.empId = b.empId\n",
        "WHERE b.bonus < 1000 OR b.bonus IS NULL"
      ],
      "metadata": {
        "id": "kb5Gbo0JV6IY"
      },
      "execution_count": null,
      "outputs": []
    },
    {
      "cell_type": "markdown",
      "source": [
        "603. Consecutive Available Seats"
      ],
      "metadata": {
        "id": "2C2wqJb1pQlW"
      }
    },
    {
      "cell_type": "code",
      "source": [
        "SELECT DISTINCT a.seat_id\n",
        "FROM Cinema a\n",
        "JOIN Cinema b\n",
        "ON ABS(a.seat_id - b.seat_id) = 1\n",
        "WHERE a.free = 1 AND b.free = 1\n",
        "ORDER BY a.seat_id ASC"
      ],
      "metadata": {
        "id": "a55KQJOrpQ2k"
      },
      "execution_count": null,
      "outputs": []
    },
    {
      "cell_type": "markdown",
      "source": [
        "607. Sales Person\n"
      ],
      "metadata": {
        "id": "sSe-9PaM6k2a"
      }
    },
    {
      "cell_type": "code",
      "source": [
        "SELECT name\n",
        "FROM Salesperson\n",
        "WHERE sales_id NOT IN (SELECT sales_id\n",
        "                       FROM Orders\n",
        "                       WHERE com_id = (SELECT com_id\n",
        "                                       FROM Company\n",
        "                                       WHERE name = \"RED\"))"
      ],
      "metadata": {
        "id": "1LWO3QPL6lGI"
      },
      "execution_count": null,
      "outputs": []
    },
    {
      "cell_type": "markdown",
      "source": [
        "610. Triangle Judgement\n"
      ],
      "metadata": {
        "id": "-p07-Ujw81Em"
      }
    },
    {
      "cell_type": "code",
      "source": [
        "SELECT x, y, z,\n",
        "CASE WHEN x+y<=z OR\n",
        "          x+z<=y OR\n",
        "          y+z<=x\n",
        "     THEN 'No'\n",
        "     ELSE 'Yes'\n",
        "END AS 'triangle'\n",
        "FROM triangle;"
      ],
      "metadata": {
        "id": "5grnChM281T_"
      },
      "execution_count": null,
      "outputs": []
    },
    {
      "cell_type": "markdown",
      "source": [
        "570. Managers with at Least 5 Direct Reports\n"
      ],
      "metadata": {
        "id": "52QIBKXsAEEs"
      }
    },
    {
      "cell_type": "code",
      "source": [
        "SELECT a.name\n",
        "FROM Employee a\n",
        "JOIN\n",
        "(SELECT managerId, COUNT(managerId)\n",
        "FROM Employee \n",
        "GROUP BY managerId\n",
        "HAVING managerId IS NOT NULL AND COUNT(managerId) > 4) b\n",
        "ON a.id = b.managerId"
      ],
      "metadata": {
        "id": "-yzSRUbqAESu"
      },
      "execution_count": null,
      "outputs": []
    },
    {
      "cell_type": "markdown",
      "source": [
        "612. Shortest Distance in a Plane"
      ],
      "metadata": {
        "id": "16JRHvnNF-dS"
      }
    },
    {
      "cell_type": "code",
      "source": [
        "select ROUND(SQRT(min((p1.x-p2.x)*(p1.x-p2.x)+(p1.y-p2.y)*(p1.y-p2.y))),2) as shortest\n",
        "from point2d p1, point2d p2\n",
        "where p1.x <> p2.x or p1.y <> p2.y"
      ],
      "metadata": {
        "id": "LZpNIq2_F-qI"
      },
      "execution_count": null,
      "outputs": []
    },
    {
      "cell_type": "code",
      "source": [
        "with t as    \n",
        "    (select *, row_number() over() row_n\n",
        "    from point_2d)\n",
        "\n",
        "select round(sqrt(min(power((a.x-b.x),2) + power((a.y-b.y),2))), 2) shortest\n",
        "from t a\n",
        "join t b on a.row_n>b.row_n"
      ],
      "metadata": {
        "id": "RtVx7GNBGobE"
      },
      "execution_count": null,
      "outputs": []
    },
    {
      "cell_type": "markdown",
      "source": [
        "626. Exchange Seats"
      ],
      "metadata": {
        "id": "UDGbx04L9fkm"
      }
    },
    {
      "cell_type": "code",
      "source": [
        "select if(id = (select max(id) from seat) and id%2 = 1, id, if(id % 2 = 0, id-1, id+1)) as id, student\n",
        "from seat\n",
        "order by id asc"
      ],
      "metadata": {
        "id": "OTrfsgKj9f0l"
      },
      "execution_count": null,
      "outputs": []
    },
    {
      "cell_type": "markdown",
      "source": [
        "1045. Customers Who Bought All Products\n"
      ],
      "metadata": {
        "id": "_Xr0IWSIZyTN"
      }
    },
    {
      "cell_type": "code",
      "source": [
        "Select customer_id\n",
        "from customer\n",
        "group by customer_id\n",
        "having count(distinct(product_key)) = (select count(product_key) from product)"
      ],
      "metadata": {
        "id": "AKVYziDuZyiS"
      },
      "execution_count": null,
      "outputs": []
    },
    {
      "cell_type": "markdown",
      "source": [
        "1126. Active Businesses\n"
      ],
      "metadata": {
        "id": "abL87pLnkFdH"
      }
    },
    {
      "cell_type": "code",
      "source": [
        "select a.business_id\n",
        "from events a\n",
        "join (select distinct event_type, avg(occurences) over(partition by event_type) as \"avg\"\n",
        "from events) b\n",
        "on a.event_type = b.event_type\n",
        "group by a.business_id\n",
        "having sum(a.occurences > b.avg) > 1"
      ],
      "metadata": {
        "id": "7R7TDPN9kFtO"
      },
      "execution_count": null,
      "outputs": []
    },
    {
      "cell_type": "markdown",
      "source": [
        "627. Swap Salary\n"
      ],
      "metadata": {
        "id": "Dj9ubSJknBuJ"
      }
    },
    {
      "cell_type": "code",
      "source": [
        "UPDATE salary SET sex = IF(sex = 'm', 'f', 'm')"
      ],
      "metadata": {
        "id": "orZlR4N5nB-f"
      },
      "execution_count": null,
      "outputs": []
    },
    {
      "cell_type": "markdown",
      "source": [
        "613. Shortest Distance in a Line"
      ],
      "metadata": {
        "id": "eC_hR-e__Kjn"
      }
    },
    {
      "cell_type": "code",
      "source": [
        "select min(abs(p1.x - p2.x)) as shortest\n",
        "from point p1, point p2\n",
        "where p1.x <> p2.x"
      ],
      "metadata": {
        "id": "tN4Ji7t0_K4M"
      },
      "execution_count": null,
      "outputs": []
    },
    {
      "cell_type": "markdown",
      "source": [
        "1084. Sales Analysis III\n"
      ],
      "metadata": {
        "id": "DloIEGXRjVpd"
      }
    },
    {
      "cell_type": "code",
      "source": [
        "SELECT product_id, product_name \n",
        "FROM Product \n",
        "WHERE product_id IN\n",
        "(SELECT product_id\n",
        "FROM Sales\n",
        "GROUP BY product_id\n",
        "HAVING MIN(sale_date) >= '2019-01-01' AND MAX(sale_date) <= '2019-03-31')"
      ],
      "metadata": {
        "id": "lnPFb4v2jV7f"
      },
      "execution_count": null,
      "outputs": []
    },
    {
      "cell_type": "markdown",
      "source": [
        "1113. Reported Posts\n"
      ],
      "metadata": {
        "id": "KtOMx2gGXNfw"
      }
    },
    {
      "cell_type": "code",
      "source": [
        "select a.extra as \"report_reason\", count(a.extra) as \"report_count\"\n",
        "from\n",
        "(select distinct extra, post_id\n",
        "from actions\n",
        "where action_date = '2019-07-04' and extra is not null and action = \"report\") as a\n",
        "group by a.extra"
      ],
      "metadata": {
        "id": "00NbRRQiXN23"
      },
      "execution_count": null,
      "outputs": []
    },
    {
      "cell_type": "markdown",
      "source": [
        "597. Friend Requests I: Overall Acceptance Rate"
      ],
      "metadata": {
        "id": "jvxVeBGKh1my"
      }
    },
    {
      "cell_type": "code",
      "source": [
        "select ifnull(round(count(distinct requester_id, accepter_id)/count(distinct sender_id, send_to_id),2),0.00) as \"accept_rate\"\n",
        "from requestaccepted, friendrequest"
      ],
      "metadata": {
        "id": "UmxfUEp8h16Q"
      },
      "execution_count": null,
      "outputs": []
    },
    {
      "cell_type": "markdown",
      "source": [
        "1098. Unpopular Books"
      ],
      "metadata": {
        "id": "8xZqbCXLysMW"
      }
    },
    {
      "cell_type": "code",
      "source": [
        "select a.book_id, a.name\n",
        "from\n",
        "(select book_id, name\n",
        "from books\n",
        "where available_from < \"2019-05-23\") a\n",
        "left join \n",
        "(select book_id, sum(quantity) as qty\n",
        "from orders\n",
        "where dispatch_date > \"2018-06-23\"\n",
        "group by book_id) b\n",
        "on a.book_id = b.book_id\n",
        "where ifnull(b.qty,0) < 10 "
      ],
      "metadata": {
        "id": "MqpM6r4bysg0"
      },
      "execution_count": null,
      "outputs": []
    },
    {
      "cell_type": "markdown",
      "source": [
        "608. Tree Node\n"
      ],
      "metadata": {
        "id": "PVJTtZxBTtYY"
      }
    },
    {
      "cell_type": "code",
      "source": [
        "select id, \n",
        "case \n",
        "when p_id is null then \"Root\" \n",
        "when id not in (select p_id from tree where p_id is not null) then \"Leaf\"\n",
        "else \"Inner\" \n",
        "end as \"type\"\n",
        "from tree"
      ],
      "metadata": {
        "id": "bG-TYd6xTtzi"
      },
      "execution_count": null,
      "outputs": []
    },
    {
      "cell_type": "markdown",
      "source": [
        "1179. Reformat Department Table\n"
      ],
      "metadata": {
        "id": "2uBi4cHglVAt"
      }
    },
    {
      "cell_type": "code",
      "source": [
        "select id,\n",
        "sum(case when month = \"Jan\" then revenue else null end) as \"Jan_Revenue\",\n",
        "sum(case when month = \"Feb\" then revenue else null end) as \"Feb_Revenue\",\n",
        "sum(case when month = \"Mar\" then revenue else null end) as \"Mar_Revenue\",\n",
        "sum(case when month = \"Apr\" then revenue else null end) as \"Apr_Revenue\",\n",
        "sum(case when month = \"May\" then revenue else null end) as \"May_Revenue\",\n",
        "sum(case when month = \"Jun\" then revenue else null end) as \"Jun_Revenue\",\n",
        "sum(case when month = \"Jul\" then revenue else null end) as \"Jul_Revenue\",\n",
        "sum(case when month = \"Aug\" then revenue else null end) as \"Aug_Revenue\",\n",
        "sum(case when month = \"Sep\" then revenue else null end) as \"Sep_Revenue\",\n",
        "sum(case when month = \"Oct\" then revenue else null end) as \"Oct_Revenue\",\n",
        "sum(case when month = \"Nov\" then revenue else null end) as \"Nov_Revenue\",\n",
        "sum(case when month = \"Dec\" then revenue else null end) as \"Dec_Revenue\"\n",
        "from department\n",
        "group by id"
      ],
      "metadata": {
        "id": "MXb1gI-llVTD"
      },
      "execution_count": null,
      "outputs": []
    },
    {
      "cell_type": "markdown",
      "source": [
        "1193. Monthly Transactions I\n"
      ],
      "metadata": {
        "id": "ah0-T7JEcvJV"
      }
    },
    {
      "cell_type": "code",
      "source": [
        "select date_format(trans_date, '%Y-%m') as \"month\", country, count(state) as trans_count, sum(case when state = \"approved\" then 1 else 0 end) as approved_count, sum(amount) as trans_total_amount, sum(case when state = \"approved\" then amount else 0 end) as approved_total_amount\n",
        "from transactions\n",
        "group by month, country"
      ],
      "metadata": {
        "id": "_z03-nkkcvhv"
      },
      "execution_count": null,
      "outputs": []
    },
    {
      "cell_type": "markdown",
      "source": [
        ""
      ],
      "metadata": {
        "id": "qeI41gzRlKth"
      }
    },
    {
      "cell_type": "markdown",
      "source": [
        "#Moving Average"
      ],
      "metadata": {
        "id": "Qf8Ml5EEr5Ui"
      }
    },
    {
      "cell_type": "code",
      "source": [
        "with tmp as\n",
        "(select visited_on, sum(amount) as day_sum\n",
        "from customer\n",
        "group by visited_on)\n",
        "\n",
        "select a.visited_on, sum(b.day_sum) as amount, round(sum(b.day_sum)/7,2) as average_amount\n",
        "from tmp a, tmp b\n",
        "where datediff(a.visited_on, b.visited_on) in (0,1,2,3,4,5,6)\n",
        "group by a.visited_on\n",
        "having count(b.visited_on) = 7\n",
        "order by a.visited_on"
      ],
      "metadata": {
        "id": "Fuhs11LUr95a"
      },
      "execution_count": null,
      "outputs": []
    }
  ]
}